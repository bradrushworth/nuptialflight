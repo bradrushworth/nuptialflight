{
 "cells": [
  {
   "cell_type": "code",
   "execution_count": 98,
   "metadata": {
    "id": "Qeyu04KG9hi5"
   },
   "outputs": [],
   "source": [
    "#pip install auto-sklearn"
   ]
  },
  {
   "cell_type": "code",
   "execution_count": 99,
   "metadata": {
    "id": "1LXeDWtBi8RI"
   },
   "outputs": [],
   "source": [
    "import pandas as pd\n",
    "import numpy as np\n",
    "import matplotlib.pyplot as plt\n",
    "import seaborn as sns\n",
    "from sklearn.model_selection import train_test_split\n",
    "from pprint import pprint"
   ]
  },
  {
   "cell_type": "markdown",
   "metadata": {
    "id": "EzCvk2qk_SMm"
   },
   "source": [
    "# **Ant Nuptial Flight Predictor**\n",
    "---\n",
    "\n"
   ]
  },
  {
   "cell_type": "code",
   "execution_count": 100,
   "metadata": {},
   "outputs": [
    {
     "name": "stdout",
     "output_type": "stream",
     "text": [
      "Requirement already satisfied: python-arango in /usr/local/lib/python3.8/dist-packages (7.5.3)\n",
      "Requirement already satisfied: sklite in /usr/local/lib/python3.8/dist-packages (0.0.2)\n",
      "Requirement already satisfied: m2cgen in /usr/local/lib/python3.8/dist-packages (0.10.0)\n",
      "Requirement already satisfied: pipelineprofiler in /usr/local/lib/python3.8/dist-packages (0.1.18)\n",
      "Requirement already satisfied: xgboost in /usr/local/lib/python3.8/dist-packages (1.7.2)\n",
      "Requirement already satisfied: urllib3>=1.26.0 in /usr/local/lib/python3.8/dist-packages (from python-arango) (1.26.12)\n",
      "Requirement already satisfied: requests-toolbelt in /usr/local/lib/python3.8/dist-packages (from python-arango) (0.10.1)\n",
      "Requirement already satisfied: requests in /usr/local/lib/python3.8/dist-packages (from python-arango) (2.28.1)\n",
      "Requirement already satisfied: setuptools>=42 in /usr/local/lib/python3.8/dist-packages (from python-arango) (65.3.0)\n",
      "Requirement already satisfied: PyJWT in /usr/local/lib/python3.8/dist-packages (from python-arango) (2.6.0)\n",
      "Requirement already satisfied: numpy in /usr/local/lib/python3.8/dist-packages (from m2cgen) (1.23.3)\n",
      "Requirement already satisfied: networkx in /usr/local/lib/python3.8/dist-packages (from pipelineprofiler) (2.8.8)\n",
      "Requirement already satisfied: scikit-learn in /usr/local/lib/python3.8/dist-packages (from pipelineprofiler) (0.24.2)\n",
      "Requirement already satisfied: notebook in /usr/local/lib/python3.8/dist-packages (from pipelineprofiler) (6.4.12)\n",
      "Requirement already satisfied: scipy in /usr/local/lib/python3.8/dist-packages (from pipelineprofiler) (1.9.1)\n",
      "Requirement already satisfied: python-dateutil in /usr/local/lib/python3.8/dist-packages (from pipelineprofiler) (2.8.2)\n",
      "Requirement already satisfied: Send2Trash>=1.8.0 in /usr/local/lib/python3.8/dist-packages (from notebook->pipelineprofiler) (1.8.0)\n",
      "Requirement already satisfied: traitlets>=4.2.1 in /usr/local/lib/python3.8/dist-packages (from notebook->pipelineprofiler) (5.4.0)\n",
      "Requirement already satisfied: argon2-cffi in /usr/local/lib/python3.8/dist-packages (from notebook->pipelineprofiler) (21.3.0)\n",
      "Requirement already satisfied: pyzmq>=17 in /usr/local/lib/python3.8/dist-packages (from notebook->pipelineprofiler) (24.0.0)\n",
      "Requirement already satisfied: jupyter-client>=5.3.4 in /usr/local/lib/python3.8/dist-packages (from notebook->pipelineprofiler) (7.3.4)\n",
      "Requirement already satisfied: nest-asyncio>=1.5 in /usr/local/lib/python3.8/dist-packages (from notebook->pipelineprofiler) (1.5.5)\n",
      "Requirement already satisfied: jupyter-core>=4.6.1 in /usr/local/lib/python3.8/dist-packages (from notebook->pipelineprofiler) (4.11.1)\n",
      "Requirement already satisfied: ipython-genutils in /usr/local/lib/python3.8/dist-packages (from notebook->pipelineprofiler) (0.2.0)\n",
      "Requirement already satisfied: nbconvert>=5 in /usr/local/lib/python3.8/dist-packages (from notebook->pipelineprofiler) (7.0.0)\n",
      "Requirement already satisfied: ipykernel in /usr/local/lib/python3.8/dist-packages (from notebook->pipelineprofiler) (6.15.3)\n",
      "Requirement already satisfied: prometheus-client in /usr/local/lib/python3.8/dist-packages (from notebook->pipelineprofiler) (0.14.1)\n",
      "Requirement already satisfied: tornado>=6.1 in /usr/local/lib/python3.8/dist-packages (from notebook->pipelineprofiler) (6.1)\n",
      "Requirement already satisfied: terminado>=0.8.3 in /usr/local/lib/python3.8/dist-packages (from notebook->pipelineprofiler) (0.15.0)\n",
      "Requirement already satisfied: nbformat in /usr/local/lib/python3.8/dist-packages (from notebook->pipelineprofiler) (5.5.0)\n",
      "Requirement already satisfied: jinja2 in /usr/local/lib/python3.8/dist-packages (from notebook->pipelineprofiler) (3.1.2)\n",
      "Requirement already satisfied: six>=1.5 in /usr/local/lib/python3.8/dist-packages (from python-dateutil->pipelineprofiler) (1.16.0)\n",
      "Requirement already satisfied: charset-normalizer<3,>=2 in /usr/local/lib/python3.8/dist-packages (from requests->python-arango) (2.1.1)\n",
      "Requirement already satisfied: certifi>=2017.4.17 in /usr/local/lib/python3.8/dist-packages (from requests->python-arango) (2022.9.14)\n",
      "Requirement already satisfied: idna<4,>=2.5 in /usr/local/lib/python3.8/dist-packages (from requests->python-arango) (3.4)\n",
      "Requirement already satisfied: threadpoolctl>=2.0.0 in /usr/local/lib/python3.8/dist-packages (from scikit-learn->pipelineprofiler) (3.1.0)\n",
      "Requirement already satisfied: joblib>=0.11 in /usr/local/lib/python3.8/dist-packages (from scikit-learn->pipelineprofiler) (1.2.0)\n",
      "Requirement already satisfied: entrypoints in /usr/local/lib/python3.8/dist-packages (from jupyter-client>=5.3.4->notebook->pipelineprofiler) (0.4)\n",
      "Requirement already satisfied: importlib-metadata>=3.6 in /usr/local/lib/python3.8/dist-packages (from nbconvert>=5->notebook->pipelineprofiler) (4.12.0)\n",
      "Requirement already satisfied: lxml in /usr/local/lib/python3.8/dist-packages (from nbconvert>=5->notebook->pipelineprofiler) (4.9.1)\n",
      "Requirement already satisfied: defusedxml in /usr/local/lib/python3.8/dist-packages (from nbconvert>=5->notebook->pipelineprofiler) (0.7.1)\n",
      "Requirement already satisfied: mistune<3,>=2.0.3 in /usr/local/lib/python3.8/dist-packages (from nbconvert>=5->notebook->pipelineprofiler) (2.0.4)\n",
      "Requirement already satisfied: nbclient>=0.5.0 in /usr/local/lib/python3.8/dist-packages (from nbconvert>=5->notebook->pipelineprofiler) (0.6.8)\n",
      "Requirement already satisfied: beautifulsoup4 in /usr/local/lib/python3.8/dist-packages (from nbconvert>=5->notebook->pipelineprofiler) (4.11.1)\n",
      "Requirement already satisfied: tinycss2 in /usr/local/lib/python3.8/dist-packages (from nbconvert>=5->notebook->pipelineprofiler) (1.1.1)\n",
      "Requirement already satisfied: pandocfilters>=1.4.1 in /usr/local/lib/python3.8/dist-packages (from nbconvert>=5->notebook->pipelineprofiler) (1.5.0)\n",
      "Requirement already satisfied: bleach in /usr/local/lib/python3.8/dist-packages (from nbconvert>=5->notebook->pipelineprofiler) (5.0.1)\n",
      "Requirement already satisfied: jupyterlab-pygments in /usr/local/lib/python3.8/dist-packages (from nbconvert>=5->notebook->pipelineprofiler) (0.2.2)\n",
      "Requirement already satisfied: markupsafe>=2.0 in /usr/local/lib/python3.8/dist-packages (from nbconvert>=5->notebook->pipelineprofiler) (2.1.1)\n",
      "Requirement already satisfied: packaging in /usr/local/lib/python3.8/dist-packages (from nbconvert>=5->notebook->pipelineprofiler) (21.3)\n",
      "Requirement already satisfied: pygments>=2.4.1 in /usr/local/lib/python3.8/dist-packages (from nbconvert>=5->notebook->pipelineprofiler) (2.13.0)\n",
      "Requirement already satisfied: jsonschema>=2.6 in /usr/local/lib/python3.8/dist-packages (from nbformat->notebook->pipelineprofiler) (4.16.0)\n",
      "Requirement already satisfied: fastjsonschema in /usr/local/lib/python3.8/dist-packages (from nbformat->notebook->pipelineprofiler) (2.16.2)\n",
      "Requirement already satisfied: ptyprocess in /usr/local/lib/python3.8/dist-packages (from terminado>=0.8.3->notebook->pipelineprofiler) (0.7.0)\n",
      "Requirement already satisfied: argon2-cffi-bindings in /usr/local/lib/python3.8/dist-packages (from argon2-cffi->notebook->pipelineprofiler) (21.2.0)\n",
      "Requirement already satisfied: matplotlib-inline>=0.1 in /usr/local/lib/python3.8/dist-packages (from ipykernel->notebook->pipelineprofiler) (0.1.6)\n",
      "Requirement already satisfied: debugpy>=1.0 in /usr/local/lib/python3.8/dist-packages (from ipykernel->notebook->pipelineprofiler) (1.6.3)\n",
      "Requirement already satisfied: psutil in /usr/local/lib/python3.8/dist-packages (from ipykernel->notebook->pipelineprofiler) (5.9.2)\n",
      "Requirement already satisfied: ipython>=7.23.1 in /usr/local/lib/python3.8/dist-packages (from ipykernel->notebook->pipelineprofiler) (8.5.0)\n",
      "Requirement already satisfied: zipp>=0.5 in /usr/local/lib/python3.8/dist-packages (from importlib-metadata>=3.6->nbconvert>=5->notebook->pipelineprofiler) (3.8.1)\n",
      "Requirement already satisfied: pickleshare in /usr/local/lib/python3.8/dist-packages (from ipython>=7.23.1->ipykernel->notebook->pipelineprofiler) (0.7.5)\n",
      "Requirement already satisfied: prompt-toolkit<3.1.0,>3.0.1 in /usr/local/lib/python3.8/dist-packages (from ipython>=7.23.1->ipykernel->notebook->pipelineprofiler) (3.0.31)\n",
      "Requirement already satisfied: pexpect>4.3 in /usr/local/lib/python3.8/dist-packages (from ipython>=7.23.1->ipykernel->notebook->pipelineprofiler) (4.8.0)\n",
      "Requirement already satisfied: jedi>=0.16 in /usr/local/lib/python3.8/dist-packages (from ipython>=7.23.1->ipykernel->notebook->pipelineprofiler) (0.18.1)\n",
      "Requirement already satisfied: stack-data in /usr/local/lib/python3.8/dist-packages (from ipython>=7.23.1->ipykernel->notebook->pipelineprofiler) (0.5.0)\n",
      "Requirement already satisfied: decorator in /usr/local/lib/python3.8/dist-packages (from ipython>=7.23.1->ipykernel->notebook->pipelineprofiler) (5.1.1)\n",
      "Requirement already satisfied: backcall in /usr/local/lib/python3.8/dist-packages (from ipython>=7.23.1->ipykernel->notebook->pipelineprofiler) (0.2.0)\n",
      "Requirement already satisfied: importlib-resources>=1.4.0 in /usr/local/lib/python3.8/dist-packages (from jsonschema>=2.6->nbformat->notebook->pipelineprofiler) (5.9.0)\n",
      "Requirement already satisfied: attrs>=17.4.0 in /usr/local/lib/python3.8/dist-packages (from jsonschema>=2.6->nbformat->notebook->pipelineprofiler) (22.1.0)\n",
      "Requirement already satisfied: pyrsistent!=0.17.0,!=0.17.1,!=0.17.2,>=0.14.0 in /usr/local/lib/python3.8/dist-packages (from jsonschema>=2.6->nbformat->notebook->pipelineprofiler) (0.18.1)\n",
      "Requirement already satisfied: pkgutil-resolve-name>=1.3.10 in /usr/local/lib/python3.8/dist-packages (from jsonschema>=2.6->nbformat->notebook->pipelineprofiler) (1.3.10)\n",
      "Requirement already satisfied: cffi>=1.0.1 in /usr/local/lib/python3.8/dist-packages (from argon2-cffi-bindings->argon2-cffi->notebook->pipelineprofiler) (1.15.1)\n",
      "Requirement already satisfied: soupsieve>1.2 in /usr/local/lib/python3.8/dist-packages (from beautifulsoup4->nbconvert>=5->notebook->pipelineprofiler) (2.3.2.post1)\n",
      "Requirement already satisfied: webencodings in /usr/local/lib/python3.8/dist-packages (from bleach->nbconvert>=5->notebook->pipelineprofiler) (0.5.1)\n",
      "Requirement already satisfied: pyparsing!=3.0.5,>=2.0.2 in /usr/local/lib/python3.8/dist-packages (from packaging->nbconvert>=5->notebook->pipelineprofiler) (3.0.9)\n",
      "Requirement already satisfied: pycparser in /usr/local/lib/python3.8/dist-packages (from cffi>=1.0.1->argon2-cffi-bindings->argon2-cffi->notebook->pipelineprofiler) (2.21)\n",
      "Requirement already satisfied: parso<0.9.0,>=0.8.0 in /usr/local/lib/python3.8/dist-packages (from jedi>=0.16->ipython>=7.23.1->ipykernel->notebook->pipelineprofiler) (0.8.3)\n",
      "Requirement already satisfied: wcwidth in /usr/local/lib/python3.8/dist-packages (from prompt-toolkit<3.1.0,>3.0.1->ipython>=7.23.1->ipykernel->notebook->pipelineprofiler) (0.2.5)\n",
      "Requirement already satisfied: asttokens in /usr/local/lib/python3.8/dist-packages (from stack-data->ipython>=7.23.1->ipykernel->notebook->pipelineprofiler) (2.0.8)\n",
      "Requirement already satisfied: executing in /usr/local/lib/python3.8/dist-packages (from stack-data->ipython>=7.23.1->ipykernel->notebook->pipelineprofiler) (1.0.0)\n",
      "Requirement already satisfied: pure-eval in /usr/local/lib/python3.8/dist-packages (from stack-data->ipython>=7.23.1->ipykernel->notebook->pipelineprofiler) (0.2.2)\n"
     ]
    }
   ],
   "source": [
    "# Install a pip package in the current Jupyter kernel\n",
    "import sys\n",
    "!{sys.executable} -m pip install --disable-pip-version-check --root-user-action=ignore python-arango sklite m2cgen pipelineprofiler xgboost"
   ]
  },
  {
   "cell_type": "code",
   "execution_count": 101,
   "metadata": {},
   "outputs": [],
   "source": [
    "from math import log10, floor\n",
    "def round_sig(x, sig=2):\n",
    "    if x == 0: return x\n",
    "    return round(x, sig-int(floor(log10(abs(x))))-1)"
   ]
  },
  {
   "cell_type": "code",
   "execution_count": 102,
   "metadata": {},
   "outputs": [
    {
     "name": "stdout",
     "output_type": "stream",
     "text": [
      "{'f': {'_key': '8181965', '_id': 'flights/8181965', '_rev': '_e5XJLfC---', 'flight': 'yes', 'weather': {'daily': [{'dt': 1665190800, 'sunrise': 1665171041, 'sunset': 1665216671, 'moonrise': 1665210360, 'moonset': 1665168240, 'moon_phase': 0.43, 'temp': {'day': 16.37, 'min': 8.35, 'max': 16.37, 'night': 8.35, 'eve': 13.05, 'morn': 10.38}, 'feels_like': {'day': 16.07, 'night': 6.84, 'eve': 12.79, 'morn': 10.06}, 'pressure': 1014, 'humidity': 77, 'dew_point': 11.95, 'wind_speed': 5.64, 'wind_deg': 319, 'wind_gust': 7.2, 'weather': [{'id': 501, 'main': 'Rain', 'description': 'moderate rain', 'icon': '10d'}], 'clouds': 73, 'pop': 1, 'rain': 19.78, 'uvi': 6.05}, {'dt': 1665277200, 'sunrise': 1665257358, 'sunset': 1665303120, 'moonrise': 1665300720, 'moonset': 1665256320, 'moon_phase': 0.47, 'temp': {'day': 9.89, 'min': 3.89, 'max': 11.33, 'night': 4.66, 'eve': 10.12, 'morn': 4.15}, 'feels_like': {'day': 9.89, 'night': 4.66, 'eve': 9.46, 'morn': 2.73}, 'pressure': 1021, 'humidity': 66, 'dew_point': 3.71, 'wind_speed': 4.26, 'wind_deg': 175, 'wind_gust': 10.6, 'weather': [{'id': 501, 'main': 'Rain', 'description': 'moderate rain', 'icon': '10d'}], 'clouds': 100, 'pop': 1, 'rain': 20.15, 'uvi': 5.73}, {'dt': 1665363600, 'sunrise': 1665343676, 'sunset': 1665389569, 'moonrise': 1665391020, 'moonset': 1665344400, 'moon_phase': 0.5, 'temp': {'day': 12.9, 'min': 4.53, 'max': 14.84, 'night': 6.6, 'eve': 13.3, 'morn': 4.53}, 'feels_like': {'day': 11.73, 'night': 4.69, 'eve': 12.49, 'morn': 4.53}, 'pressure': 1025, 'humidity': 57, 'dew_point': 4.43, 'wind_speed': 3.56, 'wind_deg': 79, 'wind_gust': 8.53, 'weather': [{'id': 803, 'main': 'Clouds', 'description': 'broken clouds', 'icon': '04d'}], 'clouds': 73, 'pop': 0.03, 'rain': None, 'uvi': 8.65}, {'dt': 1665450000, 'sunrise': 1665429994, 'sunset': 1665476018, 'moonrise': 1665481260, 'moonset': 1665432480, 'moon_phase': 0.54, 'temp': {'day': 13.07, 'min': 6.14, 'max': 15.48, 'night': 6.58, 'eve': 15.43, 'morn': 6.31}, 'feels_like': {'day': 12.05, 'night': 5.22, 'eve': 14.6, 'morn': 5.07}, 'pressure': 1024, 'humidity': 62, 'dew_point': 5.65, 'wind_speed': 3.67, 'wind_deg': 80, 'wind_gust': 9.07, 'weather': [{'id': 804, 'main': 'Clouds', 'description': 'overcast clouds', 'icon': '04d'}], 'clouds': 90, 'pop': 0, 'rain': None, 'uvi': 7.16}, {'dt': 1665536400, 'sunrise': 1665516313, 'sunset': 1665562467, 'moonrise': 1665571560, 'moonset': 1665520620, 'moon_phase': 0.57, 'temp': {'day': 13.9, 'min': 4.83, 'max': 16.67, 'night': 11.03, 'eve': 13.27, 'morn': 4.83}, 'feels_like': {'day': 13.07, 'night': 10.7, 'eve': 12.92, 'morn': 3.23}, 'pressure': 1022, 'humidity': 66, 'dew_point': 7.43, 'wind_speed': 2.78, 'wind_deg': 73, 'wind_gust': 6.53, 'weather': [{'id': 500, 'main': 'Rain', 'description': 'light rain', 'icon': '10d'}], 'clouds': 68, 'pop': 0.39, 'rain': 0.5, 'uvi': 8.61}, {'dt': 1665622800, 'sunrise': 1665602633, 'sunset': 1665648917, 'moonrise': 1665661680, 'moonset': 1665608940, 'moon_phase': 0.61, 'temp': {'day': 10.87, 'min': 10.32, 'max': 11.84, 'night': 11.84, 'eve': 10.87, 'morn': 10.32}, 'feels_like': {'day': 10.52, 'night': 11.59, 'eve': 10.55, 'morn': 9.94}, 'pressure': 1017, 'humidity': 96, 'dew_point': 9.94, 'wind_speed': 6.61, 'wind_deg': 42, 'wind_gust': 15.48, 'weather': [{'id': 502, 'main': 'Rain', 'description': 'heavy intensity rain', 'icon': '10d'}], 'clouds': 100, 'pop': 1, 'rain': 33.71, 'uvi': 9}, {'dt': 1665709200, 'sunrise': 1665688953, 'sunset': 1665735368, 'moonrise': 1665751800, 'moonset': 1665697560, 'moon_phase': 0.64, 'temp': {'day': 10.73, 'min': 5.66, 'max': 12.57, 'night': 5.66, 'eve': 10.23, 'morn': 11.05}, 'feels_like': {'day': 9.76, 'night': 3.2, 'eve': 9.53, 'morn': 10.74}, 'pressure': 1009, 'humidity': 73, 'dew_point': 5.71, 'wind_speed': 8.21, 'wind_deg': 296, 'wind_gust': 15.67, 'weather': [{'id': 502, 'main': 'Rain', 'description': 'heavy intensity rain', 'icon': '10d'}], 'clouds': 68, 'pop': 1, 'rain': 26.54, 'uvi': 9}, {'dt': 1665795600, 'sunrise': 1665775274, 'sunset': 1665821819, 'moonrise': 0, 'moonset': 1665786420, 'moon_phase': 0.67, 'temp': {'day': 13.14, 'min': 4.28, 'max': 16.41, 'night': 6.59, 'eve': 15.27, 'morn': 4.28}, 'feels_like': {'day': 12.26, 'night': 6.59, 'eve': 14.63, 'morn': 2.46}, 'pressure': 1019, 'humidity': 67, 'dew_point': 6.77, 'wind_speed': 5.17, 'wind_deg': 325, 'wind_gust': 8.69, 'weather': [{'id': 801, 'main': 'Clouds', 'description': 'few clouds', 'icon': '02d'}], 'clouds': 20, 'pop': 0, 'rain': None, 'uvi': 9}], 'lat': -35.1968, 'lon': 149.157, 'timezone': 'Australia/Sydney', 'timezone_offset': 39600}, 'size': 'small'}}\n",
      "6537\n",
      "{'target': True, 'lat': -35.0, 'lon': 149.0, 'dayOfYear': 281, 'day': 16.37, 'windSpeed': 5.64, 'humid': 77, 'cloud': 73, 'press': 1014}\n"
     ]
    }
   ],
   "source": [
    "from arango import ArangoClient\n",
    "from datetime import datetime\n",
    "\n",
    "# Initialize the ArangoDB client.\n",
    "client = ArangoClient(hosts='http://arangodb:8529')\n",
    "\n",
    "# Connect to \"_system\" database as root user.\n",
    "# This returns an API wrapper for \"_system\" database.\n",
    "# sys_db = client.db('_system', username='root', password='passwd')\n",
    "\n",
    "# Connect to \"nuptialFlight\" database as root user.\n",
    "# This returns an API wrapper for \"nuptialFlight\" database.\n",
    "db = client.db('nuptialFlight', username='notebook', password='g54g54gwggsvd')\n",
    "\n",
    "# Execute an AQL query. This returns a result cursor.\n",
    "cursor = db.aql.execute(\n",
    "    '''\n",
    "FOR f IN flights\n",
    "RETURN {\n",
    "    f\n",
    "}\n",
    "    ''')\n",
    "\n",
    "# Normalise all values to between 0 and 1\n",
    "def normalise(low, high, value):\n",
    "    return (max(low, min(high, value)) - low) / (high - low)\n",
    "\n",
    "\n",
    "count = 0\n",
    "#dataset = []\n",
    "features = []\n",
    "for row in cursor:\n",
    "    if count == 0: print(row)\n",
    "    count = count + 1\n",
    "    #dataset.append(row['f'])\n",
    "    features.append({\n",
    "        #'_id': row['f']['_id'],\n",
    "        'target': row['f']['flight'] == 'yes',\n",
    "        #'target': row['f'].get('size', 'none'),\n",
    "        'lat': round(row['f']['weather']['lat'], 0),\n",
    "        'lon': round(row['f']['weather']['lon'], 0),\n",
    "        'dayOfYear': datetime.fromtimestamp(row['f']['weather']['daily'][0]['dt']).timetuple().tm_yday, # returns 1 for January 1st,\n",
    "        #'month': datetime.fromtimestamp(row['f']['weather']['daily'][0]['dt']).timetuple().tm_mon,\n",
    "        #'season': datetime.fromtimestamp(row['f']['weather']['daily'][0]['dt']).timetuple().tm_mon % 12 // 3 + 1,\n",
    "        'day': row['f']['weather']['daily'][0]['temp']['day'],\n",
    "        #'eve': row['f']['weather']['daily'][0]['temp']['eve'],\n",
    "        #'min': row['f']['weather']['daily'][0]['temp']['min'],\n",
    "        #'max': row['f']['weather']['daily'][0]['temp']['max'],\n",
    "        #'night': row['f']['weather']['daily'][0]['temp']['night'],\n",
    "        #'morn': row['f']['weather']['daily'][0]['temp']['morn'],\n",
    "        #'feelsLike': row['f']['weather']['daily'][0]['feels_like']['day'],\n",
    "        'windSpeed': row['f']['weather']['daily'][0]['wind_speed'],\n",
    "        #'windGust': row['f']['weather']['daily'][0]['wind_gust'],\n",
    "        #'rain': row['f']['weather']['daily'][0]['pop'],\n",
    "        'humid': row['f']['weather']['daily'][0]['humidity'],\n",
    "        'cloud': row['f']['weather']['daily'][0]['clouds'],\n",
    "        'press': row['f']['weather']['daily'][0]['pressure'],\n",
    "        #'dewPoint': row['f']['weather']['daily'][0]['dew_point'],\n",
    "        #'description': row['f']['weather']['daily'][0]['weather'][0]['description'],\n",
    "        #'uvi': row['f']['weather']['daily'][0]['uvi'],\n",
    "        \n",
    "        #'day': normalise(10, 30, row['f']['weather']['daily'][0]['temp']['day']),\n",
    "        #'eve': normalise(10, 30, row['f']['weather']['daily'][0]['temp']['eve']),\n",
    "        #'min': normalise(5, 25, row['f']['weather']['daily'][0]['temp']['min']),\n",
    "        #'max': normalise(15, 35, row['f']['weather']['daily'][0]['temp']['max']),\n",
    "        #'night': normalise(5, 25, row['f']['weather']['daily'][0]['temp']['night']),\n",
    "        #'morn': normalise(5, 25, row['f']['weather']['daily'][0]['temp']['morn']),\n",
    "        #'feelsLike': normalise(10, 40, row['f']['weather']['daily'][0]['feels_like']['day']),\n",
    "        #'windSpeed': normalise(0, 15, row['f']['weather']['daily'][0]['wind_speed']),\n",
    "        #'windGust': normalise(0, 15, row['f']['weather']['daily'][0]['wind_gust']),\n",
    "        #'rain': normalise(0, 1, row['f']['weather']['daily'][0]['pop']),\n",
    "        #'humid': normalise(0, 100, row['f']['weather']['daily'][0]['humidity']),\n",
    "        #'cloud': normalise(0, 100, row['f']['weather']['daily'][0]['clouds']),\n",
    "        #'press': normalise(995, 1030, row['f']['weather']['daily'][0]['pressure']),\n",
    "        #'dewPoint': normalise(-5, 25, row['f']['weather']['daily'][0]['dew_point']),\n",
    "        #'description': row['f']['weather']['daily'][0]['weather'][0]['description'],\n",
    "        #'uvi': normalise(0, 14, row['f']['weather']['daily'][0]['uvi']),\n",
    "    })\n",
    "\n",
    "print(len(features))\n",
    "print(features[0])\n",
    "#print(dataset[0])"
   ]
  },
  {
   "cell_type": "code",
   "execution_count": 103,
   "metadata": {},
   "outputs": [
    {
     "name": "stdout",
     "output_type": "stream",
     "text": [
      "False    6168\n",
      "True      369\n",
      "Name: target, dtype: int64\n"
     ]
    },
    {
     "data": {
      "text/html": [
       "<div>\n",
       "<style scoped>\n",
       "    .dataframe tbody tr th:only-of-type {\n",
       "        vertical-align: middle;\n",
       "    }\n",
       "\n",
       "    .dataframe tbody tr th {\n",
       "        vertical-align: top;\n",
       "    }\n",
       "\n",
       "    .dataframe thead th {\n",
       "        text-align: right;\n",
       "    }\n",
       "</style>\n",
       "<table border=\"1\" class=\"dataframe\">\n",
       "  <thead>\n",
       "    <tr style=\"text-align: right;\">\n",
       "      <th></th>\n",
       "      <th>target</th>\n",
       "      <th>lat</th>\n",
       "      <th>lon</th>\n",
       "      <th>day</th>\n",
       "      <th>windSpeed</th>\n",
       "      <th>humid</th>\n",
       "      <th>cloud</th>\n",
       "      <th>press</th>\n",
       "      <th>northern</th>\n",
       "      <th>daysSinceSpring</th>\n",
       "    </tr>\n",
       "  </thead>\n",
       "  <tbody>\n",
       "    <tr>\n",
       "      <th>0</th>\n",
       "      <td>True</td>\n",
       "      <td>-35.0</td>\n",
       "      <td>149.0</td>\n",
       "      <td>16.37</td>\n",
       "      <td>5.64</td>\n",
       "      <td>77</td>\n",
       "      <td>73</td>\n",
       "      <td>1014</td>\n",
       "      <td>False</td>\n",
       "      <td>38</td>\n",
       "    </tr>\n",
       "    <tr>\n",
       "      <th>1</th>\n",
       "      <td>True</td>\n",
       "      <td>-35.0</td>\n",
       "      <td>149.0</td>\n",
       "      <td>16.37</td>\n",
       "      <td>5.64</td>\n",
       "      <td>77</td>\n",
       "      <td>73</td>\n",
       "      <td>1014</td>\n",
       "      <td>False</td>\n",
       "      <td>38</td>\n",
       "    </tr>\n",
       "    <tr>\n",
       "      <th>2</th>\n",
       "      <td>False</td>\n",
       "      <td>-35.0</td>\n",
       "      <td>149.0</td>\n",
       "      <td>16.87</td>\n",
       "      <td>5.33</td>\n",
       "      <td>71</td>\n",
       "      <td>79</td>\n",
       "      <td>1014</td>\n",
       "      <td>False</td>\n",
       "      <td>38</td>\n",
       "    </tr>\n",
       "    <tr>\n",
       "      <th>3</th>\n",
       "      <td>False</td>\n",
       "      <td>-35.0</td>\n",
       "      <td>149.0</td>\n",
       "      <td>16.51</td>\n",
       "      <td>5.62</td>\n",
       "      <td>76</td>\n",
       "      <td>75</td>\n",
       "      <td>1014</td>\n",
       "      <td>False</td>\n",
       "      <td>38</td>\n",
       "    </tr>\n",
       "    <tr>\n",
       "      <th>4</th>\n",
       "      <td>True</td>\n",
       "      <td>-35.0</td>\n",
       "      <td>149.0</td>\n",
       "      <td>16.37</td>\n",
       "      <td>5.64</td>\n",
       "      <td>77</td>\n",
       "      <td>73</td>\n",
       "      <td>1014</td>\n",
       "      <td>False</td>\n",
       "      <td>38</td>\n",
       "    </tr>\n",
       "    <tr>\n",
       "      <th>...</th>\n",
       "      <td>...</td>\n",
       "      <td>...</td>\n",
       "      <td>...</td>\n",
       "      <td>...</td>\n",
       "      <td>...</td>\n",
       "      <td>...</td>\n",
       "      <td>...</td>\n",
       "      <td>...</td>\n",
       "      <td>...</td>\n",
       "      <td>...</td>\n",
       "    </tr>\n",
       "    <tr>\n",
       "      <th>6532</th>\n",
       "      <td>False</td>\n",
       "      <td>-9.0</td>\n",
       "      <td>115.0</td>\n",
       "      <td>29.85</td>\n",
       "      <td>2.57</td>\n",
       "      <td>73</td>\n",
       "      <td>99</td>\n",
       "      <td>1010</td>\n",
       "      <td>False</td>\n",
       "      <td>140</td>\n",
       "    </tr>\n",
       "    <tr>\n",
       "      <th>6533</th>\n",
       "      <td>False</td>\n",
       "      <td>-34.0</td>\n",
       "      <td>142.0</td>\n",
       "      <td>24.91</td>\n",
       "      <td>9.73</td>\n",
       "      <td>68</td>\n",
       "      <td>100</td>\n",
       "      <td>1010</td>\n",
       "      <td>False</td>\n",
       "      <td>140</td>\n",
       "    </tr>\n",
       "    <tr>\n",
       "      <th>6534</th>\n",
       "      <td>False</td>\n",
       "      <td>-28.0</td>\n",
       "      <td>153.0</td>\n",
       "      <td>27.84</td>\n",
       "      <td>5.68</td>\n",
       "      <td>48</td>\n",
       "      <td>45</td>\n",
       "      <td>1011</td>\n",
       "      <td>False</td>\n",
       "      <td>140</td>\n",
       "    </tr>\n",
       "    <tr>\n",
       "      <th>6535</th>\n",
       "      <td>False</td>\n",
       "      <td>-35.0</td>\n",
       "      <td>139.0</td>\n",
       "      <td>19.83</td>\n",
       "      <td>6.37</td>\n",
       "      <td>65</td>\n",
       "      <td>96</td>\n",
       "      <td>1016</td>\n",
       "      <td>False</td>\n",
       "      <td>140</td>\n",
       "    </tr>\n",
       "    <tr>\n",
       "      <th>6536</th>\n",
       "      <td>False</td>\n",
       "      <td>-33.0</td>\n",
       "      <td>152.0</td>\n",
       "      <td>32.50</td>\n",
       "      <td>4.80</td>\n",
       "      <td>23</td>\n",
       "      <td>6</td>\n",
       "      <td>1007</td>\n",
       "      <td>False</td>\n",
       "      <td>140</td>\n",
       "    </tr>\n",
       "  </tbody>\n",
       "</table>\n",
       "<p>6537 rows × 10 columns</p>\n",
       "</div>"
      ],
      "text/plain": [
       "      target   lat    lon    day  windSpeed  humid  cloud  press  northern  \\\n",
       "0       True -35.0  149.0  16.37       5.64     77     73   1014     False   \n",
       "1       True -35.0  149.0  16.37       5.64     77     73   1014     False   \n",
       "2      False -35.0  149.0  16.87       5.33     71     79   1014     False   \n",
       "3      False -35.0  149.0  16.51       5.62     76     75   1014     False   \n",
       "4       True -35.0  149.0  16.37       5.64     77     73   1014     False   \n",
       "...      ...   ...    ...    ...        ...    ...    ...    ...       ...   \n",
       "6532   False  -9.0  115.0  29.85       2.57     73     99   1010     False   \n",
       "6533   False -34.0  142.0  24.91       9.73     68    100   1010     False   \n",
       "6534   False -28.0  153.0  27.84       5.68     48     45   1011     False   \n",
       "6535   False -35.0  139.0  19.83       6.37     65     96   1016     False   \n",
       "6536   False -33.0  152.0  32.50       4.80     23      6   1007     False   \n",
       "\n",
       "      daysSinceSpring  \n",
       "0                  38  \n",
       "1                  38  \n",
       "2                  38  \n",
       "3                  38  \n",
       "4                  38  \n",
       "...               ...  \n",
       "6532              140  \n",
       "6533              140  \n",
       "6534              140  \n",
       "6535              140  \n",
       "6536              140  \n",
       "\n",
       "[6537 rows x 10 columns]"
      ]
     },
     "execution_count": 103,
     "metadata": {},
     "output_type": "execute_result"
    }
   ],
   "source": [
    "from sklearn import preprocessing\n",
    "\n",
    "df = pd.DataFrame(data=features)\n",
    "\n",
    "df['northern'] = [lat > 0 for lat in df['lat']]\n",
    "df['daysSinceSpring'] = [((dayOfYear - (31 + 28 + 31 + 30 + 31 + 30 + 31 + 31)) % 365) for dayOfYear in df['dayOfYear']]\n",
    "df.loc[df['northern'] == True, 'daysSinceSpring'] = (df['daysSinceSpring'] - (31 + 30 + 31 + 30 + 31 + 31)) % 365\n",
    "\n",
    "df = df.drop(['dayOfYear'], axis=1)\n",
    "\n",
    "# split into input and output elements\n",
    "#data = df.values\n",
    "#X, y = data[:, :-1], data[:, -1]\n",
    "#print(X.shape, y.shape)\n",
    "print(df['target'].value_counts())\n",
    "\n",
    "df"
   ]
  },
  {
   "cell_type": "code",
   "execution_count": 104,
   "metadata": {},
   "outputs": [],
   "source": [
    "from scipy.stats import norm\n",
    "import numpy as np\n",
    "import matplotlib.pyplot as plt\n",
    "from sklearn.pipeline import Pipeline\n",
    "from sklearn.preprocessing import PolynomialFeatures\n",
    "from sklearn.linear_model import LinearRegression\n",
    "from sklearn.model_selection import cross_val_score\n",
    "\n",
    "TEMP_AVG = 16.5; # 24.00;\n",
    "TEMP_STD = 10; # 3.96;\n",
    "HUMIDITY_AVG = 77.00; # 62.00;\n",
    "HUMIDITY_STD = 30; # 7.99;\n",
    "WIND_AVG = 5.7; # 3.96;\n",
    "WIND_STD = 5; # 0.78;\n",
    "RAIN_AVG = 0;\n",
    "RAIN_STD = 0;\n",
    "CLOUD_AVG = 70;\n",
    "CLOUD_STD = 30;\n",
    "PRESSURE_AVG = 1014; # 1020;\n",
    "PRESSURE_STD = 14.85;\n",
    "RADIATION_AVG = 225.7; # (J.cm-2.h-1)\n",
    "RADIATION_STD = 19.5; # SE not SD\n",
    "UVI_AVG = 6.1;\n",
    "UVI_STD = 6;\n",
    "\n",
    "def true_temp(temp):\n",
    "    return max(0, min(0.5, norm.cdf(-abs(temp - TEMP_AVG) / TEMP_STD))) * 2\n",
    "\n",
    "def true_humidity(humidity):\n",
    "    return max(0, min(0.5, norm.cdf(-abs(humidity - HUMIDITY_AVG) / HUMIDITY_STD))) * 2\n",
    "\n",
    "def true_wind(windSpeed):\n",
    "    return max(0, min(0.5, norm.cdf(-abs(windSpeed - WIND_AVG) / WIND_STD))) * 2\n",
    "\n",
    "def true_rain(pop):\n",
    "    return 1.0 - pop\n",
    "\n",
    "def true_cloud(cloud):\n",
    "    return max(0, min(0.5, norm.cdf(-abs(cloud - CLOUD_AVG) / CLOUD_STD))) * 2\n",
    "\n",
    "def true_pressure(pressure):\n",
    "    return max(0, min(0.5, norm.cdf(-abs(pressure - PRESSURE_AVG) / PRESSURE_STD))) * 2\n",
    "\n",
    "def true_uvi(uvi):\n",
    "    return max(0, min(0.5, norm.cdf(-abs(uvi - UVI_AVG) / UVI_STD))) * 2\n",
    "\n",
    "def true_dewPoint(dewPoint):\n",
    "    return 1\n",
    "\n",
    "def true_funct(val):\n",
    "    return 1\n",
    "\n",
    "def map_true_fun(X, function):\n",
    "    return list(map(function, X))"
   ]
  },
  {
   "cell_type": "code",
   "execution_count": 105,
   "metadata": {},
   "outputs": [
    {
     "name": "stdout",
     "output_type": "stream",
     "text": [
      "False    6168\n",
      "True      369\n",
      "Name: target, dtype: int64\n"
     ]
    },
    {
     "data": {
      "text/html": [
       "<div>\n",
       "<style scoped>\n",
       "    .dataframe tbody tr th:only-of-type {\n",
       "        vertical-align: middle;\n",
       "    }\n",
       "\n",
       "    .dataframe tbody tr th {\n",
       "        vertical-align: top;\n",
       "    }\n",
       "\n",
       "    .dataframe thead th {\n",
       "        text-align: right;\n",
       "    }\n",
       "</style>\n",
       "<table border=\"1\" class=\"dataframe\">\n",
       "  <thead>\n",
       "    <tr style=\"text-align: right;\">\n",
       "      <th></th>\n",
       "      <th>target</th>\n",
       "      <th>lat</th>\n",
       "      <th>lon</th>\n",
       "      <th>day</th>\n",
       "      <th>windSpeed</th>\n",
       "      <th>humid</th>\n",
       "      <th>cloud</th>\n",
       "      <th>press</th>\n",
       "      <th>northern</th>\n",
       "      <th>daysSinceSpring</th>\n",
       "    </tr>\n",
       "  </thead>\n",
       "  <tbody>\n",
       "    <tr>\n",
       "      <th>0</th>\n",
       "      <td>True</td>\n",
       "      <td>-35.0</td>\n",
       "      <td>149.0</td>\n",
       "      <td>16.0</td>\n",
       "      <td>5.6</td>\n",
       "      <td>77</td>\n",
       "      <td>73</td>\n",
       "      <td>1014</td>\n",
       "      <td>False</td>\n",
       "      <td>38</td>\n",
       "    </tr>\n",
       "    <tr>\n",
       "      <th>1</th>\n",
       "      <td>True</td>\n",
       "      <td>-35.0</td>\n",
       "      <td>149.0</td>\n",
       "      <td>16.0</td>\n",
       "      <td>5.6</td>\n",
       "      <td>77</td>\n",
       "      <td>73</td>\n",
       "      <td>1014</td>\n",
       "      <td>False</td>\n",
       "      <td>38</td>\n",
       "    </tr>\n",
       "    <tr>\n",
       "      <th>2</th>\n",
       "      <td>False</td>\n",
       "      <td>-35.0</td>\n",
       "      <td>149.0</td>\n",
       "      <td>17.0</td>\n",
       "      <td>5.3</td>\n",
       "      <td>71</td>\n",
       "      <td>79</td>\n",
       "      <td>1014</td>\n",
       "      <td>False</td>\n",
       "      <td>38</td>\n",
       "    </tr>\n",
       "    <tr>\n",
       "      <th>3</th>\n",
       "      <td>False</td>\n",
       "      <td>-35.0</td>\n",
       "      <td>149.0</td>\n",
       "      <td>17.0</td>\n",
       "      <td>5.6</td>\n",
       "      <td>76</td>\n",
       "      <td>75</td>\n",
       "      <td>1014</td>\n",
       "      <td>False</td>\n",
       "      <td>38</td>\n",
       "    </tr>\n",
       "    <tr>\n",
       "      <th>4</th>\n",
       "      <td>True</td>\n",
       "      <td>-35.0</td>\n",
       "      <td>149.0</td>\n",
       "      <td>16.0</td>\n",
       "      <td>5.6</td>\n",
       "      <td>77</td>\n",
       "      <td>73</td>\n",
       "      <td>1014</td>\n",
       "      <td>False</td>\n",
       "      <td>38</td>\n",
       "    </tr>\n",
       "    <tr>\n",
       "      <th>...</th>\n",
       "      <td>...</td>\n",
       "      <td>...</td>\n",
       "      <td>...</td>\n",
       "      <td>...</td>\n",
       "      <td>...</td>\n",
       "      <td>...</td>\n",
       "      <td>...</td>\n",
       "      <td>...</td>\n",
       "      <td>...</td>\n",
       "      <td>...</td>\n",
       "    </tr>\n",
       "    <tr>\n",
       "      <th>6532</th>\n",
       "      <td>False</td>\n",
       "      <td>-9.0</td>\n",
       "      <td>115.0</td>\n",
       "      <td>30.0</td>\n",
       "      <td>2.6</td>\n",
       "      <td>73</td>\n",
       "      <td>99</td>\n",
       "      <td>1010</td>\n",
       "      <td>False</td>\n",
       "      <td>140</td>\n",
       "    </tr>\n",
       "    <tr>\n",
       "      <th>6533</th>\n",
       "      <td>False</td>\n",
       "      <td>-34.0</td>\n",
       "      <td>142.0</td>\n",
       "      <td>25.0</td>\n",
       "      <td>9.7</td>\n",
       "      <td>68</td>\n",
       "      <td>100</td>\n",
       "      <td>1010</td>\n",
       "      <td>False</td>\n",
       "      <td>140</td>\n",
       "    </tr>\n",
       "    <tr>\n",
       "      <th>6534</th>\n",
       "      <td>False</td>\n",
       "      <td>-28.0</td>\n",
       "      <td>153.0</td>\n",
       "      <td>28.0</td>\n",
       "      <td>5.7</td>\n",
       "      <td>48</td>\n",
       "      <td>45</td>\n",
       "      <td>1011</td>\n",
       "      <td>False</td>\n",
       "      <td>140</td>\n",
       "    </tr>\n",
       "    <tr>\n",
       "      <th>6535</th>\n",
       "      <td>False</td>\n",
       "      <td>-35.0</td>\n",
       "      <td>139.0</td>\n",
       "      <td>20.0</td>\n",
       "      <td>6.4</td>\n",
       "      <td>65</td>\n",
       "      <td>96</td>\n",
       "      <td>1016</td>\n",
       "      <td>False</td>\n",
       "      <td>140</td>\n",
       "    </tr>\n",
       "    <tr>\n",
       "      <th>6536</th>\n",
       "      <td>False</td>\n",
       "      <td>-33.0</td>\n",
       "      <td>152.0</td>\n",
       "      <td>32.0</td>\n",
       "      <td>4.8</td>\n",
       "      <td>23</td>\n",
       "      <td>6</td>\n",
       "      <td>1007</td>\n",
       "      <td>False</td>\n",
       "      <td>140</td>\n",
       "    </tr>\n",
       "  </tbody>\n",
       "</table>\n",
       "<p>6537 rows × 10 columns</p>\n",
       "</div>"
      ],
      "text/plain": [
       "      target   lat    lon   day  windSpeed  humid  cloud  press  northern  \\\n",
       "0       True -35.0  149.0  16.0        5.6     77     73   1014     False   \n",
       "1       True -35.0  149.0  16.0        5.6     77     73   1014     False   \n",
       "2      False -35.0  149.0  17.0        5.3     71     79   1014     False   \n",
       "3      False -35.0  149.0  17.0        5.6     76     75   1014     False   \n",
       "4       True -35.0  149.0  16.0        5.6     77     73   1014     False   \n",
       "...      ...   ...    ...   ...        ...    ...    ...    ...       ...   \n",
       "6532   False  -9.0  115.0  30.0        2.6     73     99   1010     False   \n",
       "6533   False -34.0  142.0  25.0        9.7     68    100   1010     False   \n",
       "6534   False -28.0  153.0  28.0        5.7     48     45   1011     False   \n",
       "6535   False -35.0  139.0  20.0        6.4     65     96   1016     False   \n",
       "6536   False -33.0  152.0  32.0        4.8     23      6   1007     False   \n",
       "\n",
       "      daysSinceSpring  \n",
       "0                  38  \n",
       "1                  38  \n",
       "2                  38  \n",
       "3                  38  \n",
       "4                  38  \n",
       "...               ...  \n",
       "6532              140  \n",
       "6533              140  \n",
       "6534              140  \n",
       "6535              140  \n",
       "6536              140  \n",
       "\n",
       "[6537 rows x 10 columns]"
      ]
     },
     "execution_count": 105,
     "metadata": {},
     "output_type": "execute_result"
    }
   ],
   "source": [
    "#df = df.assign(deltaDay = lambda x: true_temp(x.day))\n",
    "#df = df.assign(deltaWind = lambda x: true_wind(x.windSpeed))\n",
    "#df = df.assign(deltaHumid = lambda x: true_humidity(x.humid))\n",
    "#df = df.assign(deltaCloud = lambda x: true_cloud(x.cloud))\n",
    "#df = df.assign(deltaPress = lambda x: true_pressure(x.press))\n",
    "\n",
    "for i in range(len(df)):\n",
    "    df.loc[i, \"day\"]   = round_sig((df.iloc[i][\"day\"]), 2)\n",
    "    df.loc[i, \"windSpeed\"]  = round_sig((df.iloc[i][\"windSpeed\"]), 2)\n",
    "    df.loc[i, \"humid\"] = round_sig((df.iloc[i][\"humid\"]), 2)\n",
    "    df.loc[i, \"cloud\"] = round_sig((df.iloc[i][\"cloud\"]), 2)\n",
    "    df.loc[i, \"press\"] = round_sig((df.iloc[i][\"press\"]), 4)\n",
    "\n",
    "print(df['target'].value_counts())\n",
    "df"
   ]
  },
  {
   "cell_type": "code",
   "execution_count": 106,
   "metadata": {},
   "outputs": [],
   "source": [
    "# force the column's string column B to type 'category'  \n",
    "df['target'] = df['target'].astype('category')\n",
    "# define the valid categories: \n",
    "df['target'] = df['target'].cat.set_categories([True, False], ordered=True) \n",
    "#pandas dataframe sort_values to inflicts order on your categories \n",
    "df.sort_values(['target'], inplace=True, ascending=True) \n"
   ]
  },
  {
   "cell_type": "code",
   "execution_count": 107,
   "metadata": {
    "colab": {
     "base_uri": "https://localhost:8080/"
    },
    "id": "wnPgDLIIOQQe",
    "outputId": "d00fac03-bfdd-4a46-9c9f-58c2698697a1"
   },
   "outputs": [
    {
     "data": {
      "text/plain": [
       "target             0\n",
       "lat                0\n",
       "lon                0\n",
       "day                0\n",
       "windSpeed          0\n",
       "humid              0\n",
       "cloud              0\n",
       "press              0\n",
       "northern           0\n",
       "daysSinceSpring    0\n",
       "dtype: int64"
      ]
     },
     "execution_count": 107,
     "metadata": {},
     "output_type": "execute_result"
    }
   ],
   "source": [
    "#check null values in the dataset\n",
    "df.isnull().sum()"
   ]
  },
  {
   "cell_type": "code",
   "execution_count": 108,
   "metadata": {
    "id": "n1h5lkAtOYL4"
   },
   "outputs": [],
   "source": [
    "from sklearn.utils import resample\n",
    "healthy   = df[df[\"target\"] != False]\n",
    "unhealthy = df[df[\"target\"] == False]"
   ]
  },
  {
   "cell_type": "code",
   "execution_count": 109,
   "metadata": {
    "colab": {
     "base_uri": "https://localhost:8080/",
     "height": 206
    },
    "id": "nO8jlVjTOd0P",
    "outputId": "e1e15d7e-24a7-4064-d666-b576cea4e121"
   },
   "outputs": [
    {
     "data": {
      "text/html": [
       "<div>\n",
       "<style scoped>\n",
       "    .dataframe tbody tr th:only-of-type {\n",
       "        vertical-align: middle;\n",
       "    }\n",
       "\n",
       "    .dataframe tbody tr th {\n",
       "        vertical-align: top;\n",
       "    }\n",
       "\n",
       "    .dataframe thead th {\n",
       "        text-align: right;\n",
       "    }\n",
       "</style>\n",
       "<table border=\"1\" class=\"dataframe\">\n",
       "  <thead>\n",
       "    <tr style=\"text-align: right;\">\n",
       "      <th></th>\n",
       "      <th>target</th>\n",
       "      <th>lat</th>\n",
       "      <th>lon</th>\n",
       "      <th>day</th>\n",
       "      <th>windSpeed</th>\n",
       "      <th>humid</th>\n",
       "      <th>cloud</th>\n",
       "      <th>press</th>\n",
       "      <th>northern</th>\n",
       "      <th>daysSinceSpring</th>\n",
       "    </tr>\n",
       "  </thead>\n",
       "  <tbody>\n",
       "    <tr>\n",
       "      <th>0</th>\n",
       "      <td>True</td>\n",
       "      <td>-35.0</td>\n",
       "      <td>149.0</td>\n",
       "      <td>16.0</td>\n",
       "      <td>5.6</td>\n",
       "      <td>77</td>\n",
       "      <td>73</td>\n",
       "      <td>1014</td>\n",
       "      <td>False</td>\n",
       "      <td>38</td>\n",
       "    </tr>\n",
       "    <tr>\n",
       "      <th>553</th>\n",
       "      <td>True</td>\n",
       "      <td>11.0</td>\n",
       "      <td>123.0</td>\n",
       "      <td>30.0</td>\n",
       "      <td>4.4</td>\n",
       "      <td>72</td>\n",
       "      <td>98</td>\n",
       "      <td>1012</td>\n",
       "      <td>True</td>\n",
       "      <td>233</td>\n",
       "    </tr>\n",
       "    <tr>\n",
       "      <th>6044</th>\n",
       "      <td>True</td>\n",
       "      <td>14.0</td>\n",
       "      <td>100.0</td>\n",
       "      <td>31.0</td>\n",
       "      <td>3.5</td>\n",
       "      <td>54</td>\n",
       "      <td>17</td>\n",
       "      <td>1011</td>\n",
       "      <td>True</td>\n",
       "      <td>315</td>\n",
       "    </tr>\n",
       "    <tr>\n",
       "      <th>5299</th>\n",
       "      <td>True</td>\n",
       "      <td>25.0</td>\n",
       "      <td>52.0</td>\n",
       "      <td>17.0</td>\n",
       "      <td>8.0</td>\n",
       "      <td>94</td>\n",
       "      <td>75</td>\n",
       "      <td>1022</td>\n",
       "      <td>True</td>\n",
       "      <td>309</td>\n",
       "    </tr>\n",
       "    <tr>\n",
       "      <th>546</th>\n",
       "      <td>True</td>\n",
       "      <td>35.0</td>\n",
       "      <td>-79.0</td>\n",
       "      <td>20.0</td>\n",
       "      <td>1.8</td>\n",
       "      <td>27</td>\n",
       "      <td>0</td>\n",
       "      <td>1020</td>\n",
       "      <td>True</td>\n",
       "      <td>232</td>\n",
       "    </tr>\n",
       "    <tr>\n",
       "      <th>...</th>\n",
       "      <td>...</td>\n",
       "      <td>...</td>\n",
       "      <td>...</td>\n",
       "      <td>...</td>\n",
       "      <td>...</td>\n",
       "      <td>...</td>\n",
       "      <td>...</td>\n",
       "      <td>...</td>\n",
       "      <td>...</td>\n",
       "      <td>...</td>\n",
       "    </tr>\n",
       "    <tr>\n",
       "      <th>6522</th>\n",
       "      <td>True</td>\n",
       "      <td>-28.0</td>\n",
       "      <td>153.0</td>\n",
       "      <td>27.0</td>\n",
       "      <td>5.7</td>\n",
       "      <td>56</td>\n",
       "      <td>75</td>\n",
       "      <td>1013</td>\n",
       "      <td>False</td>\n",
       "      <td>140</td>\n",
       "    </tr>\n",
       "    <tr>\n",
       "      <th>21</th>\n",
       "      <td>True</td>\n",
       "      <td>-33.0</td>\n",
       "      <td>149.0</td>\n",
       "      <td>8.0</td>\n",
       "      <td>3.8</td>\n",
       "      <td>91</td>\n",
       "      <td>98</td>\n",
       "      <td>1021</td>\n",
       "      <td>False</td>\n",
       "      <td>39</td>\n",
       "    </tr>\n",
       "    <tr>\n",
       "      <th>3394</th>\n",
       "      <td>True</td>\n",
       "      <td>14.0</td>\n",
       "      <td>101.0</td>\n",
       "      <td>30.0</td>\n",
       "      <td>2.5</td>\n",
       "      <td>56</td>\n",
       "      <td>86</td>\n",
       "      <td>1010</td>\n",
       "      <td>True</td>\n",
       "      <td>279</td>\n",
       "    </tr>\n",
       "    <tr>\n",
       "      <th>15</th>\n",
       "      <td>True</td>\n",
       "      <td>39.0</td>\n",
       "      <td>-7.0</td>\n",
       "      <td>29.0</td>\n",
       "      <td>3.9</td>\n",
       "      <td>28</td>\n",
       "      <td>33</td>\n",
       "      <td>1016</td>\n",
       "      <td>True</td>\n",
       "      <td>219</td>\n",
       "    </tr>\n",
       "    <tr>\n",
       "      <th>1</th>\n",
       "      <td>True</td>\n",
       "      <td>-35.0</td>\n",
       "      <td>149.0</td>\n",
       "      <td>16.0</td>\n",
       "      <td>5.6</td>\n",
       "      <td>77</td>\n",
       "      <td>73</td>\n",
       "      <td>1014</td>\n",
       "      <td>False</td>\n",
       "      <td>38</td>\n",
       "    </tr>\n",
       "  </tbody>\n",
       "</table>\n",
       "<p>369 rows × 10 columns</p>\n",
       "</div>"
      ],
      "text/plain": [
       "     target   lat    lon   day  windSpeed  humid  cloud  press  northern  \\\n",
       "0      True -35.0  149.0  16.0        5.6     77     73   1014     False   \n",
       "553    True  11.0  123.0  30.0        4.4     72     98   1012      True   \n",
       "6044   True  14.0  100.0  31.0        3.5     54     17   1011      True   \n",
       "5299   True  25.0   52.0  17.0        8.0     94     75   1022      True   \n",
       "546    True  35.0  -79.0  20.0        1.8     27      0   1020      True   \n",
       "...     ...   ...    ...   ...        ...    ...    ...    ...       ...   \n",
       "6522   True -28.0  153.0  27.0        5.7     56     75   1013     False   \n",
       "21     True -33.0  149.0   8.0        3.8     91     98   1021     False   \n",
       "3394   True  14.0  101.0  30.0        2.5     56     86   1010      True   \n",
       "15     True  39.0   -7.0  29.0        3.9     28     33   1016      True   \n",
       "1      True -35.0  149.0  16.0        5.6     77     73   1014     False   \n",
       "\n",
       "      daysSinceSpring  \n",
       "0                  38  \n",
       "553               233  \n",
       "6044              315  \n",
       "5299              309  \n",
       "546               232  \n",
       "...               ...  \n",
       "6522              140  \n",
       "21                 39  \n",
       "3394              279  \n",
       "15                219  \n",
       "1                  38  \n",
       "\n",
       "[369 rows x 10 columns]"
      ]
     },
     "execution_count": 109,
     "metadata": {},
     "output_type": "execute_result"
    }
   ],
   "source": [
    "healthy"
   ]
  },
  {
   "cell_type": "code",
   "execution_count": 110,
   "metadata": {},
   "outputs": [
    {
     "data": {
      "text/html": [
       "<div>\n",
       "<style scoped>\n",
       "    .dataframe tbody tr th:only-of-type {\n",
       "        vertical-align: middle;\n",
       "    }\n",
       "\n",
       "    .dataframe tbody tr th {\n",
       "        vertical-align: top;\n",
       "    }\n",
       "\n",
       "    .dataframe thead th {\n",
       "        text-align: right;\n",
       "    }\n",
       "</style>\n",
       "<table border=\"1\" class=\"dataframe\">\n",
       "  <thead>\n",
       "    <tr style=\"text-align: right;\">\n",
       "      <th></th>\n",
       "      <th>target</th>\n",
       "      <th>lat</th>\n",
       "      <th>lon</th>\n",
       "      <th>day</th>\n",
       "      <th>windSpeed</th>\n",
       "      <th>humid</th>\n",
       "      <th>cloud</th>\n",
       "      <th>press</th>\n",
       "      <th>northern</th>\n",
       "      <th>daysSinceSpring</th>\n",
       "    </tr>\n",
       "  </thead>\n",
       "  <tbody>\n",
       "    <tr>\n",
       "      <th>4377</th>\n",
       "      <td>False</td>\n",
       "      <td>-23.0</td>\n",
       "      <td>151.0</td>\n",
       "      <td>25.0</td>\n",
       "      <td>12.0</td>\n",
       "      <td>71</td>\n",
       "      <td>26</td>\n",
       "      <td>1015</td>\n",
       "      <td>False</td>\n",
       "      <td>117</td>\n",
       "    </tr>\n",
       "    <tr>\n",
       "      <th>4830</th>\n",
       "      <td>False</td>\n",
       "      <td>33.0</td>\n",
       "      <td>-117.0</td>\n",
       "      <td>13.0</td>\n",
       "      <td>10.0</td>\n",
       "      <td>81</td>\n",
       "      <td>100</td>\n",
       "      <td>1008</td>\n",
       "      <td>True</td>\n",
       "      <td>304</td>\n",
       "    </tr>\n",
       "    <tr>\n",
       "      <th>4375</th>\n",
       "      <td>False</td>\n",
       "      <td>-21.0</td>\n",
       "      <td>149.0</td>\n",
       "      <td>26.0</td>\n",
       "      <td>8.2</td>\n",
       "      <td>76</td>\n",
       "      <td>68</td>\n",
       "      <td>1014</td>\n",
       "      <td>False</td>\n",
       "      <td>117</td>\n",
       "    </tr>\n",
       "    <tr>\n",
       "      <th>4217</th>\n",
       "      <td>False</td>\n",
       "      <td>-36.0</td>\n",
       "      <td>145.0</td>\n",
       "      <td>30.0</td>\n",
       "      <td>6.3</td>\n",
       "      <td>27</td>\n",
       "      <td>2</td>\n",
       "      <td>1006</td>\n",
       "      <td>False</td>\n",
       "      <td>114</td>\n",
       "    </tr>\n",
       "    <tr>\n",
       "      <th>4374</th>\n",
       "      <td>False</td>\n",
       "      <td>-21.0</td>\n",
       "      <td>149.0</td>\n",
       "      <td>26.0</td>\n",
       "      <td>8.2</td>\n",
       "      <td>76</td>\n",
       "      <td>68</td>\n",
       "      <td>1014</td>\n",
       "      <td>False</td>\n",
       "      <td>117</td>\n",
       "    </tr>\n",
       "    <tr>\n",
       "      <th>...</th>\n",
       "      <td>...</td>\n",
       "      <td>...</td>\n",
       "      <td>...</td>\n",
       "      <td>...</td>\n",
       "      <td>...</td>\n",
       "      <td>...</td>\n",
       "      <td>...</td>\n",
       "      <td>...</td>\n",
       "      <td>...</td>\n",
       "      <td>...</td>\n",
       "    </tr>\n",
       "    <tr>\n",
       "      <th>2278</th>\n",
       "      <td>False</td>\n",
       "      <td>-21.0</td>\n",
       "      <td>149.0</td>\n",
       "      <td>29.0</td>\n",
       "      <td>6.3</td>\n",
       "      <td>70</td>\n",
       "      <td>60</td>\n",
       "      <td>1013</td>\n",
       "      <td>False</td>\n",
       "      <td>80</td>\n",
       "    </tr>\n",
       "    <tr>\n",
       "      <th>2277</th>\n",
       "      <td>False</td>\n",
       "      <td>-33.0</td>\n",
       "      <td>152.0</td>\n",
       "      <td>21.0</td>\n",
       "      <td>5.6</td>\n",
       "      <td>58</td>\n",
       "      <td>14</td>\n",
       "      <td>1010</td>\n",
       "      <td>False</td>\n",
       "      <td>80</td>\n",
       "    </tr>\n",
       "    <tr>\n",
       "      <th>2276</th>\n",
       "      <td>False</td>\n",
       "      <td>-34.0</td>\n",
       "      <td>151.0</td>\n",
       "      <td>21.0</td>\n",
       "      <td>8.8</td>\n",
       "      <td>57</td>\n",
       "      <td>2</td>\n",
       "      <td>1008</td>\n",
       "      <td>False</td>\n",
       "      <td>80</td>\n",
       "    </tr>\n",
       "    <tr>\n",
       "      <th>2274</th>\n",
       "      <td>False</td>\n",
       "      <td>-31.0</td>\n",
       "      <td>-64.0</td>\n",
       "      <td>33.0</td>\n",
       "      <td>8.7</td>\n",
       "      <td>20</td>\n",
       "      <td>0</td>\n",
       "      <td>1007</td>\n",
       "      <td>False</td>\n",
       "      <td>79</td>\n",
       "    </tr>\n",
       "    <tr>\n",
       "      <th>6536</th>\n",
       "      <td>False</td>\n",
       "      <td>-33.0</td>\n",
       "      <td>152.0</td>\n",
       "      <td>32.0</td>\n",
       "      <td>4.8</td>\n",
       "      <td>23</td>\n",
       "      <td>6</td>\n",
       "      <td>1007</td>\n",
       "      <td>False</td>\n",
       "      <td>140</td>\n",
       "    </tr>\n",
       "  </tbody>\n",
       "</table>\n",
       "<p>6168 rows × 10 columns</p>\n",
       "</div>"
      ],
      "text/plain": [
       "     target   lat    lon   day  windSpeed  humid  cloud  press  northern  \\\n",
       "4377  False -23.0  151.0  25.0       12.0     71     26   1015     False   \n",
       "4830  False  33.0 -117.0  13.0       10.0     81    100   1008      True   \n",
       "4375  False -21.0  149.0  26.0        8.2     76     68   1014     False   \n",
       "4217  False -36.0  145.0  30.0        6.3     27      2   1006     False   \n",
       "4374  False -21.0  149.0  26.0        8.2     76     68   1014     False   \n",
       "...     ...   ...    ...   ...        ...    ...    ...    ...       ...   \n",
       "2278  False -21.0  149.0  29.0        6.3     70     60   1013     False   \n",
       "2277  False -33.0  152.0  21.0        5.6     58     14   1010     False   \n",
       "2276  False -34.0  151.0  21.0        8.8     57      2   1008     False   \n",
       "2274  False -31.0  -64.0  33.0        8.7     20      0   1007     False   \n",
       "6536  False -33.0  152.0  32.0        4.8     23      6   1007     False   \n",
       "\n",
       "      daysSinceSpring  \n",
       "4377              117  \n",
       "4830              304  \n",
       "4375              117  \n",
       "4217              114  \n",
       "4374              117  \n",
       "...               ...  \n",
       "2278               80  \n",
       "2277               80  \n",
       "2276               80  \n",
       "2274               79  \n",
       "6536              140  \n",
       "\n",
       "[6168 rows x 10 columns]"
      ]
     },
     "execution_count": 110,
     "metadata": {},
     "output_type": "execute_result"
    }
   ],
   "source": [
    "unhealthy"
   ]
  },
  {
   "cell_type": "markdown",
   "metadata": {},
   "source": [
    "In a Machine Learning problem, make sure to upsample/downsample ONLY AFTER you split into train, test (and validate if you wish). If you do upsample your dataset before you split into train and test, there is a high possibility that your model is exposed to data leakage. See an Example below.\n",
    "https://towardsdatascience.com/heres-what-i-ve-learnt-about-sklearn-resample-ab735ae1abc4"
   ]
  },
  {
   "cell_type": "code",
   "execution_count": 453,
   "metadata": {
    "id": "UVz6fD43OgQ4"
   },
   "outputs": [],
   "source": [
    "up_sampled = resample(unhealthy, replace=False, n_samples=len(healthy))\n",
    "up_sampled = pd.concat([healthy, up_sampled])"
   ]
  },
  {
   "cell_type": "code",
   "execution_count": 454,
   "metadata": {
    "colab": {
     "base_uri": "https://localhost:8080/"
    },
    "id": "AG6jVa_9OmKB",
    "outputId": "baa72105-1c74-4dbe-ddbc-1668ba22215a"
   },
   "outputs": [
    {
     "data": {
      "text/plain": [
       "True     369\n",
       "False    369\n",
       "Name: target, dtype: int64"
      ]
     },
     "execution_count": 454,
     "metadata": {},
     "output_type": "execute_result"
    }
   ],
   "source": [
    "#check updated class counts\n",
    "up_sampled['target'].value_counts()"
   ]
  },
  {
   "cell_type": "code",
   "execution_count": 455,
   "metadata": {
    "id": "T3W2trLXOsDz"
   },
   "outputs": [
    {
     "data": {
      "text/plain": [
       "((738, 9), (738,))"
      ]
     },
     "execution_count": 455,
     "metadata": {},
     "output_type": "execute_result"
    }
   ],
   "source": [
    "#X1 = up_sampled.drop(['target','day','windSpeed','humid','cloud','press',], axis=1)\n",
    "X1 = up_sampled.drop(['target'], axis=1)\n",
    "y1 = up_sampled['target']\n",
    "X1.shape, y1.shape"
   ]
  },
  {
   "cell_type": "code",
   "execution_count": 456,
   "metadata": {},
   "outputs": [
    {
     "name": "stdout",
     "output_type": "stream",
     "text": [
      "day                1.000000\n",
      "lon                0.495174\n",
      "windSpeed         -0.070372\n",
      "cloud             -0.098294\n",
      "humid             -0.255530\n",
      "daysSinceSpring   -0.301755\n",
      "northern          -0.314327\n",
      "press             -0.387542\n",
      "lat               -0.468711\n",
      "Name: day, dtype: float64\n",
      "\n",
      "windSpeed          1.000000\n",
      "lon                0.046800\n",
      "humid             -0.069121\n",
      "day               -0.070372\n",
      "cloud             -0.118941\n",
      "press             -0.180703\n",
      "lat               -0.218820\n",
      "daysSinceSpring   -0.237119\n",
      "northern          -0.274481\n",
      "Name: windSpeed, dtype: float64\n",
      "\n",
      "humid              1.000000\n",
      "cloud              0.571598\n",
      "northern           0.318249\n",
      "daysSinceSpring    0.293867\n",
      "lat                0.289044\n",
      "lon               -0.050660\n",
      "windSpeed         -0.069121\n",
      "press             -0.111624\n",
      "day               -0.255530\n",
      "Name: humid, dtype: float64\n",
      "\n",
      "cloud              1.000000\n",
      "humid              0.571598\n",
      "northern           0.173523\n",
      "daysSinceSpring    0.150261\n",
      "lat                0.134458\n",
      "lon               -0.044147\n",
      "day               -0.098294\n",
      "windSpeed         -0.118941\n",
      "press             -0.189876\n",
      "Name: cloud, dtype: float64\n",
      "\n",
      "press              1.000000\n",
      "lat                0.348941\n",
      "northern           0.276057\n",
      "daysSinceSpring    0.251245\n",
      "humid             -0.111624\n",
      "windSpeed         -0.180703\n",
      "cloud             -0.189876\n",
      "lon               -0.327082\n",
      "day               -0.387542\n",
      "Name: press, dtype: float64\n"
     ]
    },
    {
     "data": {
      "text/html": [
       "<div>\n",
       "<style scoped>\n",
       "    .dataframe tbody tr th:only-of-type {\n",
       "        vertical-align: middle;\n",
       "    }\n",
       "\n",
       "    .dataframe tbody tr th {\n",
       "        vertical-align: top;\n",
       "    }\n",
       "\n",
       "    .dataframe thead th {\n",
       "        text-align: right;\n",
       "    }\n",
       "</style>\n",
       "<table border=\"1\" class=\"dataframe\">\n",
       "  <thead>\n",
       "    <tr style=\"text-align: right;\">\n",
       "      <th></th>\n",
       "      <th>lat</th>\n",
       "      <th>lon</th>\n",
       "      <th>day</th>\n",
       "      <th>windSpeed</th>\n",
       "      <th>humid</th>\n",
       "      <th>cloud</th>\n",
       "      <th>press</th>\n",
       "      <th>northern</th>\n",
       "      <th>daysSinceSpring</th>\n",
       "    </tr>\n",
       "  </thead>\n",
       "  <tbody>\n",
       "    <tr>\n",
       "      <th>lat</th>\n",
       "      <td>1.000000</td>\n",
       "      <td>-0.681870</td>\n",
       "      <td>-0.468711</td>\n",
       "      <td>-0.218820</td>\n",
       "      <td>0.289044</td>\n",
       "      <td>0.134458</td>\n",
       "      <td>0.348941</td>\n",
       "      <td>0.931251</td>\n",
       "      <td>0.868638</td>\n",
       "    </tr>\n",
       "    <tr>\n",
       "      <th>lon</th>\n",
       "      <td>-0.681870</td>\n",
       "      <td>1.000000</td>\n",
       "      <td>0.495174</td>\n",
       "      <td>0.046800</td>\n",
       "      <td>-0.050660</td>\n",
       "      <td>-0.044147</td>\n",
       "      <td>-0.327082</td>\n",
       "      <td>-0.560536</td>\n",
       "      <td>-0.508486</td>\n",
       "    </tr>\n",
       "    <tr>\n",
       "      <th>day</th>\n",
       "      <td>-0.468711</td>\n",
       "      <td>0.495174</td>\n",
       "      <td>1.000000</td>\n",
       "      <td>-0.070372</td>\n",
       "      <td>-0.255530</td>\n",
       "      <td>-0.098294</td>\n",
       "      <td>-0.387542</td>\n",
       "      <td>-0.314327</td>\n",
       "      <td>-0.301755</td>\n",
       "    </tr>\n",
       "    <tr>\n",
       "      <th>windSpeed</th>\n",
       "      <td>-0.218820</td>\n",
       "      <td>0.046800</td>\n",
       "      <td>-0.070372</td>\n",
       "      <td>1.000000</td>\n",
       "      <td>-0.069121</td>\n",
       "      <td>-0.118941</td>\n",
       "      <td>-0.180703</td>\n",
       "      <td>-0.274481</td>\n",
       "      <td>-0.237119</td>\n",
       "    </tr>\n",
       "    <tr>\n",
       "      <th>humid</th>\n",
       "      <td>0.289044</td>\n",
       "      <td>-0.050660</td>\n",
       "      <td>-0.255530</td>\n",
       "      <td>-0.069121</td>\n",
       "      <td>1.000000</td>\n",
       "      <td>0.571598</td>\n",
       "      <td>-0.111624</td>\n",
       "      <td>0.318249</td>\n",
       "      <td>0.293867</td>\n",
       "    </tr>\n",
       "    <tr>\n",
       "      <th>cloud</th>\n",
       "      <td>0.134458</td>\n",
       "      <td>-0.044147</td>\n",
       "      <td>-0.098294</td>\n",
       "      <td>-0.118941</td>\n",
       "      <td>0.571598</td>\n",
       "      <td>1.000000</td>\n",
       "      <td>-0.189876</td>\n",
       "      <td>0.173523</td>\n",
       "      <td>0.150261</td>\n",
       "    </tr>\n",
       "    <tr>\n",
       "      <th>press</th>\n",
       "      <td>0.348941</td>\n",
       "      <td>-0.327082</td>\n",
       "      <td>-0.387542</td>\n",
       "      <td>-0.180703</td>\n",
       "      <td>-0.111624</td>\n",
       "      <td>-0.189876</td>\n",
       "      <td>1.000000</td>\n",
       "      <td>0.276057</td>\n",
       "      <td>0.251245</td>\n",
       "    </tr>\n",
       "    <tr>\n",
       "      <th>northern</th>\n",
       "      <td>0.931251</td>\n",
       "      <td>-0.560536</td>\n",
       "      <td>-0.314327</td>\n",
       "      <td>-0.274481</td>\n",
       "      <td>0.318249</td>\n",
       "      <td>0.173523</td>\n",
       "      <td>0.276057</td>\n",
       "      <td>1.000000</td>\n",
       "      <td>0.942091</td>\n",
       "    </tr>\n",
       "    <tr>\n",
       "      <th>daysSinceSpring</th>\n",
       "      <td>0.868638</td>\n",
       "      <td>-0.508486</td>\n",
       "      <td>-0.301755</td>\n",
       "      <td>-0.237119</td>\n",
       "      <td>0.293867</td>\n",
       "      <td>0.150261</td>\n",
       "      <td>0.251245</td>\n",
       "      <td>0.942091</td>\n",
       "      <td>1.000000</td>\n",
       "    </tr>\n",
       "  </tbody>\n",
       "</table>\n",
       "</div>"
      ],
      "text/plain": [
       "                      lat       lon       day  windSpeed     humid     cloud  \\\n",
       "lat              1.000000 -0.681870 -0.468711  -0.218820  0.289044  0.134458   \n",
       "lon             -0.681870  1.000000  0.495174   0.046800 -0.050660 -0.044147   \n",
       "day             -0.468711  0.495174  1.000000  -0.070372 -0.255530 -0.098294   \n",
       "windSpeed       -0.218820  0.046800 -0.070372   1.000000 -0.069121 -0.118941   \n",
       "humid            0.289044 -0.050660 -0.255530  -0.069121  1.000000  0.571598   \n",
       "cloud            0.134458 -0.044147 -0.098294  -0.118941  0.571598  1.000000   \n",
       "press            0.348941 -0.327082 -0.387542  -0.180703 -0.111624 -0.189876   \n",
       "northern         0.931251 -0.560536 -0.314327  -0.274481  0.318249  0.173523   \n",
       "daysSinceSpring  0.868638 -0.508486 -0.301755  -0.237119  0.293867  0.150261   \n",
       "\n",
       "                    press  northern  daysSinceSpring  \n",
       "lat              0.348941  0.931251         0.868638  \n",
       "lon             -0.327082 -0.560536        -0.508486  \n",
       "day             -0.387542 -0.314327        -0.301755  \n",
       "windSpeed       -0.180703 -0.274481        -0.237119  \n",
       "humid           -0.111624  0.318249         0.293867  \n",
       "cloud           -0.189876  0.173523         0.150261  \n",
       "press            1.000000  0.276057         0.251245  \n",
       "northern         0.276057  1.000000         0.942091  \n",
       "daysSinceSpring  0.251245  0.942091         1.000000  "
      ]
     },
     "execution_count": 456,
     "metadata": {},
     "output_type": "execute_result"
    }
   ],
   "source": [
    "corr_matrix = X1.corr()\n",
    "print(corr_matrix['day'].sort_values(ascending=False))\n",
    "print()\n",
    "print(corr_matrix['windSpeed'].sort_values(ascending=False))\n",
    "print()\n",
    "print(corr_matrix['humid'].sort_values(ascending=False))\n",
    "print()\n",
    "print(corr_matrix['cloud'].sort_values(ascending=False))\n",
    "print()\n",
    "print(corr_matrix['press'].sort_values(ascending=False))\n",
    "corr_matrix"
   ]
  },
  {
   "cell_type": "raw",
   "metadata": {},
   "source": [
    "corr_matrix = X1.corr()\n",
    "print(corr_matrix['deltaDay'].sort_values(ascending=False))\n",
    "print()\n",
    "print(corr_matrix['deltaWind'].sort_values(ascending=False))\n",
    "print()\n",
    "print(corr_matrix['deltaHumid'].sort_values(ascending=False))\n",
    "print()\n",
    "print(corr_matrix['deltaCloud'].sort_values(ascending=False))\n",
    "print()\n",
    "print(corr_matrix['deltaPress'].sort_values(ascending=False))\n",
    "corr_matrix"
   ]
  },
  {
   "cell_type": "code",
   "execution_count": 546,
   "metadata": {
    "colab": {
     "base_uri": "https://localhost:8080/"
    },
    "id": "X9vtiHFaO_JL",
    "outputId": "8cbb19ad-79e4-4b23-c13b-0e072571ba7f"
   },
   "outputs": [
    {
     "data": {
      "text/plain": [
       "((442, 9), (296, 9), (442,), (296,))"
      ]
     },
     "execution_count": 546,
     "metadata": {},
     "output_type": "execute_result"
    }
   ],
   "source": [
    "X1_train, X1_test, y1_train, y1_test = train_test_split(X1, y1, test_size=0.4)\n",
    "X1_train.shape, X1_test.shape, y1_train.shape, y1_test.shape"
   ]
  },
  {
   "cell_type": "raw",
   "metadata": {
    "colab": {
     "base_uri": "https://localhost:8080/"
    },
    "id": "6oCC3T3aPHUx",
    "outputId": "2ceaf461-2118-4e94-d77e-8d69ff58289d"
   },
   "source": [
    "import autosklearn.classification\n",
    "import autosklearn.regression\n",
    "\n",
    "automl = autosklearn.classification.AutoSklearnClassifier(\n",
    "#automl = autosklearn.regression.AutoSklearnRegressor(\n",
    "    time_left_for_this_task=30,\n",
    "    per_run_time_limit=10,\n",
    "    n_jobs=-1,\n",
    "    # Each one of the jobs is allocated 3GB\n",
    "    memory_limit=3072,\n",
    "    #seed=5,\n",
    "    max_models_on_disc=1,\n",
    "    ensemble_class=autosklearn.ensembles.SingleBest,\n",
    "    initial_configurations_via_metalearning=0,\n",
    "    include = {\n",
    "        #'classifier': [\"k_nearest_neighbors\", \"libsvm_svc\", \"decision_tree\", \"random_forest\", \"mlp\", \"gaussian_nb\", \"bernoulli_nb\", \"liblinear_svc\"],\n",
    "        'feature_preprocessor': [\"no_preprocessing\"]\n",
    "    },\n",
    "    exclude={\n",
    "        #'classifier': [\"adaboost\", \"qda\", \"random_forest\", \"gradient_boosting\", \"k_nearest_neighbors\", \"decision_tree\", \"mlp\", \"libsvm_svc\", \"lda\", \"passive_aggressive\"],\n",
    "    },\n",
    ")\n",
    "#automl.fit(X1_train, y1_train, X_test=X1_test, y_test=y1_test, dataset_name=\"nuptial_flight_shaped\")\n",
    "automl.fit(X1_train, y1_train, dataset_name=\"nuptial_flight_shaped\")\n",
    "automl.get_models_with_weights()"
   ]
  },
  {
   "cell_type": "raw",
   "metadata": {},
   "source": [
    "from numpy import mean\n",
    "from sklearn.ensemble import RandomForestClassifier\n",
    "from sklearn.calibration import CalibratedClassifierCV\n",
    "from sklearn.model_selection import cross_val_score\n",
    "from sklearn.model_selection import RepeatedStratifiedKFold\n",
    "\n",
    "# define the model\n",
    "automl = RandomForestClassifier(max_features=4, min_samples_split=3, n_estimators=6, n_jobs=-1, ccp_alpha=0.0008)\n",
    "\n",
    "# fit the model on the whole dataset\n",
    "automl.fit(X1_train, y1_train)\n",
    "\n",
    "# calibrate\n",
    "calibrated = CalibratedClassifierCV(base_estimator=automl, n_jobs=-1, ensemble=False, cv=10)\n",
    "calibrated.fit(X1_train, y1_train)"
   ]
  },
  {
   "cell_type": "raw",
   "metadata": {},
   "source": [
    "from sklearn.tree import DecisionTreeClassifier\n",
    "from sklearn.tree import export_text\n",
    "from sklearn.calibration import CalibratedClassifierCV\n",
    "\n",
    "# define the model\n",
    "automl = DecisionTreeClassifier(ccp_alpha=0.000005\n",
    "   # min_samples_leaf=30, ccp_alpha=0.0008\n",
    ")\n",
    "\n",
    "# fit the model on the whole dataset\n",
    "automl.fit(X1_train, y1_train)\n",
    "\n",
    "# calibrate\n",
    "calibrated = CalibratedClassifierCV(base_estimator=automl, n_jobs=-1, ensemble=True)\n",
    "calibrated.fit(X1_train, y1_train)\n",
    "\n",
    "# show tree\n",
    "r = export_text(automl, feature_names=X1_train.columns.array, show_weights=True)\n",
    "print(r)"
   ]
  },
  {
   "cell_type": "raw",
   "metadata": {},
   "source": [
    "from xgboost import XGBClassifier\n",
    "from sklearn.calibration import CalibratedClassifierCV\n",
    "\n",
    "# define the model\n",
    "automl = XGBClassifier(n_jobs=-1, n_estimators=12,) #tree_method='hist', eta=0.2, alpha=3,)\n",
    "\n",
    "# fit the model on the whole dataset\n",
    "automl.fit(X1_train, y1_train)\n",
    "\n",
    "# calibrate\n",
    "calibrated = CalibratedClassifierCV(base_estimator=automl, n_jobs=-1, ensemble=True)\n",
    "calibrated.fit(X1_train, y1_train)\n",
    "\n",
    "# show tree\n",
    "#r = export_text(automl, feature_names=X1_train.columns.array, show_weights=True)\n",
    "#print(r)"
   ]
  },
  {
   "cell_type": "code",
   "execution_count": 607,
   "metadata": {},
   "outputs": [
    {
     "data": {
      "text/plain": [
       "CalibratedClassifierCV(base_estimator=ExtraTreesClassifier(n_estimators=32,\n",
       "                                                           n_jobs=-1),\n",
       "                       n_jobs=-1)"
      ]
     },
     "execution_count": 607,
     "metadata": {},
     "output_type": "execute_result"
    }
   ],
   "source": [
    "# make predictions using extra trees for classification\n",
    "from sklearn.datasets import make_classification\n",
    "from sklearn.ensemble import ExtraTreesClassifier\n",
    "from sklearn.calibration import CalibratedClassifierCV\n",
    "\n",
    "# define the model\n",
    "#automl = ExtraTreesClassifier(n_jobs=-1, n_estimators=8, min_samples_split=24, ccp_alpha=0.000005,)\n",
    "automl = ExtraTreesClassifier(n_jobs=-1, n_estimators=32)\n",
    "    #min_samples_split=3, n_estimators=32, n_jobs=-1, ccp_alpha=0.0008)\n",
    "\n",
    "# fit the model on the whole dataset\n",
    "automl.fit(X1_train, y1_train)\n",
    "\n",
    "# calibrate\n",
    "calibrated = CalibratedClassifierCV(base_estimator=automl, n_jobs=-1, ensemble=True)\n",
    "calibrated.fit(X1_train, y1_train)"
   ]
  },
  {
   "cell_type": "code",
   "execution_count": 608,
   "metadata": {},
   "outputs": [
    {
     "data": {
      "image/png": "[encoded data removed]",
      "text/plain": [
       "<Figure size 640x480 with 1 Axes>"
      ]
     },
     "metadata": {},
     "output_type": "display_data"
    }
   ],
   "source": [
    "from sklearn.calibration import calibration_curve\n",
    "from matplotlib import pyplot\n",
    "\n",
    "fig = plt.figure()\n",
    "ax = fig.add_subplot()\n",
    "ax.plot([0, 1], [0, 1], \"b--\", label=\"Perfect\")\n",
    "ax.set_ylabel(\"Fraction of positives\")\n",
    "ax.set_xlabel(\"Mean predicted value\")\n",
    "ax.set_title('Calibration plot (reliability curve)')\n",
    "\n",
    "prob_pos_rfc = automl.predict_proba(X1_test)[:, 1]\n",
    "fraction_of_positives_rfc, mean_predicted_value_rfc = calibration_curve(y1_test, prob_pos_rfc, n_bins=7)\n",
    "ax.plot(mean_predicted_value_rfc, fraction_of_positives_rfc, \"s-\", label=\"%s\" % ('Raw'))\n",
    "\n",
    "prob_pos_lr = calibrated.predict_proba(X1_test)[:, 1]\n",
    "fraction_of_positives_lr, mean_predicted_value_lr = calibration_curve(y1_test, prob_pos_lr, n_bins=7)\n",
    "ax.plot(mean_predicted_value_lr, fraction_of_positives_lr, \"s-\", label=\"%s\" % ('Calibrated'))\n",
    "\n",
    "ax.legend(loc=\"lower right\")\n",
    "plt.show()"
   ]
  },
  {
   "cell_type": "code",
   "execution_count": 609,
   "metadata": {},
   "outputs": [],
   "source": [
    "#automl.refit(X1_train.copy(), y1_train.copy())"
   ]
  },
  {
   "cell_type": "code",
   "execution_count": 610,
   "metadata": {
    "colab": {
     "base_uri": "https://localhost:8080/"
    },
    "id": "DQJjqCXQPYoE",
    "outputId": "4a627f06-3471-4d53-9061-3cf0f5a86c13"
   },
   "outputs": [],
   "source": [
    "#print(automl.sprint_statistics())"
   ]
  },
  {
   "cell_type": "code",
   "execution_count": 611,
   "metadata": {
    "colab": {
     "base_uri": "https://localhost:8080/"
    },
    "id": "QrkbNqJVPOHz",
    "outputId": "85cf6853-e0cc-4b25-e2b8-65221c676720"
   },
   "outputs": [],
   "source": [
    "#automl.leaderboard()"
   ]
  },
  {
   "cell_type": "code",
   "execution_count": 612,
   "metadata": {},
   "outputs": [],
   "source": [
    "#automl.leaderboard(detailed = True, ensemble_only=False)"
   ]
  },
  {
   "cell_type": "code",
   "execution_count": 613,
   "metadata": {
    "colab": {
     "base_uri": "https://localhost:8080/"
    },
    "id": "Z4-uxmxQPUg0",
    "outputId": "8600a732-17c2-4a0f-faa7-9e522ff2af91"
   },
   "outputs": [],
   "source": [
    "#automl.show_models()"
   ]
  },
  {
   "cell_type": "code",
   "execution_count": 614,
   "metadata": {},
   "outputs": [],
   "source": [
    "#automl.get_models_with_weights()"
   ]
  },
  {
   "cell_type": "code",
   "execution_count": 615,
   "metadata": {
    "colab": {
     "base_uri": "https://localhost:8080/"
    },
    "id": "93myN4irRUlP",
    "outputId": "bdc92321-c3f8-4c44-a1f0-a80c51ede185"
   },
   "outputs": [
    {
     "data": {
      "text/plain": [
       "0.995475113122172"
      ]
     },
     "execution_count": 615,
     "metadata": {},
     "output_type": "execute_result"
    }
   ],
   "source": [
    "automl.score(X1_train, y1_train)"
   ]
  },
  {
   "cell_type": "code",
   "execution_count": 616,
   "metadata": {
    "colab": {
     "base_uri": "https://localhost:8080/"
    },
    "id": "NOYAKj1kReMU",
    "outputId": "bdc29ef6-86b3-49f4-cc7f-07fecd95f513"
   },
   "outputs": [
    {
     "data": {
      "text/plain": [
       "0.6317567567567568"
      ]
     },
     "execution_count": 616,
     "metadata": {},
     "output_type": "execute_result"
    }
   ],
   "source": [
    "automl.score(X1_test, y1_test)"
   ]
  },
  {
   "cell_type": "raw",
   "metadata": {},
   "source": [
    "import PipelineProfiler\n",
    "profiler_data = PipelineProfiler.import_autosklearn(automl)\n",
    "PipelineProfiler.plot_pipeline_matrix(profiler_data)"
   ]
  },
  {
   "cell_type": "raw",
   "metadata": {},
   "source": [
    "# Score of the final ensemble\n",
    "from sklearn.metrics import confusion_matrix, accuracy_score\n",
    "y1_pred = automl.predict(X1_test)\n",
    "conf_matrix = confusion_matrix(y1_pred, y1_test)\n",
    "\n",
    "sns.heatmap(conf_matrix, annot=True)"
   ]
  },
  {
   "cell_type": "code",
   "execution_count": 617,
   "metadata": {
    "colab": {
     "base_uri": "https://localhost:8080/",
     "height": 283
    },
    "id": "ROLpcKYaRlbG",
    "outputId": "6e4726b0-56a1-4a49-8864-3bdf0e8cd64a"
   },
   "outputs": [
    {
     "name": "stdout",
     "output_type": "stream",
     "text": [
      "True Positive(TP)  =  91\n",
      "False Positive(FP) =  55\n",
      "True Negative(TN)  =  96\n",
      "False Negative(FN) =  54\n"
     ]
    },
    {
     "data": {
      "text/plain": [
       "<AxesSubplot: >"
      ]
     },
     "execution_count": 617,
     "metadata": {},
     "output_type": "execute_result"
    },
    {
     "data": {
      "image/png": "[encoded data removed]",
      "text/plain": [
       "<Figure size 640x480 with 2 Axes>"
      ]
     },
     "metadata": {},
     "output_type": "display_data"
    }
   ],
   "source": [
    "# Score of the final ensemble\n",
    "from sklearn.metrics import confusion_matrix, accuracy_score\n",
    "y1_pred = automl.predict(X1_test)\n",
    "conf_matrix = confusion_matrix(y1_pred, y1_test)\n",
    "\n",
    "TN, FP, FN, TP = conf_matrix.ravel()\n",
    "print('True Positive(TP)  = ', TP)\n",
    "print('False Positive(FP) = ', FP)\n",
    "print('True Negative(TN)  = ', TN)\n",
    "print('False Negative(FN) = ', FN)\n",
    "\n",
    "sns.heatmap(conf_matrix, annot=True, xticklabels=['Predicted Negative', 'Predicted Positive'], yticklabels=['Actual Negative', 'Actual Positive'])"
   ]
  },
  {
   "cell_type": "code",
   "execution_count": 618,
   "metadata": {
    "colab": {
     "base_uri": "https://localhost:8080/"
    },
    "id": "VRr3xtX2VByA",
    "outputId": "a991d751-b0f8-42e0-b731-474889ae5eb6"
   },
   "outputs": [
    {
     "name": "stdout",
     "output_type": "stream",
     "text": [
      "Test Accuracy score  0.6317567567567568\n",
      "Test F1-Score        0.6254295532646048\n"
     ]
    }
   ],
   "source": [
    "from sklearn.metrics import accuracy_score\n",
    "from sklearn.metrics import f1_score\n",
    "\n",
    "pred = automl.predict(X1_test)\n",
    "m2_acc_score = accuracy_score(y1_test, y1_pred)\n",
    "print(\"Test Accuracy score  {0}\".format(m2_acc_score))\n",
    "m2_test_f1 = f1_score(y1_test, y1_pred)\n",
    "print(f\"Test F1-Score        {m2_test_f1}\")"
   ]
  },
  {
   "cell_type": "code",
   "execution_count": 619,
   "metadata": {},
   "outputs": [
    {
     "name": "stdout",
     "output_type": "stream",
     "text": [
      "              precision    recall  f1-score   support\n",
      "\n",
      "       False       0.64      0.64      0.64       150\n",
      "        True       0.63      0.62      0.63       146\n",
      "\n",
      "    accuracy                           0.63       296\n",
      "   macro avg       0.63      0.63      0.63       296\n",
      "weighted avg       0.63      0.63      0.63       296\n",
      "\n"
     ]
    }
   ],
   "source": [
    "from sklearn.metrics import classification_report\n",
    "print(classification_report(y1_test, y1_pred))"
   ]
  },
  {
   "cell_type": "raw",
   "metadata": {
    "colab": {
     "base_uri": "https://localhost:8080/",
     "height": 265
    },
    "id": "hPykr_aQSanD",
    "outputId": "3c94bf31-94ce-437e-cac1-1978498e1a01"
   },
   "source": [
    "model_eval = pd.DataFrame({'Model': ['skewed','adjusted'], 'Accuracy': [m1_acc_score, m2_acc_score]})\n",
    "model_eval = model_eval.set_index('Model').sort_values(by='Accuracy',ascending=False)\n",
    "fig = plt.figure(figsize=(20, 4))\n",
    "gs = fig.add_gridspec(1, 2)\n",
    "gs.update(wspace=0.6, hspace=0.6)\n",
    "ax0 = fig.add_subplot(gs[0, 0])\n",
    "sns.heatmap(model_eval,cmap=\"PiYG\",annot=True,fmt=\".1%\", linewidths=4,cbar=False,ax=ax0)\n",
    "plt.show()"
   ]
  },
  {
   "cell_type": "code",
   "execution_count": 620,
   "metadata": {
    "id": "9BNR6COTsRrp"
   },
   "outputs": [],
   "source": [
    "import pickle\n",
    "# save the model \n",
    "filename = 'final_model10.sav' \n",
    "pickle.dump(automl, open(filename, 'wb'))"
   ]
  },
  {
   "cell_type": "code",
   "execution_count": 621,
   "metadata": {
    "colab": {
     "base_uri": "https://localhost:8080/"
    },
    "id": "cwiGyn4DtyFz",
    "outputId": "9e835ca9-a78c-4cd1-fbc1-5a5e9e3be4e1"
   },
   "outputs": [
    {
     "name": "stdout",
     "output_type": "stream",
     "text": [
      "0.6317567567567568\n"
     ]
    }
   ],
   "source": [
    "#load the model\n",
    "loaded_model = pickle.load(open(filename, 'rb'))\n",
    "result = loaded_model.score(X1_test, y1_test)\n",
    "print(result)"
   ]
  },
  {
   "cell_type": "code",
   "execution_count": 622,
   "metadata": {
    "colab": {
     "base_uri": "https://localhost:8080/"
    },
    "id": "wkLUrfIoSxhh",
    "outputId": "30ef9016-f6b4-4d62-e6ed-52aa8cadfe1b"
   },
   "outputs": [
    {
     "name": "stdout",
     "output_type": "stream",
     "text": [
      "Random Forest size: 1.11 MB\n"
     ]
    }
   ],
   "source": [
    "import os\n",
    "import joblib\n",
    "# save the model \n",
    "joblib.dump(automl, filename)\n",
    "print(f\"Random Forest size: {np.round(os.path.getsize(filename) / 1024 / 1024, 2) } MB\")"
   ]
  },
  {
   "cell_type": "raw",
   "metadata": {},
   "source": [
    "from sklite import LazyExport\n",
    "\n",
    "extracted_model = automl.to_sklearn()\n",
    "verify_only_sklearn_objects(extracted_model)\n",
    "print(extracted_model.__repr__(N_CHAR_MAX=100000))\n",
    "lazy = LazyExport(extracted_model)\n",
    "lazy.save('final_model6.json')"
   ]
  },
  {
   "cell_type": "code",
   "execution_count": 623,
   "metadata": {},
   "outputs": [
    {
     "name": "stdout",
     "output_type": "stream",
     "text": [
      "True\n",
      "0.96875\n",
      "0.7051823565335609\n"
     ]
    },
    {
     "data": {
      "text/html": [
       "<div>\n",
       "<style scoped>\n",
       "    .dataframe tbody tr th:only-of-type {\n",
       "        vertical-align: middle;\n",
       "    }\n",
       "\n",
       "    .dataframe tbody tr th {\n",
       "        vertical-align: top;\n",
       "    }\n",
       "\n",
       "    .dataframe thead th {\n",
       "        text-align: right;\n",
       "    }\n",
       "</style>\n",
       "<table border=\"1\" class=\"dataframe\">\n",
       "  <thead>\n",
       "    <tr style=\"text-align: right;\">\n",
       "      <th></th>\n",
       "      <th>lat</th>\n",
       "      <th>lon</th>\n",
       "      <th>day</th>\n",
       "      <th>windSpeed</th>\n",
       "      <th>humid</th>\n",
       "      <th>cloud</th>\n",
       "      <th>press</th>\n",
       "      <th>northern</th>\n",
       "      <th>daysSinceSpring</th>\n",
       "    </tr>\n",
       "  </thead>\n",
       "  <tbody>\n",
       "    <tr>\n",
       "      <th>0</th>\n",
       "      <td>-35.2</td>\n",
       "      <td>149.1</td>\n",
       "      <td>16.4</td>\n",
       "      <td>5.7</td>\n",
       "      <td>77</td>\n",
       "      <td>74</td>\n",
       "      <td>1013</td>\n",
       "      <td>False</td>\n",
       "      <td>38</td>\n",
       "    </tr>\n",
       "  </tbody>\n",
       "</table>\n",
       "</div>"
      ],
      "text/plain": [
       "    lat    lon   day  windSpeed  humid  cloud  press  northern  \\\n",
       "0 -35.2  149.1  16.4        5.7     77     74   1013     False   \n",
       "\n",
       "   daysSinceSpring  \n",
       "0               38  "
      ]
     },
     "execution_count": 623,
     "metadata": {},
     "output_type": "execute_result"
    }
   ],
   "source": [
    "# define one new data instance\n",
    "#Xsample = {'day': 0.30, 'eve': 0.15, 'min': 0.16, 'max': 0.07, 'night': 0.18, 'morn': 0.27, 'feelsLike': 0.20, 'windSpeed': 0.38, 'windGust': 0.48, 'rain': 0.99, 'humid': 0.76, 'cloud': 0.99, 'press': 0.54, 'dewPoint': 0.57, 'uvi': 0.43}\n",
    "#Xsample = {'lat': -35.1968, 'day': 16.37, 'eve': 13.05, 'min': 8.35, 'max': 16.37, 'night': 8.35, 'morn': 10.38, 'feelsLike': 16.07, 'windSpeed': 5.64, 'windGust': 7.2, 'rain': 1, 'humid': 77, 'cloud': 73, 'press': 1014, 'dewPoint': 11.95, 'uvi': 6.05}\n",
    "#Xsample = {'lat': -35.0, 'day': 22, 'eve': 18, 'min': 13, 'max': 23, 'night': 16, 'morn': 17, 'feelsLike': 23, 'windSpeed': 4, 'windGust': 4, 'rain': 0, 'humid': 70, 'cloud': 0, 'press': 1010, 'dewPoint': 18.43, 'uvi': 6}\n",
    "Xsample = {'lat': -35.2, 'lon': 149.1, 'dayOfYear': 281, 'month': 10, 'season': 4, 'northern': False, 'daysSinceSpring': 38, 'day': 16.4, 'eve': 13.1, 'min': 8.3, 'max': 16.4, 'night': 8.4, 'morn': 10.5, 'feelsLike': 16.1, 'windSpeed': 5.7, 'windGust': 7.1, 'rain': 0.95, 'humid': 77, 'cloud': 74, 'press': 1013, 'dewPoint': 12.0, 'uvi': 6.1}\n",
    "#Xsample = {'lat': -28.0, 'lon': 153.0, 'northern': False, 'daysSinceSpring': 140, 'day': 27.0, 'windSpeed': 5.7, 'windGust': 7.1, 'rain': 0.95, 'humid': 77, 'cloud': 74, 'press': 1013, 'dewPoint': 12.0, 'uvi': 6.1}\n",
    "#print(Xsample)\n",
    "\n",
    "Xsample[\"deltaDay\"] = true_temp(Xsample[\"day\"])\n",
    "Xsample[\"deltaWind\"] = true_wind(Xsample[\"windSpeed\"])\n",
    "Xsample[\"deltaHumid\"] = true_humidity(Xsample[\"humid\"])\n",
    "Xsample[\"deltaCloud\"] = true_cloud(Xsample[\"cloud\"])\n",
    "Xsample[\"deltaPress\"] = true_pressure(Xsample[\"press\"])\n",
    "\n",
    "\n",
    "Xtest = [Xsample]\n",
    "Xnew = pd.DataFrame(data=Xtest, columns=X1_train.columns)\n",
    "#print(Xnew)\n",
    "\n",
    "# make a prediction\n",
    "print(automl.predict(Xnew)[0])\n",
    "\n",
    "# make a prediction\n",
    "print(automl.predict_proba(Xnew)[0][1])\n",
    "print(calibrated.predict_proba(Xnew)[0][1])\n",
    "\n",
    "# get decision path\n",
    "#print(automl.decision_path(Xnew))\n",
    "\n",
    "# show the inputs and predicted outputs\n",
    "Xnew"
   ]
  },
  {
   "cell_type": "code",
   "execution_count": 624,
   "metadata": {},
   "outputs": [],
   "source": [
    "def chart_parameter(title, parameter, true_fun, pMin, pMax):   \n",
    "    Xtest = []\n",
    "    for i in np.linspace(pMin, pMax, 100):\n",
    "        XsampleCopy = Xsample.copy()\n",
    "        XsampleCopy[parameter] = i\n",
    "        XsampleCopy[\"deltaDay\"] = true_temp(XsampleCopy[\"day\"])\n",
    "        XsampleCopy[\"deltaWind\"] = true_wind(XsampleCopy[\"windSpeed\"])\n",
    "        XsampleCopy[\"deltaHumid\"] = true_humidity(XsampleCopy[\"humid\"])\n",
    "        XsampleCopy[\"deltaCloud\"] = true_cloud(XsampleCopy[\"cloud\"])\n",
    "        XsampleCopy[\"deltaPress\"] = true_pressure(XsampleCopy[\"press\"])\n",
    "        Xtest.append(XsampleCopy)\n",
    "\n",
    "    Xnew = pd.DataFrame(data=Xtest, columns=X1_train.columns)\n",
    "    #print(Xnew)\n",
    "\n",
    "    n_samples = 0\n",
    "    degrees = [1]\n",
    "\n",
    "    #X = np.sort(np.random.rand(n_samples))\n",
    "    #y = true_fun(X) + np.random.randn(n_samples) * 0.1\n",
    "    #y = map_true_fun(X, true_fun)\n",
    "\n",
    "    plt.figure(figsize=(14, 4))\n",
    "    for i in range(len(degrees)):\n",
    "        ax = plt.subplot(1, len(degrees), i + 1)\n",
    "        #plt.setp(ax, xticks=())\n",
    "\n",
    "        X_test = np.linspace(pMin, pMax, 100)\n",
    "        #prediction = automl.predict_proba(Xnew)\n",
    "        prediction = [item[1] for item in automl.predict_proba(Xnew)]\n",
    "        plt.plot(X_test, prediction, label=\"Model\")\n",
    "        plt.plot(X_test, map_true_fun(X_test, true_fun), label=\"App\")\n",
    "        #plt.scatter(X, y, edgecolor=\"b\", s=20, label=\"Samples\")\n",
    "        plt.xlabel(\"Parameter\")\n",
    "        plt.ylabel(\"Confidence\")\n",
    "        plt.xlim((pMin, pMax))\n",
    "        plt.ylim((-0.05, 1.05))\n",
    "        plt.legend(loc=\"best\")\n",
    "        plt.title(title)\n",
    "    plt.show()\n",
    "    prediction"
   ]
  },
  {
   "cell_type": "raw",
   "metadata": {},
   "source": [
    "chart_parameter('Day of Year', 'dayofYear', true_funct, 0, 366)"
   ]
  },
  {
   "cell_type": "raw",
   "metadata": {},
   "source": [
    "chart_parameter('Season', 'season', true_funct, 1, 4)"
   ]
  },
  {
   "cell_type": "raw",
   "metadata": {},
   "source": [
    "chart_parameter('Month', 'month', true_funct, 1, 12)"
   ]
  },
  {
   "cell_type": "raw",
   "metadata": {},
   "source": [
    "chart_parameter('Hemisphere', 'northern', true_funct, False, True)"
   ]
  },
  {
   "cell_type": "code",
   "execution_count": 625,
   "metadata": {},
   "outputs": [
    {
     "data": {
      "image/png": "[encoded data removed]",
      "text/plain": [
       "<Figure size 1400x400 with 1 Axes>"
      ]
     },
     "metadata": {},
     "output_type": "display_data"
    }
   ],
   "source": [
    "chart_parameter('Days Since Spring', 'daysSinceSpring', true_funct, 1, 366)"
   ]
  },
  {
   "cell_type": "raw",
   "metadata": {},
   "source": [
    "chart_parameter('Morning Temp', 'morn', true_temp, 0, 40)"
   ]
  },
  {
   "cell_type": "code",
   "execution_count": 626,
   "metadata": {},
   "outputs": [
    {
     "data": {
      "image/png": "[encoded data removed]",
      "text/plain": [
       "<Figure size 1400x400 with 1 Axes>"
      ]
     },
     "metadata": {},
     "output_type": "display_data"
    }
   ],
   "source": [
    "chart_parameter('Day Temp', 'day', true_temp, 0, 40)"
   ]
  },
  {
   "cell_type": "code",
   "execution_count": 627,
   "metadata": {},
   "outputs": [],
   "source": [
    "#chart_parameter('Eve Temp', 'eve', true_temp, 0, 40)"
   ]
  },
  {
   "cell_type": "code",
   "execution_count": 628,
   "metadata": {},
   "outputs": [],
   "source": [
    "#chart_parameter('Min Temp', 'min', true_temp, 0, 40)"
   ]
  },
  {
   "cell_type": "code",
   "execution_count": 629,
   "metadata": {},
   "outputs": [],
   "source": [
    "#chart_parameter('Max Temp', 'max', true_temp, 0, 40)"
   ]
  },
  {
   "cell_type": "code",
   "execution_count": 630,
   "metadata": {},
   "outputs": [
    {
     "data": {
      "image/png": "[encoded data removed]",
      "text/plain": [
       "<Figure size 1400x400 with 1 Axes>"
      ]
     },
     "metadata": {},
     "output_type": "display_data"
    }
   ],
   "source": [
    "chart_parameter('Wind Speed', 'windSpeed', true_wind, 0, 15)"
   ]
  },
  {
   "cell_type": "raw",
   "metadata": {},
   "source": [
    "chart_parameter('Wind Gust', 'windGust', true_wind, 0, 15)"
   ]
  },
  {
   "cell_type": "code",
   "execution_count": 631,
   "metadata": {},
   "outputs": [
    {
     "data": {
      "image/png": "[encoded data removed]",
      "text/plain": [
       "<Figure size 1400x400 with 1 Axes>"
      ]
     },
     "metadata": {},
     "output_type": "display_data"
    }
   ],
   "source": [
    "chart_parameter('Cloud Cover', 'cloud', true_cloud, 0, 100)"
   ]
  },
  {
   "cell_type": "code",
   "execution_count": 632,
   "metadata": {},
   "outputs": [
    {
     "data": {
      "image/png": "[encoded data removed]",
      "text/plain": [
       "<Figure size 1400x400 with 1 Axes>"
      ]
     },
     "metadata": {},
     "output_type": "display_data"
    }
   ],
   "source": [
    "chart_parameter('Pressure', 'press', true_pressure, 995, 1030)"
   ]
  },
  {
   "cell_type": "raw",
   "metadata": {},
   "source": [
    "chart_parameter('Rain Probability', 'pop', true_rain, 0, 1)"
   ]
  },
  {
   "cell_type": "code",
   "execution_count": 633,
   "metadata": {
    "scrolled": true
   },
   "outputs": [
    {
     "data": {
      "image/png": "[encoded data removed]",
      "text/plain": [
       "<Figure size 1400x400 with 1 Axes>"
      ]
     },
     "metadata": {},
     "output_type": "display_data"
    }
   ],
   "source": [
    "chart_parameter('Humidity', 'humid', true_humidity, 0, 100)"
   ]
  },
  {
   "cell_type": "raw",
   "metadata": {
    "scrolled": true
   },
   "source": [
    "chart_parameter('UVI', 'uvi', true_uvi, 0, 14)"
   ]
  },
  {
   "cell_type": "raw",
   "metadata": {},
   "source": [
    "chart_parameter('Dew Point', 'dew_point', true_dewPoint, 0, 25)"
   ]
  },
  {
   "cell_type": "code",
   "execution_count": 634,
   "metadata": {},
   "outputs": [
    {
     "data": {
      "image/png": "[encoded data removed]",
      "text/plain": [
       "<Figure size 1400x400 with 1 Axes>"
      ]
     },
     "metadata": {},
     "output_type": "display_data"
    }
   ],
   "source": [
    "chart_parameter('Latitude', 'lat', true_funct, -90, 90)"
   ]
  },
  {
   "cell_type": "code",
   "execution_count": 635,
   "metadata": {},
   "outputs": [
    {
     "data": {
      "image/png": "[encoded data removed]",
      "text/plain": [
       "<Figure size 1400x400 with 1 Axes>"
      ]
     },
     "metadata": {},
     "output_type": "display_data"
    }
   ],
   "source": [
    "chart_parameter('Longitude', 'lon', true_funct, -180, 180)"
   ]
  },
  {
   "cell_type": "code",
   "execution_count": 636,
   "metadata": {},
   "outputs": [
    {
     "name": "stdout",
     "output_type": "stream",
     "text": [
      "Random Forest size: 1.86 MB\n"
     ]
    }
   ],
   "source": [
    "from sklearn import linear_model, tree\n",
    "import m2cgen as m2c\n",
    "import pickle\n",
    "\n",
    "code = m2c.export_to_dart(automl)\n",
    "\n",
    "# save the model \n",
    "filename = 'final_model10.dart' \n",
    "text_file = open(filename, \"w\")\n",
    "n = text_file.write(code)\n",
    "text_file.close()\n",
    "print(f\"Random Forest size: {np.round(os.path.getsize(filename) / 1024 / 1024, 2) } MB\")"
   ]
  }
 ],
 "metadata": {
  "colab": {
   "collapsed_sections": [],
   "name": "autosklearn_AV_classification_working",
   "provenance": []
  },
  "kernelspec": {
   "display_name": "Python 3 (ipykernel)",
   "language": "python",
   "name": "python3"
  },
  "language_info": {
   "codemirror_mode": {
    "name": "ipython",
    "version": 3
   },
   "file_extension": ".py",
   "mimetype": "text/x-python",
   "name": "python",
   "nbconvert_exporter": "python",
   "pygments_lexer": "ipython3",
   "version": "3.8.10"
  }
 },
 "nbformat": 4,
 "nbformat_minor": 1
}
