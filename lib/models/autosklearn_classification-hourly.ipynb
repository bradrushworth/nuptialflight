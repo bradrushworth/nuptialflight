{
 "cells": [
  {
   "cell_type": "code",
   "execution_count": 1,
   "metadata": {
    "id": "Qeyu04KG9hi5"
   },
   "outputs": [],
   "source": [
    "#pip install auto-sklearn"
   ]
  },
  {
   "cell_type": "code",
   "execution_count": 2,
   "metadata": {
    "id": "1LXeDWtBi8RI"
   },
   "outputs": [],
   "source": [
    "import pandas as pd\n",
    "import numpy as np\n",
    "import matplotlib.pyplot as plt\n",
    "import seaborn as sns\n",
    "from sklearn.model_selection import train_test_split\n",
    "from pprint import pprint"
   ]
  },
  {
   "cell_type": "markdown",
   "metadata": {
    "id": "EzCvk2qk_SMm"
   },
   "source": [
    "# **Ant Nuptial Flight Predictor**\n",
    "---\n",
    "\n"
   ]
  },
  {
   "cell_type": "code",
   "execution_count": 3,
   "metadata": {},
   "outputs": [
    {
     "name": "stdout",
     "output_type": "stream",
     "text": [
      "Requirement already satisfied: python-arango in /usr/local/lib/python3.8/dist-packages (7.7.0)\n",
      "Requirement already satisfied: sklite in /usr/local/lib/python3.8/dist-packages (0.0.2)\n",
      "Requirement already satisfied: m2cgen in /usr/local/lib/python3.8/dist-packages (0.10.0)\n",
      "Requirement already satisfied: pipelineprofiler in /usr/local/lib/python3.8/dist-packages (0.1.18)\n",
      "Requirement already satisfied: xgboost in /usr/local/lib/python3.8/dist-packages (2.0.0)\n",
      "Requirement already satisfied: urllib3>=1.26.0 in /usr/local/lib/python3.8/dist-packages (from python-arango) (1.26.12)\n",
      "Requirement already satisfied: setuptools>=42 in /usr/local/lib/python3.8/dist-packages (from python-arango) (65.3.0)\n",
      "Requirement already satisfied: requests in /usr/local/lib/python3.8/dist-packages (from python-arango) (2.28.1)\n",
      "Requirement already satisfied: requests-toolbelt in /usr/local/lib/python3.8/dist-packages (from python-arango) (1.0.0)\n",
      "Requirement already satisfied: PyJWT in /usr/local/lib/python3.8/dist-packages (from python-arango) (2.8.0)\n",
      "Requirement already satisfied: packaging>=23.1 in /usr/local/lib/python3.8/dist-packages (from python-arango) (23.2)\n",
      "Requirement already satisfied: importlib-metadata>=4.7.1 in /usr/local/lib/python3.8/dist-packages (from python-arango) (4.12.0)\n",
      "Requirement already satisfied: numpy in /usr/local/lib/python3.8/dist-packages (from m2cgen) (1.23.3)\n",
      "Requirement already satisfied: scipy in /usr/local/lib/python3.8/dist-packages (from pipelineprofiler) (1.9.1)\n",
      "Requirement already satisfied: notebook in /usr/local/lib/python3.8/dist-packages (from pipelineprofiler) (6.4.12)\n",
      "Requirement already satisfied: scikit-learn in /usr/local/lib/python3.8/dist-packages (from pipelineprofiler) (0.24.2)\n",
      "Requirement already satisfied: networkx in /usr/local/lib/python3.8/dist-packages (from pipelineprofiler) (3.1)\n",
      "Requirement already satisfied: python-dateutil in /usr/local/lib/python3.8/dist-packages (from pipelineprofiler) (2.8.2)\n",
      "Requirement already satisfied: zipp>=0.5 in /usr/local/lib/python3.8/dist-packages (from importlib-metadata>=4.7.1->python-arango) (3.8.1)\n",
      "Requirement already satisfied: ipykernel in /usr/local/lib/python3.8/dist-packages (from notebook->pipelineprofiler) (6.15.3)\n",
      "Requirement already satisfied: nbformat in /usr/local/lib/python3.8/dist-packages (from notebook->pipelineprofiler) (5.5.0)\n",
      "Requirement already satisfied: Send2Trash>=1.8.0 in /usr/local/lib/python3.8/dist-packages (from notebook->pipelineprofiler) (1.8.0)\n",
      "Requirement already satisfied: jupyter-client>=5.3.4 in /usr/local/lib/python3.8/dist-packages (from notebook->pipelineprofiler) (7.3.4)\n",
      "Requirement already satisfied: nbconvert>=5 in /usr/local/lib/python3.8/dist-packages (from notebook->pipelineprofiler) (7.0.0)\n",
      "Requirement already satisfied: jinja2 in /usr/local/lib/python3.8/dist-packages (from notebook->pipelineprofiler) (3.1.2)\n",
      "Requirement already satisfied: pyzmq>=17 in /usr/local/lib/python3.8/dist-packages (from notebook->pipelineprofiler) (24.0.0)\n",
      "Requirement already satisfied: prometheus-client in /usr/local/lib/python3.8/dist-packages (from notebook->pipelineprofiler) (0.14.1)\n",
      "Requirement already satisfied: tornado>=6.1 in /usr/local/lib/python3.8/dist-packages (from notebook->pipelineprofiler) (6.1)\n",
      "Requirement already satisfied: ipython-genutils in /usr/local/lib/python3.8/dist-packages (from notebook->pipelineprofiler) (0.2.0)\n",
      "Requirement already satisfied: terminado>=0.8.3 in /usr/local/lib/python3.8/dist-packages (from notebook->pipelineprofiler) (0.15.0)\n",
      "Requirement already satisfied: argon2-cffi in /usr/local/lib/python3.8/dist-packages (from notebook->pipelineprofiler) (21.3.0)\n",
      "Requirement already satisfied: nest-asyncio>=1.5 in /usr/local/lib/python3.8/dist-packages (from notebook->pipelineprofiler) (1.5.5)\n",
      "Requirement already satisfied: jupyter-core>=4.6.1 in /usr/local/lib/python3.8/dist-packages (from notebook->pipelineprofiler) (4.11.1)\n",
      "Requirement already satisfied: traitlets>=4.2.1 in /usr/local/lib/python3.8/dist-packages (from notebook->pipelineprofiler) (5.4.0)\n",
      "Requirement already satisfied: six>=1.5 in /usr/local/lib/python3.8/dist-packages (from python-dateutil->pipelineprofiler) (1.16.0)\n",
      "Requirement already satisfied: idna<4,>=2.5 in /usr/local/lib/python3.8/dist-packages (from requests->python-arango) (3.4)\n",
      "Requirement already satisfied: certifi>=2017.4.17 in /usr/local/lib/python3.8/dist-packages (from requests->python-arango) (2022.9.14)\n",
      "Requirement already satisfied: charset-normalizer<3,>=2 in /usr/local/lib/python3.8/dist-packages (from requests->python-arango) (2.1.1)\n",
      "Requirement already satisfied: threadpoolctl>=2.0.0 in /usr/local/lib/python3.8/dist-packages (from scikit-learn->pipelineprofiler) (3.1.0)\n",
      "Requirement already satisfied: joblib>=0.11 in /usr/local/lib/python3.8/dist-packages (from scikit-learn->pipelineprofiler) (1.2.0)\n",
      "Requirement already satisfied: entrypoints in /usr/local/lib/python3.8/dist-packages (from jupyter-client>=5.3.4->notebook->pipelineprofiler) (0.4)\n",
      "Requirement already satisfied: lxml in /usr/local/lib/python3.8/dist-packages (from nbconvert>=5->notebook->pipelineprofiler) (4.9.1)\n",
      "Requirement already satisfied: beautifulsoup4 in /usr/local/lib/python3.8/dist-packages (from nbconvert>=5->notebook->pipelineprofiler) (4.11.1)\n",
      "Requirement already satisfied: pygments>=2.4.1 in /usr/local/lib/python3.8/dist-packages (from nbconvert>=5->notebook->pipelineprofiler) (2.13.0)\n",
      "Requirement already satisfied: bleach in /usr/local/lib/python3.8/dist-packages (from nbconvert>=5->notebook->pipelineprofiler) (5.0.1)\n",
      "Requirement already satisfied: jupyterlab-pygments in /usr/local/lib/python3.8/dist-packages (from nbconvert>=5->notebook->pipelineprofiler) (0.2.2)\n",
      "Requirement already satisfied: nbclient>=0.5.0 in /usr/local/lib/python3.8/dist-packages (from nbconvert>=5->notebook->pipelineprofiler) (0.6.8)\n",
      "Requirement already satisfied: tinycss2 in /usr/local/lib/python3.8/dist-packages (from nbconvert>=5->notebook->pipelineprofiler) (1.1.1)\n",
      "Requirement already satisfied: defusedxml in /usr/local/lib/python3.8/dist-packages (from nbconvert>=5->notebook->pipelineprofiler) (0.7.1)\n",
      "Requirement already satisfied: markupsafe>=2.0 in /usr/local/lib/python3.8/dist-packages (from nbconvert>=5->notebook->pipelineprofiler) (2.1.1)\n",
      "Requirement already satisfied: mistune<3,>=2.0.3 in /usr/local/lib/python3.8/dist-packages (from nbconvert>=5->notebook->pipelineprofiler) (2.0.4)\n",
      "Requirement already satisfied: pandocfilters>=1.4.1 in /usr/local/lib/python3.8/dist-packages (from nbconvert>=5->notebook->pipelineprofiler) (1.5.0)\n",
      "Requirement already satisfied: jsonschema>=2.6 in /usr/local/lib/python3.8/dist-packages (from nbformat->notebook->pipelineprofiler) (4.16.0)\n",
      "Requirement already satisfied: fastjsonschema in /usr/local/lib/python3.8/dist-packages (from nbformat->notebook->pipelineprofiler) (2.16.2)\n",
      "Requirement already satisfied: ptyprocess in /usr/local/lib/python3.8/dist-packages (from terminado>=0.8.3->notebook->pipelineprofiler) (0.7.0)\n",
      "Requirement already satisfied: argon2-cffi-bindings in /usr/local/lib/python3.8/dist-packages (from argon2-cffi->notebook->pipelineprofiler) (21.2.0)\n",
      "Requirement already satisfied: psutil in /usr/local/lib/python3.8/dist-packages (from ipykernel->notebook->pipelineprofiler) (5.9.2)\n",
      "Requirement already satisfied: matplotlib-inline>=0.1 in /usr/local/lib/python3.8/dist-packages (from ipykernel->notebook->pipelineprofiler) (0.1.6)\n",
      "Requirement already satisfied: debugpy>=1.0 in /usr/local/lib/python3.8/dist-packages (from ipykernel->notebook->pipelineprofiler) (1.6.3)\n",
      "Requirement already satisfied: ipython>=7.23.1 in /usr/local/lib/python3.8/dist-packages (from ipykernel->notebook->pipelineprofiler) (8.5.0)\n",
      "Requirement already satisfied: stack-data in /usr/local/lib/python3.8/dist-packages (from ipython>=7.23.1->ipykernel->notebook->pipelineprofiler) (0.5.0)\n",
      "Requirement already satisfied: pexpect>4.3 in /usr/local/lib/python3.8/dist-packages (from ipython>=7.23.1->ipykernel->notebook->pipelineprofiler) (4.8.0)\n",
      "Requirement already satisfied: backcall in /usr/local/lib/python3.8/dist-packages (from ipython>=7.23.1->ipykernel->notebook->pipelineprofiler) (0.2.0)\n",
      "Requirement already satisfied: pickleshare in /usr/local/lib/python3.8/dist-packages (from ipython>=7.23.1->ipykernel->notebook->pipelineprofiler) (0.7.5)\n",
      "Requirement already satisfied: jedi>=0.16 in /usr/local/lib/python3.8/dist-packages (from ipython>=7.23.1->ipykernel->notebook->pipelineprofiler) (0.18.1)\n",
      "Requirement already satisfied: decorator in /usr/local/lib/python3.8/dist-packages (from ipython>=7.23.1->ipykernel->notebook->pipelineprofiler) (5.1.1)\n",
      "Requirement already satisfied: prompt-toolkit<3.1.0,>3.0.1 in /usr/local/lib/python3.8/dist-packages (from ipython>=7.23.1->ipykernel->notebook->pipelineprofiler) (3.0.31)\n",
      "Requirement already satisfied: pkgutil-resolve-name>=1.3.10 in /usr/local/lib/python3.8/dist-packages (from jsonschema>=2.6->nbformat->notebook->pipelineprofiler) (1.3.10)\n",
      "Requirement already satisfied: importlib-resources>=1.4.0 in /usr/local/lib/python3.8/dist-packages (from jsonschema>=2.6->nbformat->notebook->pipelineprofiler) (5.9.0)\n",
      "Requirement already satisfied: pyrsistent!=0.17.0,!=0.17.1,!=0.17.2,>=0.14.0 in /usr/local/lib/python3.8/dist-packages (from jsonschema>=2.6->nbformat->notebook->pipelineprofiler) (0.18.1)\n",
      "Requirement already satisfied: attrs>=17.4.0 in /usr/local/lib/python3.8/dist-packages (from jsonschema>=2.6->nbformat->notebook->pipelineprofiler) (22.1.0)\n",
      "Requirement already satisfied: cffi>=1.0.1 in /usr/local/lib/python3.8/dist-packages (from argon2-cffi-bindings->argon2-cffi->notebook->pipelineprofiler) (1.15.1)\n",
      "Requirement already satisfied: soupsieve>1.2 in /usr/local/lib/python3.8/dist-packages (from beautifulsoup4->nbconvert>=5->notebook->pipelineprofiler) (2.3.2.post1)\n",
      "Requirement already satisfied: webencodings in /usr/local/lib/python3.8/dist-packages (from bleach->nbconvert>=5->notebook->pipelineprofiler) (0.5.1)\n",
      "Requirement already satisfied: pycparser in /usr/local/lib/python3.8/dist-packages (from cffi>=1.0.1->argon2-cffi-bindings->argon2-cffi->notebook->pipelineprofiler) (2.21)\n",
      "Requirement already satisfied: parso<0.9.0,>=0.8.0 in /usr/local/lib/python3.8/dist-packages (from jedi>=0.16->ipython>=7.23.1->ipykernel->notebook->pipelineprofiler) (0.8.3)\n",
      "Requirement already satisfied: wcwidth in /usr/local/lib/python3.8/dist-packages (from prompt-toolkit<3.1.0,>3.0.1->ipython>=7.23.1->ipykernel->notebook->pipelineprofiler) (0.2.5)\n",
      "Requirement already satisfied: asttokens in /usr/local/lib/python3.8/dist-packages (from stack-data->ipython>=7.23.1->ipykernel->notebook->pipelineprofiler) (2.0.8)\n",
      "Requirement already satisfied: executing in /usr/local/lib/python3.8/dist-packages (from stack-data->ipython>=7.23.1->ipykernel->notebook->pipelineprofiler) (1.0.0)\n",
      "Requirement already satisfied: pure-eval in /usr/local/lib/python3.8/dist-packages (from stack-data->ipython>=7.23.1->ipykernel->notebook->pipelineprofiler) (0.2.2)\n"
     ]
    }
   ],
   "source": [
    "# Install a pip package in the current Jupyter kernel\n",
    "import sys\n",
    "!{sys.executable} -m pip install --disable-pip-version-check --root-user-action=ignore python-arango sklite m2cgen pipelineprofiler xgboost"
   ]
  },
  {
   "cell_type": "code",
   "execution_count": 4,
   "metadata": {},
   "outputs": [],
   "source": [
    "from math import log10, floor\n",
    "def round_sig(x, sig=2):\n",
    "    if x == 0: return x\n",
    "    return round(x, sig-int(floor(log10(abs(x))))-1)"
   ]
  },
  {
   "cell_type": "code",
   "execution_count": 5,
   "metadata": {},
   "outputs": [
    {
     "name": "stdout",
     "output_type": "stream",
     "text": [
      "{'f': {'_key': '11249779', '_id': 'flights/11249779', '_rev': '_fWEAdhO---', 'flight': 'unknown', 'version': '2.2.2+62', 'device_id': 'Mozilla/5.0 (Windows NT 10.0; Win64; x64) AppleWebKit/537.36 (KHTML, like Gecko) Chrome/108.0.0.0 Safari/537.36', 'weather': {'lat': -35.7534, 'lon': 150.1995, 'timezone': 'Australia/Sydney', 'timezone_offset': 39600, 'hourly': [{'dt': 1672912800, 'temp': 17.28, 'feels_like': 17.05, 'pressure': 1014, 'humidity': 76, 'dew_point': 13.01, 'uvi': 0, 'clouds': 100, 'visibility': 10000, 'wind_speed': 6.67, 'wind_deg': 194, 'wind_gust': 10.41, 'weather': [{'id': 804, 'main': 'Clouds', 'description': 'overcast clouds', 'icon': '04n'}], 'pop': 0.26}, {'dt': 1672916400, 'temp': 17.6, 'feels_like': 17.43, 'pressure': 1014, 'humidity': 77, 'dew_point': 13.52, 'uvi': 0, 'clouds': 100, 'visibility': 10000, 'wind_speed': 5.69, 'wind_deg': 202, 'wind_gust': 9.53, 'weather': [{'id': 500, 'main': 'Rain', 'description': 'light rain', 'icon': '10n'}], 'pop': 0.34, 'rain': {'1h': 0.21}}, {'dt': 1672920000, 'temp': 17.21, 'feels_like': 16.94, 'pressure': 1014, 'humidity': 75, 'dew_point': 12.74, 'uvi': 0, 'clouds': 100, 'visibility': 10000, 'wind_speed': 6.38, 'wind_deg': 206, 'wind_gust': 11.28, 'weather': [{'id': 804, 'main': 'Clouds', 'description': 'overcast clouds', 'icon': '04n'}], 'pop': 0.3}, {'dt': 1672923600, 'temp': 16.84, 'feels_like': 16.49, 'pressure': 1014, 'humidity': 73, 'dew_point': 11.98, 'uvi': 0, 'clouds': 100, 'visibility': 10000, 'wind_speed': 6.17, 'wind_deg': 209, 'wind_gust': 11.23, 'weather': [{'id': 500, 'main': 'Rain', 'description': 'light rain', 'icon': '10n'}], 'pop': 0.4, 'rain': {'1h': 0.12}}, {'dt': 1672927200, 'temp': 16.45, 'feels_like': 16, 'pressure': 1013, 'humidity': 71, 'dew_point': 11.18, 'uvi': 0, 'clouds': 100, 'visibility': 10000, 'wind_speed': 6.99, 'wind_deg': 204, 'wind_gust': 12.54, 'weather': [{'id': 500, 'main': 'Rain', 'description': 'light rain', 'icon': '10n'}], 'pop': 0.44, 'rain': {'1h': 0.11}}, {'dt': 1672930800, 'temp': 14.63, 'feels_like': 14.39, 'pressure': 1013, 'humidity': 86, 'dew_point': 12.32, 'uvi': 0, 'clouds': 100, 'visibility': 10000, 'wind_speed': 6.91, 'wind_deg': 209, 'wind_gust': 13.45, 'weather': [{'id': 500, 'main': 'Rain', 'description': 'light rain', 'icon': '10n'}], 'pop': 0.64, 'rain': {'1h': 0.97}}, {'dt': 1672934400, 'temp': 13.66, 'feels_like': 13.48, 'pressure': 1013, 'humidity': 92, 'dew_point': 12.21, 'uvi': 0, 'clouds': 100, 'visibility': 10000, 'wind_speed': 6.36, 'wind_deg': 210, 'wind_gust': 12.49, 'weather': [{'id': 501, 'main': 'Rain', 'description': 'moderate rain', 'icon': '10n'}], 'pop': 0.72, 'rain': {'1h': 1.7}}, {'dt': 1672938000, 'temp': 14.27, 'feels_like': 14.15, 'pressure': 1012, 'humidity': 92, 'dew_point': 12.81, 'uvi': 0, 'clouds': 100, 'visibility': 10000, 'wind_speed': 7.33, 'wind_deg': 202, 'wind_gust': 13.6, 'weather': [{'id': 501, 'main': 'Rain', 'description': 'moderate rain', 'icon': '10n'}], 'pop': 0.72, 'rain': {'1h': 1.31}}, {'dt': 1672941600, 'temp': 14.65, 'feels_like': 14.55, 'pressure': 1012, 'humidity': 91, 'dew_point': 13.15, 'uvi': 0, 'clouds': 100, 'visibility': 10000, 'wind_speed': 7.92, 'wind_deg': 198, 'wind_gust': 14.73, 'weather': [{'id': 501, 'main': 'Rain', 'description': 'moderate rain', 'icon': '10n'}], 'pop': 0.72, 'rain': {'1h': 1.9}}, {'dt': 1672945200, 'temp': 14.83, 'feels_like': 14.74, 'pressure': 1013, 'humidity': 91, 'dew_point': 13.33, 'uvi': 0, 'clouds': 100, 'visibility': 9822, 'wind_speed': 7.99, 'wind_deg': 193, 'wind_gust': 14.26, 'weather': [{'id': 501, 'main': 'Rain', 'description': 'moderate rain', 'icon': '10d'}], 'pop': 0.76, 'rain': {'1h': 1.25}}, {'dt': 1672948800, 'temp': 14.92, 'feels_like': 14.84, 'pressure': 1014, 'humidity': 91, 'dew_point': 13.48, 'uvi': 0, 'clouds': 100, 'visibility': 10000, 'wind_speed': 7.62, 'wind_deg': 193, 'wind_gust': 13.55, 'weather': [{'id': 501, 'main': 'Rain', 'description': 'moderate rain', 'icon': '10d'}], 'pop': 0.76, 'rain': {'1h': 1.21}}, {'dt': 1672952400, 'temp': 15.11, 'feels_like': 15.05, 'pressure': 1015, 'humidity': 91, 'dew_point': 13.48, 'uvi': 0, 'clouds': 100, 'visibility': 10000, 'wind_speed': 7.62, 'wind_deg': 192, 'wind_gust': 13.31, 'weather': [{'id': 501, 'main': 'Rain', 'description': 'moderate rain', 'icon': '10d'}], 'pop': 0.76, 'rain': {'1h': 1.37}}, {'dt': 1672956000, 'temp': 15.07, 'feels_like': 15.01, 'pressure': 1015, 'humidity': 91, 'dew_point': 13.52, 'uvi': 0, 'clouds': 100, 'visibility': 10000, 'wind_speed': 7.73, 'wind_deg': 189, 'wind_gust': 13.38, 'weather': [{'id': 500, 'main': 'Rain', 'description': 'light rain', 'icon': '10d'}], 'pop': 0.76, 'rain': {'1h': 0.98}}, {'dt': 1672959600, 'temp': 15.22, 'feels_like': 15.15, 'pressure': 1016, 'humidity': 90, 'dew_point': 13.48, 'uvi': 0, 'clouds': 100, 'visibility': 10000, 'wind_speed': 7.6, 'wind_deg': 188, 'wind_gust': 12.81, 'weather': [{'id': 500, 'main': 'Rain', 'description': 'light rain', 'icon': '10d'}], 'pop': 0.76, 'rain': {'1h': 0.66}}, {'dt': 1672963200, 'temp': 15.6, 'feels_like': 15.51, 'pressure': 1016, 'humidity': 88, 'dew_point': 13.42, 'uvi': 0, 'clouds': 100, 'visibility': 10000, 'wind_speed': 7.18, 'wind_deg': 186, 'wind_gust': 11.8, 'weather': [{'id': 500, 'main': 'Rain', 'description': 'light rain', 'icon': '10d'}], 'pop': 0.76, 'rain': {'1h': 0.32}}, {'dt': 1672966800, 'temp': 15.97, 'feels_like': 15.84, 'pressure': 1016, 'humidity': 85, 'dew_point': 13.24, 'uvi': 0, 'clouds': 100, 'visibility': 10000, 'wind_speed': 6.84, 'wind_deg': 185, 'wind_gust': 10.9, 'weather': [{'id': 500, 'main': 'Rain', 'description': 'light rain', 'icon': '10d'}], 'pop': 0.53, 'rain': {'1h': 0.16}}, {'dt': 1672970400, 'temp': 16.42, 'feels_like': 16.26, 'pressure': 1016, 'humidity': 82, 'dew_point': 13.18, 'uvi': 0, 'clouds': 100, 'visibility': 10000, 'wind_speed': 6.63, 'wind_deg': 181, 'wind_gust': 10.25, 'weather': [{'id': 500, 'main': 'Rain', 'description': 'light rain', 'icon': '10d'}], 'pop': 0.45, 'rain': {'1h': 0.16}}, {'dt': 1672974000, 'temp': 17.17, 'feels_like': 16.9, 'pressure': 1016, 'humidity': 75, 'dew_point': 12.68, 'uvi': 0, 'clouds': 100, 'visibility': 10000, 'wind_speed': 6.51, 'wind_deg': 178, 'wind_gust': 9.81, 'weather': [{'id': 804, 'main': 'Clouds', 'description': 'overcast clouds', 'icon': '04d'}], 'pop': 0.37}, {'dt': 1672977600, 'temp': 17.7, 'feels_like': 17.38, 'pressure': 1016, 'humidity': 71, 'dew_point': 12.34, 'uvi': 0, 'clouds': 100, 'visibility': 10000, 'wind_speed': 6.58, 'wind_deg': 170, 'wind_gust': 9.81, 'weather': [{'id': 804, 'main': 'Clouds', 'description': 'overcast clouds', 'icon': '04d'}], 'pop': 0.37}, {'dt': 1672981200, 'temp': 19.41, 'feels_like': 19.05, 'pressure': 1016, 'humidity': 63, 'dew_point': 12.18, 'uvi': 0, 'clouds': 93, 'visibility': 10000, 'wind_speed': 6.76, 'wind_deg': 164, 'wind_gust': 9.48, 'weather': [{'id': 804, 'main': 'Clouds', 'description': 'overcast clouds', 'icon': '04d'}], 'pop': 0.25}, {'dt': 1672984800, 'temp': 18.96, 'feels_like': 18.61, 'pressure': 1016, 'humidity': 65, 'dew_point': 12.12, 'uvi': 0, 'clouds': 82, 'visibility': 10000, 'wind_speed': 6.34, 'wind_deg': 163, 'wind_gust': 9.15, 'weather': [{'id': 803, 'main': 'Clouds', 'description': 'broken clouds', 'icon': '04d'}], 'pop': 0.22}, {'dt': 1672988400, 'temp': 18.52, 'feels_like': 18.18, 'pressure': 1016, 'humidity': 67, 'dew_point': 12.2, 'uvi': 0, 'clouds': 68, 'visibility': 10000, 'wind_speed': 5.77, 'wind_deg': 167, 'wind_gust': 8.94, 'weather': [{'id': 803, 'main': 'Clouds', 'description': 'broken clouds', 'icon': '04d'}], 'pop': 0}, {'dt': 1672992000, 'temp': 18.17, 'feels_like': 17.82, 'pressure': 1016, 'humidity': 68, 'dew_point': 12.15, 'uvi': 0, 'clouds': 44, 'visibility': 10000, 'wind_speed': 5.61, 'wind_deg': 166, 'wind_gust': 8.51, 'weather': [{'id': 802, 'main': 'Clouds', 'description': 'scattered clouds', 'icon': '03d'}], 'pop': 0}, {'dt': 1672995600, 'temp': 17.37, 'feels_like': 16.99, 'pressure': 1017, 'humidity': 70, 'dew_point': 11.82, 'uvi': 0, 'clouds': 36, 'visibility': 10000, 'wind_speed': 5.22, 'wind_deg': 169, 'wind_gust': 8.24, 'weather': [{'id': 802, 'main': 'Clouds', 'description': 'scattered clouds', 'icon': '03d'}], 'pop': 0}, {'dt': 1672999200, 'temp': 16.67, 'feels_like': 16.27, 'pressure': 1017, 'humidity': 72, 'dew_point': 11.59, 'uvi': 0, 'clouds': 32, 'visibility': 10000, 'wind_speed': 4.62, 'wind_deg': 171, 'wind_gust': 7.58, 'weather': [{'id': 802, 'main': 'Clouds', 'description': 'scattered clouds', 'icon': '03n'}], 'pop': 0}, {'dt': 1673002800, 'temp': 16.62, 'feels_like': 16.24, 'pressure': 1018, 'humidity': 73, 'dew_point': 11.5, 'uvi': 0, 'clouds': 44, 'visibility': 10000, 'wind_speed': 4.19, 'wind_deg': 176, 'wind_gust': 6.57, 'weather': [{'id': 802, 'main': 'Clouds', 'description': 'scattered clouds', 'icon': '03n'}], 'pop': 0}, {'dt': 1673006400, 'temp': 16.6, 'feels_like': 16.2, 'pressure': 1018, 'humidity': 72, 'dew_point': 11.21, 'uvi': 0, 'clouds': 53, 'visibility': 10000, 'wind_speed': 4.32, 'wind_deg': 177, 'wind_gust': 6.24, 'weather': [{'id': 803, 'main': 'Clouds', 'description': 'broken clouds', 'icon': '04n'}], 'pop': 0}, {'dt': 1673010000, 'temp': 16.41, 'feels_like': 16.04, 'pressure': 1017, 'humidity': 74, 'dew_point': 11.71, 'uvi': 0, 'clouds': 100, 'visibility': 10000, 'wind_speed': 3.9, 'wind_deg': 177, 'wind_gust': 6.11, 'weather': [{'id': 804, 'main': 'Clouds', 'description': 'overcast clouds', 'icon': '04n'}], 'pop': 0.07}, {'dt': 1673013600, 'temp': 15.97, 'feels_like': 15.69, 'pressure': 1017, 'humidity': 79, 'dew_point': 12.29, 'uvi': 0, 'clouds': 100, 'visibility': 10000, 'wind_speed': 3.31, 'wind_deg': 176, 'wind_gust': 5.62, 'weather': [{'id': 804, 'main': 'Clouds', 'description': 'overcast clouds', 'icon': '04n'}], 'pop': 0.11}, {'dt': 1673017200, 'temp': 15.74, 'feels_like': 15.51, 'pressure': 1016, 'humidity': 82, 'dew_point': 12.59, 'uvi': 0, 'clouds': 100, 'visibility': 10000, 'wind_speed': 3.25, 'wind_deg': 170, 'wind_gust': 5.47, 'weather': [{'id': 500, 'main': 'Rain', 'description': 'light rain', 'icon': '10n'}], 'pop': 0.22, 'rain': {'1h': 0.1}}, {'dt': 1673020800, 'temp': 15.59, 'feels_like': 15.37, 'pressure': 1016, 'humidity': 83, 'dew_point': 12.61, 'uvi': 0, 'clouds': 100, 'visibility': 10000, 'wind_speed': 3.11, 'wind_deg': 167, 'wind_gust': 5.26, 'weather': [{'id': 500, 'main': 'Rain', 'description': 'light rain', 'icon': '10n'}], 'pop': 0.27, 'rain': {'1h': 0.17}}, {'dt': 1673024400, 'temp': 15.49, 'feels_like': 15.29, 'pressure': 1016, 'humidity': 84, 'dew_point': 12.63, 'uvi': 0, 'clouds': 98, 'visibility': 10000, 'wind_speed': 2.92, 'wind_deg': 168, 'wind_gust': 4.9, 'weather': [{'id': 804, 'main': 'Clouds', 'description': 'overcast clouds', 'icon': '04n'}], 'pop': 0.32}, {'dt': 1673028000, 'temp': 15.37, 'feels_like': 15.16, 'pressure': 1016, 'humidity': 84, 'dew_point': 12.41, 'uvi': 0, 'clouds': 95, 'visibility': 10000, 'wind_speed': 3.03, 'wind_deg': 172, 'wind_gust': 4.9, 'weather': [{'id': 500, 'main': 'Rain', 'description': 'light rain', 'icon': '10n'}], 'pop': 0.28, 'rain': {'1h': 0.12}}, {'dt': 1673031600, 'temp': 15.39, 'feels_like': 15.18, 'pressure': 1016, 'humidity': 84, 'dew_point': 12.45, 'uvi': 0, 'clouds': 89, 'visibility': 10000, 'wind_speed': 3.59, 'wind_deg': 179, 'wind_gust': 5.55, 'weather': [{'id': 804, 'main': 'Clouds', 'description': 'overcast clouds', 'icon': '04d'}], 'pop': 0.2}, {'dt': 1673035200, 'temp': 15.67, 'feels_like': 15.46, 'pressure': 1016, 'humidity': 83, 'dew_point': 12.63, 'uvi': 0, 'clouds': 93, 'visibility': 10000, 'wind_speed': 4.23, 'wind_deg': 182, 'wind_gust': 6.99, 'weather': [{'id': 500, 'main': 'Rain', 'description': 'light rain', 'icon': '10d'}], 'pop': 0.2, 'rain': {'1h': 0.12}}, {'dt': 1673038800, 'temp': 16.46, 'feels_like': 16.17, 'pressure': 1017, 'humidity': 77, 'dew_point': 12.29, 'uvi': 0, 'clouds': 96, 'visibility': 10000, 'wind_speed': 3.96, 'wind_deg': 184, 'wind_gust': 6.54, 'weather': [{'id': 804, 'main': 'Clouds', 'description': 'overcast clouds', 'icon': '04d'}], 'pop': 0.24}, {'dt': 1673042400, 'temp': 17.35, 'feels_like': 17.02, 'pressure': 1017, 'humidity': 72, 'dew_point': 12.13, 'uvi': 0, 'clouds': 96, 'visibility': 10000, 'wind_speed': 4.18, 'wind_deg': 184, 'wind_gust': 6.04, 'weather': [{'id': 804, 'main': 'Clouds', 'description': 'overcast clouds', 'icon': '04d'}], 'pop': 0.16}, {'dt': 1673046000, 'temp': 18.33, 'feels_like': 17.86, 'pressure': 1017, 'humidity': 63, 'dew_point': 11.05, 'uvi': 0, 'clouds': 94, 'visibility': 10000, 'wind_speed': 4.54, 'wind_deg': 180, 'wind_gust': 5.49, 'weather': [{'id': 804, 'main': 'Clouds', 'description': 'overcast clouds', 'icon': '04d'}], 'pop': 0.12}, {'dt': 1673049600, 'temp': 18.73, 'feels_like': 18.28, 'pressure': 1017, 'humidity': 62, 'dew_point': 11.16, 'uvi': 0, 'clouds': 93, 'visibility': 10000, 'wind_speed': 4.55, 'wind_deg': 171, 'wind_gust': 5.27, 'weather': [{'id': 804, 'main': 'Clouds', 'description': 'overcast clouds', 'icon': '04d'}], 'pop': 0.04}, {'dt': 1673053200, 'temp': 18.77, 'feels_like': 18.35, 'pressure': 1016, 'humidity': 63, 'dew_point': 11.42, 'uvi': 0, 'clouds': 89, 'visibility': 10000, 'wind_speed': 4.21, 'wind_deg': 165, 'wind_gust': 5.15, 'weather': [{'id': 804, 'main': 'Clouds', 'description': 'overcast clouds', 'icon': '04d'}], 'pop': 0}, {'dt': 1673056800, 'temp': 19.43, 'feels_like': 18.97, 'pressure': 1016, 'humidity': 59, 'dew_point': 11.02, 'uvi': 0, 'clouds': 86, 'visibility': 10000, 'wind_speed': 3.8, 'wind_deg': 155, 'wind_gust': 4.55, 'weather': [{'id': 804, 'main': 'Clouds', 'description': 'overcast clouds', 'icon': '04d'}], 'pop': 0}, {'dt': 1673060400, 'temp': 20.27, 'feels_like': 19.79, 'pressure': 1015, 'humidity': 55, 'dew_point': 10.7, 'uvi': 0, 'clouds': 62, 'visibility': 10000, 'wind_speed': 4.19, 'wind_deg': 148, 'wind_gust': 4.55, 'weather': [{'id': 803, 'main': 'Clouds', 'description': 'broken clouds', 'icon': '04d'}], 'pop': 0}, {'dt': 1673064000, 'temp': 20.27, 'feels_like': 19.76, 'pressure': 1015, 'humidity': 54, 'dew_point': 10.58, 'uvi': 0, 'clouds': 50, 'visibility': 10000, 'wind_speed': 4.09, 'wind_deg': 143, 'wind_gust': 4.51, 'weather': [{'id': 802, 'main': 'Clouds', 'description': 'scattered clouds', 'icon': '03d'}], 'pop': 0}, {'dt': 1673067600, 'temp': 20.03, 'feels_like': 19.55, 'pressure': 1015, 'humidity': 56, 'dew_point': 10.79, 'uvi': 0, 'clouds': 42, 'visibility': 10000, 'wind_speed': 4.01, 'wind_deg': 139, 'wind_gust': 4.35, 'weather': [{'id': 802, 'main': 'Clouds', 'description': 'scattered clouds', 'icon': '03d'}], 'pop': 0}, {'dt': 1673071200, 'temp': 19.67, 'feels_like': 19.18, 'pressure': 1014, 'humidity': 57, 'dew_point': 10.94, 'uvi': 0, 'clouds': 37, 'visibility': 10000, 'wind_speed': 3.76, 'wind_deg': 137, 'wind_gust': 4.06, 'weather': [{'id': 802, 'main': 'Clouds', 'description': 'scattered clouds', 'icon': '03d'}], 'pop': 0}, {'dt': 1673074800, 'temp': 19.11, 'feels_like': 18.64, 'pressure': 1014, 'humidity': 60, 'dew_point': 11.09, 'uvi': 0, 'clouds': 17, 'visibility': 10000, 'wind_speed': 3.63, 'wind_deg': 136, 'wind_gust': 4.07, 'weather': [{'id': 801, 'main': 'Clouds', 'description': 'few clouds', 'icon': '02d'}], 'pop': 0}, {'dt': 1673078400, 'temp': 18.45, 'feels_like': 18.02, 'pressure': 1015, 'humidity': 64, 'dew_point': 11.46, 'uvi': 0, 'clouds': 20, 'visibility': 10000, 'wind_speed': 3.24, 'wind_deg': 136, 'wind_gust': 4.03, 'weather': [{'id': 801, 'main': 'Clouds', 'description': 'few clouds', 'icon': '02d'}], 'pop': 0}, {'dt': 1673082000, 'temp': 17.01, 'feels_like': 16.65, 'pressure': 1015, 'humidity': 72, 'dew_point': 11.74, 'uvi': 0, 'clouds': 19, 'visibility': 10000, 'wind_speed': 2.3, 'wind_deg': 140, 'wind_gust': 3.91, 'weather': [{'id': 801, 'main': 'Clouds', 'description': 'few clouds', 'icon': '02d'}], 'pop': 0}], 'daily': [{'dt': 1672884000, 'sunrise': 1672858158, 'sunset': 1672910327, 'moonrise': 1672906440, 'moonset': 1672851120, 'moon_phase': 0.44, 'temp': {'day': 19.36, 'min': 14.63, 'max': 19.78, 'night': 17.21, 'eve': 17.45, 'morn': 14.63}, 'feels_like': {'day': 18.71, 'night': 16.94, 'eve': 17.08, 'morn': 14.47}, 'pressure': 1011, 'humidity': 52, 'dew_point': 9.04, 'wind_speed': 8.5, 'wind_deg': 171, 'wind_gust': 11.99, 'weather': [{'id': 500, 'main': 'Rain', 'description': 'light rain', 'icon': '10d'}], 'clouds': 17, 'pop': 0.91, 'rain': 2.64, 'uvi': 0}, {'dt': 1672970400, 'sunrise': 1672944608, 'sunset': 1672996730, 'moonrise': 1672996020, 'moonset': 1672940280, 'moon_phase': 0.47, 'temp': {'day': 16.42, 'min': 13.66, 'max': 19.41, 'night': 16.6, 'eve': 18.17, 'morn': 14.92}, 'feels_like': {'day': 16.26, 'night': 16.2, 'eve': 17.82, 'morn': 14.84}, 'pressure': 1016, 'humidity': 82, 'dew_point': 13.18, 'wind_speed': 7.99, 'wind_deg': 193, 'wind_gust': 14.73, 'weather': [{'id': 501, 'main': 'Rain', 'description': 'moderate rain', 'icon': '10d'}], 'clouds': 100, 'pop': 0.76, 'rain': 12.22, 'uvi': 0}, {'dt': 1673056800, 'sunrise': 1673031060, 'sunset': 1673083130, 'moonrise': 1673085240, 'moonset': 1673029860, 'moon_phase': 0.5, 'temp': {'day': 19.43, 'min': 15.26, 'max': 20.27, 'night': 15.26, 'eve': 18.45, 'morn': 15.67}, 'feels_like': {'day': 18.97, 'night': 14.9, 'eve': 18.02, 'morn': 15.46}, 'pressure': 1016, 'humidity': 59, 'dew_point': 11.02, 'wind_speed': 4.55, 'wind_deg': 171, 'wind_gust': 6.99, 'weather': [{'id': 500, 'main': 'Rain', 'description': 'light rain', 'icon': '10d'}], 'clouds': 86, 'pop': 0.32, 'rain': 0.51, 'uvi': 0}, {'dt': 1673143200, 'sunrise': 1673117512, 'sunset': 1673169529, 'moonrise': 1673174100, 'moonset': 1673119620, 'moon_phase': 0.53, 'temp': {'day': 21.01, 'min': 14.18, 'max': 21.01, 'night': 14.18, 'eve': 16.99, 'morn': 15.86}, 'feels_like': {'day': 20.47, 'night': 13.74, 'eve': 16.52, 'morn': 15.33}, 'pressure': 1013, 'humidity': 50, 'dew_point': 10.13, 'wind_speed': 4.19, 'wind_deg': 112, 'wind_gust': 3.18, 'weather': [{'id': 800, 'main': 'Clear', 'description': 'clear sky', 'icon': '01d'}], 'clouds': 0, 'pop': 0, 'rain': None, 'uvi': 0}, {'dt': 1673229600, 'sunrise': 1673203966, 'sunset': 1673255925, 'moonrise': 1673262540, 'moonset': 1673209560, 'moon_phase': 0.56, 'temp': {'day': 22.17, 'min': 11.85, 'max': 22.17, 'night': 15.45, 'eve': 18.08, 'morn': 16.69}, 'feels_like': {'day': 21.77, 'night': 15.4, 'eve': 17.95, 'morn': 16.16}, 'pressure': 1010, 'humidity': 51, 'dew_point': 11.19, 'wind_speed': 3.92, 'wind_deg': 95, 'wind_gust': 2.76, 'weather': [{'id': 800, 'main': 'Clear', 'description': 'clear sky', 'icon': '01d'}], 'clouds': 0, 'pop': 0, 'rain': None, 'uvi': 0}, {'dt': 1673316000, 'sunrise': 1673290421, 'sunset': 1673342320, 'moonrise': 1673350740, 'moonset': 1673299500, 'moon_phase': 0.59, 'temp': {'day': 22.33, 'min': 13.7, 'max': 22.33, 'night': 17.93, 'eve': 18.95, 'morn': 17.9}, 'feels_like': {'day': 22.26, 'night': 18.08, 'eve': 19.02, 'morn': 17.6}, 'pressure': 1011, 'humidity': 63, 'dew_point': 14.87, 'wind_speed': 4.48, 'wind_deg': 138, 'wind_gust': 7.11, 'weather': [{'id': 500, 'main': 'Rain', 'description': 'light rain', 'icon': '10d'}], 'clouds': 10, 'pop': 0.2, 'rain': 0.31, 'uvi': 0}, {'dt': 1673402400, 'sunrise': 1673376876, 'sunset': 1673428713, 'moonrise': 1673438760, 'moonset': 1673389440, 'moon_phase': 0.62, 'temp': {'day': 21.52, 'min': 15.97, 'max': 21.52, 'night': 15.97, 'eve': 18.28, 'morn': 17.87}, 'feels_like': {'day': 21.24, 'night': 15.79, 'eve': 18.07, 'morn': 18.01}, 'pressure': 1013, 'humidity': 58, 'dew_point': 12.93, 'wind_speed': 4.01, 'wind_deg': 128, 'wind_gust': 5.86, 'weather': [{'id': 500, 'main': 'Rain', 'description': 'light rain', 'icon': '10d'}], 'clouds': 47, 'pop': 0.36, 'rain': 1.64, 'uvi': 0}, {'dt': 1673488800, 'sunrise': 1673463333, 'sunset': 1673515103, 'moonrise': 1673526600, 'moonset': 1673479320, 'moon_phase': 0.65, 'temp': {'day': 22.36, 'min': 14.21, 'max': 22.36, 'night': 18.45, 'eve': 19.33, 'morn': 17.84}, 'feels_like': {'day': 22.27, 'night': 18.41, 'eve': 19.22, 'morn': 17.59}, 'pressure': 1013, 'humidity': 62, 'dew_point': 14.5, 'wind_speed': 4.61, 'wind_deg': 93, 'wind_gust': 3.73, 'weather': [{'id': 800, 'main': 'Clear', 'description': 'clear sky', 'icon': '01d'}], 'clouds': 2, 'pop': 0.01, 'rain': None, 'uvi': 0}]}}}\n",
      "53991\n",
      "{'target': False, 'lat': -36.0, 'lon': 150.0, 'dayOfYear': 5, 'hour': 11, 'temp': 17.28, 'windSpeed': 6.67, 'windDeg': 194, 'rain': 0.26, 'humid': 76, 'cloud': 100, 'press': 1014, 'dewPoint': 13.01}\n"
     ]
    }
   ],
   "source": [
    "from arango import ArangoClient\n",
    "from datetime import datetime\n",
    "\n",
    "# Initialize the ArangoDB client.\n",
    "client = ArangoClient(hosts='http://arangodb:8529')\n",
    "\n",
    "# Connect to \"_system\" database as root user.\n",
    "# This returns an API wrapper for \"_system\" database.\n",
    "# sys_db = client.db('_system', username='root', password='passwd')\n",
    "\n",
    "# Connect to \"nuptialFlight\" database as root user.\n",
    "# This returns an API wrapper for \"nuptialFlight\" database.\n",
    "db = client.db('nuptialFlight', username='notebook', password='g54g54gwggsvd')\n",
    "\n",
    "# Execute an AQL query. This returns a result cursor.\n",
    "#FILTER DISTANCE(f.weather.lat, f.weather.lon, -35, 149) < 5000 * 1000\n",
    "cursor = db.aql.execute(\n",
    "    '''\n",
    "FOR f IN flights\n",
    "FILTER f.weather.hourly != null\n",
    "RETURN {\n",
    "    f\n",
    "}\n",
    "    ''')\n",
    "\n",
    "# Normalise all values to between 0 and 1\n",
    "def normalise(low, high, value):\n",
    "    return (max(low, min(high, value)) - low) / (high - low)\n",
    "\n",
    "\n",
    "count = 0\n",
    "#dataset = []\n",
    "features = []\n",
    "for row in cursor:\n",
    "    if count == 0: print(row)\n",
    "    count = count + 1\n",
    "    #dataset.append(row['f'])\n",
    "    features.append({\n",
    "        #'_id': row['f']['_id'],\n",
    "        'target': row['f']['flight'] == 'yes',\n",
    "        #'target': row['f'].get('size', 'none'),\n",
    "        'lat': round(row['f']['weather']['lat'], 0),\n",
    "        'lon': round(row['f']['weather']['lon'], 0),\n",
    "        'dayOfYear': datetime.utcfromtimestamp(row['f']['weather']['hourly'][0]['dt']).timetuple().tm_yday, # returns 1 for January 1st,\n",
    "        'hour':      datetime.utcfromtimestamp(row['f']['weather']['hourly'][0]['dt']).timetuple().tm_hour + 1,\n",
    "        #'month': datetime.utcfromtimestamp(row['f']['weather']['hourly'][0]['dt']).timetuple().tm_mon,\n",
    "        #'season': datetime.utcfromtimestamp(row['f']['weather']['hourly'][0]['dt']).timetuple().tm_mon % 12 // 3 + 1,\n",
    "        #'day': row['f']['weather']['hourly'][0]['temp']['day'],\n",
    "        #'eve': row['f']['weather']['hourly'][0]['temp']['eve'],\n",
    "        #'min': row['f']['weather']['hourly'][0]['temp']['min'],\n",
    "        #'max': row['f']['weather']['hourly'][0]['temp']['max'],\n",
    "        #'night': row['f']['weather']['hourly'][0]['temp']['night'],\n",
    "        #'morn': row['f']['weather']['hourly'][0]['temp']['morn'],\n",
    "        'temp': row['f']['weather']['hourly'][0]['temp'],\n",
    "        #'feelsLike': row['f']['weather']['hourly'][0]['feels_like']['day'],\n",
    "        'windSpeed': row['f']['weather']['hourly'][0]['wind_speed'],\n",
    "        #'windGust': row['f']['weather']['hourly'][0]['wind_gust'],\n",
    "        'windDeg': row['f']['weather']['hourly'][0]['wind_deg'],\n",
    "        'rain': row['f']['weather']['hourly'][0]['pop'],\n",
    "        'humid': row['f']['weather']['hourly'][0]['humidity'],\n",
    "        'cloud': row['f']['weather']['hourly'][0]['clouds'],\n",
    "        'press': row['f']['weather']['hourly'][0]['pressure'],\n",
    "        'dewPoint': row['f']['weather']['hourly'][0]['dew_point'],\n",
    "        #'description': row['f']['weather']['hourly'][0]['weather'][0]['description'],\n",
    "        #'uvi': row['f']['weather']['hourly'][0]['uvi'],\n",
    "        \n",
    "        #'day': normalise(10, 30, row['f']['weather']['hourly'][0]['temp']['day']),\n",
    "        #'eve': normalise(10, 30, row['f']['weather']['hourly'][0]['temp']['eve']),\n",
    "        #'min': normalise(5, 25, row['f']['weather']['hourly'][0]['temp']['min']),\n",
    "        #'max': normalise(15, 35, row['f']['weather']['hourly'][0]['temp']['max']),\n",
    "        #'night': normalise(5, 25, row['f']['weather']['hourly'][0]['temp']['night']),\n",
    "        #'morn': normalise(5, 25, row['f']['weather']['hourly'][0]['temp']['morn']),\n",
    "        #'feelsLike': normalise(10, 40, row['f']['weather']['hourly'][0]['feels_like']['day']),\n",
    "        #'windSpeed': normalise(0, 15, row['f']['weather']['hourly'][0]['wind_speed']),\n",
    "        #'windGust': normalise(0, 15, row['f']['weather']['hourly'][0]['wind_gust']),\n",
    "        #'rain': normalise(0, 1, row['f']['weather']['hourly'][0]['pop']),\n",
    "        #'humid': normalise(0, 100, row['f']['weather']['hourly'][0]['humidity']),\n",
    "        #'cloud': normalise(0, 100, row['f']['weather']['hourly'][0]['clouds']),\n",
    "        #'press': normalise(995, 1030, row['f']['weather']['hourly'][0]['pressure']),\n",
    "        #'dewPoint': normalise(-5, 25, row['f']['weather']['hourly'][0]['dew_point']),\n",
    "        #'description': row['f']['weather']['daily'][0]['weather'][0]['description'],\n",
    "        #'uvi': normalise(0, 14, row['f']['weather']['hourly'][0]['uvi']),\n",
    "    })\n",
    "\n",
    "print(len(features))\n",
    "print(features[0])\n",
    "#print(dataset[0])"
   ]
  },
  {
   "cell_type": "code",
   "execution_count": 6,
   "metadata": {},
   "outputs": [
    {
     "name": "stdout",
     "output_type": "stream",
     "text": [
      "False    51182\n",
      "True      2809\n",
      "Name: target, dtype: int64\n"
     ]
    },
    {
     "data": {
      "text/html": [
       "<div>\n",
       "<style scoped>\n",
       "    .dataframe tbody tr th:only-of-type {\n",
       "        vertical-align: middle;\n",
       "    }\n",
       "\n",
       "    .dataframe tbody tr th {\n",
       "        vertical-align: top;\n",
       "    }\n",
       "\n",
       "    .dataframe thead th {\n",
       "        text-align: right;\n",
       "    }\n",
       "</style>\n",
       "<table border=\"1\" class=\"dataframe\">\n",
       "  <thead>\n",
       "    <tr style=\"text-align: right;\">\n",
       "      <th></th>\n",
       "      <th>target</th>\n",
       "      <th>lat</th>\n",
       "      <th>lon</th>\n",
       "      <th>hour</th>\n",
       "      <th>temp</th>\n",
       "      <th>windSpeed</th>\n",
       "      <th>windDeg</th>\n",
       "      <th>rain</th>\n",
       "      <th>humid</th>\n",
       "      <th>cloud</th>\n",
       "      <th>press</th>\n",
       "      <th>dewPoint</th>\n",
       "      <th>daysSinceSpring</th>\n",
       "    </tr>\n",
       "  </thead>\n",
       "  <tbody>\n",
       "    <tr>\n",
       "      <th>0</th>\n",
       "      <td>False</td>\n",
       "      <td>-36.0</td>\n",
       "      <td>150.0</td>\n",
       "      <td>11</td>\n",
       "      <td>17.28</td>\n",
       "      <td>6.67</td>\n",
       "      <td>194</td>\n",
       "      <td>0.26</td>\n",
       "      <td>76</td>\n",
       "      <td>100</td>\n",
       "      <td>1014</td>\n",
       "      <td>13.01</td>\n",
       "      <td>127</td>\n",
       "    </tr>\n",
       "    <tr>\n",
       "      <th>1</th>\n",
       "      <td>False</td>\n",
       "      <td>39.0</td>\n",
       "      <td>-77.0</td>\n",
       "      <td>11</td>\n",
       "      <td>11.75</td>\n",
       "      <td>1.83</td>\n",
       "      <td>309</td>\n",
       "      <td>0.00</td>\n",
       "      <td>83</td>\n",
       "      <td>71</td>\n",
       "      <td>1012</td>\n",
       "      <td>8.96</td>\n",
       "      <td>308</td>\n",
       "    </tr>\n",
       "    <tr>\n",
       "      <th>2</th>\n",
       "      <td>False</td>\n",
       "      <td>39.0</td>\n",
       "      <td>-77.0</td>\n",
       "      <td>11</td>\n",
       "      <td>11.75</td>\n",
       "      <td>1.83</td>\n",
       "      <td>309</td>\n",
       "      <td>0.00</td>\n",
       "      <td>83</td>\n",
       "      <td>71</td>\n",
       "      <td>1012</td>\n",
       "      <td>8.96</td>\n",
       "      <td>308</td>\n",
       "    </tr>\n",
       "    <tr>\n",
       "      <th>3</th>\n",
       "      <td>False</td>\n",
       "      <td>37.0</td>\n",
       "      <td>-122.0</td>\n",
       "      <td>11</td>\n",
       "      <td>13.28</td>\n",
       "      <td>6.43</td>\n",
       "      <td>196</td>\n",
       "      <td>1.00</td>\n",
       "      <td>85</td>\n",
       "      <td>97</td>\n",
       "      <td>1005</td>\n",
       "      <td>10.81</td>\n",
       "      <td>308</td>\n",
       "    </tr>\n",
       "    <tr>\n",
       "      <th>4</th>\n",
       "      <td>False</td>\n",
       "      <td>39.0</td>\n",
       "      <td>-77.0</td>\n",
       "      <td>11</td>\n",
       "      <td>11.75</td>\n",
       "      <td>1.83</td>\n",
       "      <td>309</td>\n",
       "      <td>0.00</td>\n",
       "      <td>83</td>\n",
       "      <td>71</td>\n",
       "      <td>1012</td>\n",
       "      <td>8.96</td>\n",
       "      <td>308</td>\n",
       "    </tr>\n",
       "    <tr>\n",
       "      <th>...</th>\n",
       "      <td>...</td>\n",
       "      <td>...</td>\n",
       "      <td>...</td>\n",
       "      <td>...</td>\n",
       "      <td>...</td>\n",
       "      <td>...</td>\n",
       "      <td>...</td>\n",
       "      <td>...</td>\n",
       "      <td>...</td>\n",
       "      <td>...</td>\n",
       "      <td>...</td>\n",
       "      <td>...</td>\n",
       "      <td>...</td>\n",
       "    </tr>\n",
       "    <tr>\n",
       "      <th>53986</th>\n",
       "      <td>False</td>\n",
       "      <td>42.0</td>\n",
       "      <td>-88.0</td>\n",
       "      <td>23</td>\n",
       "      <td>6.32</td>\n",
       "      <td>1.92</td>\n",
       "      <td>164</td>\n",
       "      <td>1.00</td>\n",
       "      <td>94</td>\n",
       "      <td>100</td>\n",
       "      <td>1019</td>\n",
       "      <td>5.43</td>\n",
       "      <td>294</td>\n",
       "    </tr>\n",
       "    <tr>\n",
       "      <th>53987</th>\n",
       "      <td>False</td>\n",
       "      <td>-34.0</td>\n",
       "      <td>151.0</td>\n",
       "      <td>23</td>\n",
       "      <td>22.91</td>\n",
       "      <td>0.58</td>\n",
       "      <td>180</td>\n",
       "      <td>0.09</td>\n",
       "      <td>59</td>\n",
       "      <td>11</td>\n",
       "      <td>1008</td>\n",
       "      <td>14.48</td>\n",
       "      <td>113</td>\n",
       "    </tr>\n",
       "    <tr>\n",
       "      <th>53988</th>\n",
       "      <td>False</td>\n",
       "      <td>-34.0</td>\n",
       "      <td>151.0</td>\n",
       "      <td>23</td>\n",
       "      <td>21.58</td>\n",
       "      <td>2.87</td>\n",
       "      <td>200</td>\n",
       "      <td>0.18</td>\n",
       "      <td>68</td>\n",
       "      <td>44</td>\n",
       "      <td>1013</td>\n",
       "      <td>15.43</td>\n",
       "      <td>113</td>\n",
       "    </tr>\n",
       "    <tr>\n",
       "      <th>53989</th>\n",
       "      <td>False</td>\n",
       "      <td>-34.0</td>\n",
       "      <td>151.0</td>\n",
       "      <td>24</td>\n",
       "      <td>24.37</td>\n",
       "      <td>0.62</td>\n",
       "      <td>62</td>\n",
       "      <td>0.09</td>\n",
       "      <td>57</td>\n",
       "      <td>11</td>\n",
       "      <td>1006</td>\n",
       "      <td>15.31</td>\n",
       "      <td>113</td>\n",
       "    </tr>\n",
       "    <tr>\n",
       "      <th>53990</th>\n",
       "      <td>False</td>\n",
       "      <td>30.0</td>\n",
       "      <td>-99.0</td>\n",
       "      <td>1</td>\n",
       "      <td>18.27</td>\n",
       "      <td>1.49</td>\n",
       "      <td>128</td>\n",
       "      <td>0.00</td>\n",
       "      <td>79</td>\n",
       "      <td>75</td>\n",
       "      <td>1019</td>\n",
       "      <td>14.57</td>\n",
       "      <td>295</td>\n",
       "    </tr>\n",
       "  </tbody>\n",
       "</table>\n",
       "<p>53991 rows × 13 columns</p>\n",
       "</div>"
      ],
      "text/plain": [
       "       target   lat    lon  hour   temp  windSpeed  windDeg  rain  humid  \\\n",
       "0       False -36.0  150.0    11  17.28       6.67      194  0.26     76   \n",
       "1       False  39.0  -77.0    11  11.75       1.83      309  0.00     83   \n",
       "2       False  39.0  -77.0    11  11.75       1.83      309  0.00     83   \n",
       "3       False  37.0 -122.0    11  13.28       6.43      196  1.00     85   \n",
       "4       False  39.0  -77.0    11  11.75       1.83      309  0.00     83   \n",
       "...       ...   ...    ...   ...    ...        ...      ...   ...    ...   \n",
       "53986   False  42.0  -88.0    23   6.32       1.92      164  1.00     94   \n",
       "53987   False -34.0  151.0    23  22.91       0.58      180  0.09     59   \n",
       "53988   False -34.0  151.0    23  21.58       2.87      200  0.18     68   \n",
       "53989   False -34.0  151.0    24  24.37       0.62       62  0.09     57   \n",
       "53990   False  30.0  -99.0     1  18.27       1.49      128  0.00     79   \n",
       "\n",
       "       cloud  press  dewPoint  daysSinceSpring  \n",
       "0        100   1014     13.01              127  \n",
       "1         71   1012      8.96              308  \n",
       "2         71   1012      8.96              308  \n",
       "3         97   1005     10.81              308  \n",
       "4         71   1012      8.96              308  \n",
       "...      ...    ...       ...              ...  \n",
       "53986    100   1019      5.43              294  \n",
       "53987     11   1008     14.48              113  \n",
       "53988     44   1013     15.43              113  \n",
       "53989     11   1006     15.31              113  \n",
       "53990     75   1019     14.57              295  \n",
       "\n",
       "[53991 rows x 13 columns]"
      ]
     },
     "execution_count": 6,
     "metadata": {},
     "output_type": "execute_result"
    }
   ],
   "source": [
    "from sklearn import preprocessing\n",
    "\n",
    "df = pd.DataFrame(data=features)\n",
    "\n",
    "df['northern'] = [lat > 0 for lat in df['lat']]\n",
    "df['daysSinceSpring'] = [((dayOfYear - (31 + 28 + 31 + 30 + 31 + 30 + 31 + 31)) % 365) for dayOfYear in df['dayOfYear']]\n",
    "df.loc[df['northern'] == True, 'daysSinceSpring'] = (df['daysSinceSpring'] - (31 + 30 + 31 + 30 + 31 + 31)) % 365\n",
    "\n",
    "df = df.drop(['dayOfYear', 'northern'], axis=1)\n",
    "\n",
    "# split into input and output elements\n",
    "#data = df.values\n",
    "#X, y = data[:, :-1], data[:, -1]\n",
    "#print(X.shape, y.shape)\n",
    "print(df['target'].value_counts())\n",
    "\n",
    "df"
   ]
  },
  {
   "cell_type": "code",
   "execution_count": 7,
   "metadata": {},
   "outputs": [],
   "source": [
    "from scipy.stats import norm\n",
    "import numpy as np\n",
    "import matplotlib.pyplot as plt\n",
    "from sklearn.pipeline import Pipeline\n",
    "from sklearn.preprocessing import PolynomialFeatures\n",
    "from sklearn.linear_model import LinearRegression\n",
    "from sklearn.model_selection import cross_val_score\n",
    "\n",
    "TEMP_AVG = 16.5; # 24.00;\n",
    "TEMP_STD = 10; # 3.96;\n",
    "HUMIDITY_AVG = 77.00; # 62.00;\n",
    "HUMIDITY_STD = 30; # 7.99;\n",
    "WIND_AVG = 5.7; # 3.96;\n",
    "WIND_STD = 5; # 0.78;\n",
    "RAIN_AVG = 0;\n",
    "RAIN_STD = 0;\n",
    "CLOUD_AVG = 70;\n",
    "CLOUD_STD = 30;\n",
    "PRESSURE_AVG = 1014; # 1020;\n",
    "PRESSURE_STD = 14.85;\n",
    "RADIATION_AVG = 225.7; # (J.cm-2.h-1)\n",
    "RADIATION_STD = 19.5; # SE not SD\n",
    "UVI_AVG = 6.1;\n",
    "UVI_STD = 6;\n",
    "\n",
    "def true_temp(temp):\n",
    "    return max(0, min(0.5, norm.cdf(-abs(temp - TEMP_AVG) / TEMP_STD))) * 2\n",
    "\n",
    "def true_humidity(humidity):\n",
    "    return max(0, min(0.5, norm.cdf(-abs(humidity - HUMIDITY_AVG) / HUMIDITY_STD))) * 2\n",
    "\n",
    "def true_wind(windSpeed):\n",
    "    return max(0, min(0.5, norm.cdf(-abs(windSpeed - WIND_AVG) / WIND_STD))) * 2\n",
    "\n",
    "def true_rain(pop):\n",
    "    return 1.0 - pop\n",
    "\n",
    "def true_cloud(cloud):\n",
    "    return max(0, min(0.5, norm.cdf(-abs(cloud - CLOUD_AVG) / CLOUD_STD))) * 2\n",
    "\n",
    "def true_pressure(pressure):\n",
    "    return max(0, min(0.5, norm.cdf(-abs(pressure - PRESSURE_AVG) / PRESSURE_STD))) * 2\n",
    "\n",
    "def true_uvi(uvi):\n",
    "    return max(0, min(0.5, norm.cdf(-abs(uvi - UVI_AVG) / UVI_STD))) * 2\n",
    "\n",
    "def true_dewPoint(dewPoint):\n",
    "    return max(0, min(0.5, norm.cdf(-abs(dewPoint - TEMP_AVG) / TEMP_STD))) * 2\n",
    "\n",
    "def true_funct(val):\n",
    "    return 1\n",
    "\n",
    "def map_true_fun(X, function):\n",
    "    return list(map(function, X))"
   ]
  },
  {
   "cell_type": "code",
   "execution_count": 8,
   "metadata": {},
   "outputs": [
    {
     "name": "stdout",
     "output_type": "stream",
     "text": [
      "False    51182\n",
      "True      2809\n",
      "Name: target, dtype: int64\n"
     ]
    },
    {
     "data": {
      "text/html": [
       "<div>\n",
       "<style scoped>\n",
       "    .dataframe tbody tr th:only-of-type {\n",
       "        vertical-align: middle;\n",
       "    }\n",
       "\n",
       "    .dataframe tbody tr th {\n",
       "        vertical-align: top;\n",
       "    }\n",
       "\n",
       "    .dataframe thead th {\n",
       "        text-align: right;\n",
       "    }\n",
       "</style>\n",
       "<table border=\"1\" class=\"dataframe\">\n",
       "  <thead>\n",
       "    <tr style=\"text-align: right;\">\n",
       "      <th></th>\n",
       "      <th>target</th>\n",
       "      <th>lat</th>\n",
       "      <th>lon</th>\n",
       "      <th>hour</th>\n",
       "      <th>temp</th>\n",
       "      <th>windSpeed</th>\n",
       "      <th>windDeg</th>\n",
       "      <th>rain</th>\n",
       "      <th>humid</th>\n",
       "      <th>cloud</th>\n",
       "      <th>press</th>\n",
       "      <th>dewPoint</th>\n",
       "      <th>daysSinceSpring</th>\n",
       "    </tr>\n",
       "  </thead>\n",
       "  <tbody>\n",
       "    <tr>\n",
       "      <th>0</th>\n",
       "      <td>False</td>\n",
       "      <td>-36.0</td>\n",
       "      <td>150.0</td>\n",
       "      <td>11</td>\n",
       "      <td>17.0</td>\n",
       "      <td>6.70</td>\n",
       "      <td>190</td>\n",
       "      <td>0.26</td>\n",
       "      <td>76</td>\n",
       "      <td>100</td>\n",
       "      <td>1014</td>\n",
       "      <td>13.0</td>\n",
       "      <td>127</td>\n",
       "    </tr>\n",
       "    <tr>\n",
       "      <th>1</th>\n",
       "      <td>False</td>\n",
       "      <td>39.0</td>\n",
       "      <td>-77.0</td>\n",
       "      <td>11</td>\n",
       "      <td>12.0</td>\n",
       "      <td>1.80</td>\n",
       "      <td>310</td>\n",
       "      <td>0.00</td>\n",
       "      <td>83</td>\n",
       "      <td>71</td>\n",
       "      <td>1012</td>\n",
       "      <td>9.0</td>\n",
       "      <td>308</td>\n",
       "    </tr>\n",
       "    <tr>\n",
       "      <th>2</th>\n",
       "      <td>False</td>\n",
       "      <td>39.0</td>\n",
       "      <td>-77.0</td>\n",
       "      <td>11</td>\n",
       "      <td>12.0</td>\n",
       "      <td>1.80</td>\n",
       "      <td>310</td>\n",
       "      <td>0.00</td>\n",
       "      <td>83</td>\n",
       "      <td>71</td>\n",
       "      <td>1012</td>\n",
       "      <td>9.0</td>\n",
       "      <td>308</td>\n",
       "    </tr>\n",
       "    <tr>\n",
       "      <th>3</th>\n",
       "      <td>False</td>\n",
       "      <td>37.0</td>\n",
       "      <td>-122.0</td>\n",
       "      <td>11</td>\n",
       "      <td>13.0</td>\n",
       "      <td>6.40</td>\n",
       "      <td>200</td>\n",
       "      <td>1.00</td>\n",
       "      <td>85</td>\n",
       "      <td>97</td>\n",
       "      <td>1005</td>\n",
       "      <td>11.0</td>\n",
       "      <td>308</td>\n",
       "    </tr>\n",
       "    <tr>\n",
       "      <th>4</th>\n",
       "      <td>False</td>\n",
       "      <td>39.0</td>\n",
       "      <td>-77.0</td>\n",
       "      <td>11</td>\n",
       "      <td>12.0</td>\n",
       "      <td>1.80</td>\n",
       "      <td>310</td>\n",
       "      <td>0.00</td>\n",
       "      <td>83</td>\n",
       "      <td>71</td>\n",
       "      <td>1012</td>\n",
       "      <td>9.0</td>\n",
       "      <td>308</td>\n",
       "    </tr>\n",
       "    <tr>\n",
       "      <th>...</th>\n",
       "      <td>...</td>\n",
       "      <td>...</td>\n",
       "      <td>...</td>\n",
       "      <td>...</td>\n",
       "      <td>...</td>\n",
       "      <td>...</td>\n",
       "      <td>...</td>\n",
       "      <td>...</td>\n",
       "      <td>...</td>\n",
       "      <td>...</td>\n",
       "      <td>...</td>\n",
       "      <td>...</td>\n",
       "      <td>...</td>\n",
       "    </tr>\n",
       "    <tr>\n",
       "      <th>53986</th>\n",
       "      <td>False</td>\n",
       "      <td>42.0</td>\n",
       "      <td>-88.0</td>\n",
       "      <td>23</td>\n",
       "      <td>6.3</td>\n",
       "      <td>1.90</td>\n",
       "      <td>160</td>\n",
       "      <td>1.00</td>\n",
       "      <td>94</td>\n",
       "      <td>100</td>\n",
       "      <td>1019</td>\n",
       "      <td>5.4</td>\n",
       "      <td>294</td>\n",
       "    </tr>\n",
       "    <tr>\n",
       "      <th>53987</th>\n",
       "      <td>False</td>\n",
       "      <td>-34.0</td>\n",
       "      <td>151.0</td>\n",
       "      <td>23</td>\n",
       "      <td>23.0</td>\n",
       "      <td>0.58</td>\n",
       "      <td>180</td>\n",
       "      <td>0.09</td>\n",
       "      <td>59</td>\n",
       "      <td>11</td>\n",
       "      <td>1008</td>\n",
       "      <td>14.0</td>\n",
       "      <td>113</td>\n",
       "    </tr>\n",
       "    <tr>\n",
       "      <th>53988</th>\n",
       "      <td>False</td>\n",
       "      <td>-34.0</td>\n",
       "      <td>151.0</td>\n",
       "      <td>23</td>\n",
       "      <td>22.0</td>\n",
       "      <td>2.90</td>\n",
       "      <td>200</td>\n",
       "      <td>0.18</td>\n",
       "      <td>68</td>\n",
       "      <td>44</td>\n",
       "      <td>1013</td>\n",
       "      <td>15.0</td>\n",
       "      <td>113</td>\n",
       "    </tr>\n",
       "    <tr>\n",
       "      <th>53989</th>\n",
       "      <td>False</td>\n",
       "      <td>-34.0</td>\n",
       "      <td>151.0</td>\n",
       "      <td>24</td>\n",
       "      <td>24.0</td>\n",
       "      <td>0.62</td>\n",
       "      <td>62</td>\n",
       "      <td>0.09</td>\n",
       "      <td>57</td>\n",
       "      <td>11</td>\n",
       "      <td>1006</td>\n",
       "      <td>15.0</td>\n",
       "      <td>113</td>\n",
       "    </tr>\n",
       "    <tr>\n",
       "      <th>53990</th>\n",
       "      <td>False</td>\n",
       "      <td>30.0</td>\n",
       "      <td>-99.0</td>\n",
       "      <td>1</td>\n",
       "      <td>18.0</td>\n",
       "      <td>1.50</td>\n",
       "      <td>130</td>\n",
       "      <td>0.00</td>\n",
       "      <td>79</td>\n",
       "      <td>75</td>\n",
       "      <td>1019</td>\n",
       "      <td>15.0</td>\n",
       "      <td>295</td>\n",
       "    </tr>\n",
       "  </tbody>\n",
       "</table>\n",
       "<p>53991 rows × 13 columns</p>\n",
       "</div>"
      ],
      "text/plain": [
       "       target   lat    lon  hour  temp  windSpeed  windDeg  rain  humid  \\\n",
       "0       False -36.0  150.0    11  17.0       6.70      190  0.26     76   \n",
       "1       False  39.0  -77.0    11  12.0       1.80      310  0.00     83   \n",
       "2       False  39.0  -77.0    11  12.0       1.80      310  0.00     83   \n",
       "3       False  37.0 -122.0    11  13.0       6.40      200  1.00     85   \n",
       "4       False  39.0  -77.0    11  12.0       1.80      310  0.00     83   \n",
       "...       ...   ...    ...   ...   ...        ...      ...   ...    ...   \n",
       "53986   False  42.0  -88.0    23   6.3       1.90      160  1.00     94   \n",
       "53987   False -34.0  151.0    23  23.0       0.58      180  0.09     59   \n",
       "53988   False -34.0  151.0    23  22.0       2.90      200  0.18     68   \n",
       "53989   False -34.0  151.0    24  24.0       0.62       62  0.09     57   \n",
       "53990   False  30.0  -99.0     1  18.0       1.50      130  0.00     79   \n",
       "\n",
       "       cloud  press  dewPoint  daysSinceSpring  \n",
       "0        100   1014      13.0              127  \n",
       "1         71   1012       9.0              308  \n",
       "2         71   1012       9.0              308  \n",
       "3         97   1005      11.0              308  \n",
       "4         71   1012       9.0              308  \n",
       "...      ...    ...       ...              ...  \n",
       "53986    100   1019       5.4              294  \n",
       "53987     11   1008      14.0              113  \n",
       "53988     44   1013      15.0              113  \n",
       "53989     11   1006      15.0              113  \n",
       "53990     75   1019      15.0              295  \n",
       "\n",
       "[53991 rows x 13 columns]"
      ]
     },
     "execution_count": 8,
     "metadata": {},
     "output_type": "execute_result"
    }
   ],
   "source": [
    "#df = df.assign(deltaDay = lambda x: true_temp(x.day))\n",
    "#df = df.assign(deltaWind = lambda x: true_wind(x.windSpeed))\n",
    "#df = df.assign(deltaHumid = lambda x: true_humidity(x.humid))\n",
    "#df = df.assign(deltaCloud = lambda x: true_cloud(x.cloud))\n",
    "#df = df.assign(deltaPress = lambda x: true_pressure(x.press))\n",
    "\n",
    "for i in range(len(df)):\n",
    "    #df.loc[i, \"day\"]   = round_sig((df.iloc[i][\"day\"]), 2)\n",
    "    #df.loc[i, \"morn\"] = round_sig((df.iloc[i][\"morn\"]), 2)\n",
    "    df.loc[i, \"temp\"]  = round_sig((df.iloc[i][\"temp\"]), 2)\n",
    "    df.loc[i, \"windSpeed\"]  = round_sig((df.iloc[i][\"windSpeed\"]), 2)\n",
    "    #df.loc[i, \"windGust\"] = round_sig((df.iloc[i][\"windGust\"]), 2)\n",
    "    df.loc[i, \"windDeg\"]  = round_sig((df.iloc[i][\"windDeg\"]), 2)\n",
    "    df.loc[i, \"rain\"] = round_sig((df.iloc[i][\"rain\"]), 2)\n",
    "    df.loc[i, \"humid\"] = round_sig((df.iloc[i][\"humid\"]), 2)\n",
    "    df.loc[i, \"cloud\"] = round_sig((df.iloc[i][\"cloud\"]), 2)\n",
    "    df.loc[i, \"press\"] = round_sig((df.iloc[i][\"press\"]), 4)\n",
    "    df.loc[i, \"dewPoint\"] = round_sig((df.iloc[i][\"dewPoint\"]), 2)\n",
    "\n",
    "print(df['target'].value_counts())\n",
    "df"
   ]
  },
  {
   "cell_type": "code",
   "execution_count": 9,
   "metadata": {},
   "outputs": [],
   "source": [
    "# force the column's string column B to type 'category'  \n",
    "df['target'] = df['target'].astype('category')\n",
    "# define the valid categories: \n",
    "df['target'] = df['target'].cat.set_categories([True, False], ordered=True) \n",
    "#pandas dataframe sort_values to inflicts order on your categories \n",
    "df.sort_values(['target'], inplace=True, ascending=True) \n"
   ]
  },
  {
   "cell_type": "code",
   "execution_count": 10,
   "metadata": {
    "colab": {
     "base_uri": "https://localhost:8080/"
    },
    "id": "wnPgDLIIOQQe",
    "outputId": "d00fac03-bfdd-4a46-9c9f-58c2698697a1"
   },
   "outputs": [
    {
     "data": {
      "text/plain": [
       "target             0\n",
       "lat                0\n",
       "lon                0\n",
       "hour               0\n",
       "temp               0\n",
       "windSpeed          0\n",
       "windDeg            0\n",
       "rain               0\n",
       "humid              0\n",
       "cloud              0\n",
       "press              0\n",
       "dewPoint           0\n",
       "daysSinceSpring    0\n",
       "dtype: int64"
      ]
     },
     "execution_count": 10,
     "metadata": {},
     "output_type": "execute_result"
    }
   ],
   "source": [
    "#check null values in the dataset\n",
    "df.isnull().sum()"
   ]
  },
  {
   "cell_type": "code",
   "execution_count": 11,
   "metadata": {
    "id": "n1h5lkAtOYL4"
   },
   "outputs": [],
   "source": [
    "from sklearn.utils import resample\n",
    "healthy   = df[df[\"target\"] != False]\n",
    "unhealthy = df[df[\"target\"] == False]"
   ]
  },
  {
   "cell_type": "code",
   "execution_count": 12,
   "metadata": {
    "colab": {
     "base_uri": "https://localhost:8080/",
     "height": 206
    },
    "id": "nO8jlVjTOd0P",
    "outputId": "e1e15d7e-24a7-4064-d666-b576cea4e121"
   },
   "outputs": [
    {
     "data": {
      "text/html": [
       "<div>\n",
       "<style scoped>\n",
       "    .dataframe tbody tr th:only-of-type {\n",
       "        vertical-align: middle;\n",
       "    }\n",
       "\n",
       "    .dataframe tbody tr th {\n",
       "        vertical-align: top;\n",
       "    }\n",
       "\n",
       "    .dataframe thead th {\n",
       "        text-align: right;\n",
       "    }\n",
       "</style>\n",
       "<table border=\"1\" class=\"dataframe\">\n",
       "  <thead>\n",
       "    <tr style=\"text-align: right;\">\n",
       "      <th></th>\n",
       "      <th>target</th>\n",
       "      <th>lat</th>\n",
       "      <th>lon</th>\n",
       "      <th>hour</th>\n",
       "      <th>temp</th>\n",
       "      <th>windSpeed</th>\n",
       "      <th>windDeg</th>\n",
       "      <th>rain</th>\n",
       "      <th>humid</th>\n",
       "      <th>cloud</th>\n",
       "      <th>press</th>\n",
       "      <th>dewPoint</th>\n",
       "      <th>daysSinceSpring</th>\n",
       "    </tr>\n",
       "  </thead>\n",
       "  <tbody>\n",
       "    <tr>\n",
       "      <th>24512</th>\n",
       "      <td>True</td>\n",
       "      <td>47.0</td>\n",
       "      <td>40.0</td>\n",
       "      <td>12</td>\n",
       "      <td>25.0</td>\n",
       "      <td>6.00</td>\n",
       "      <td>100</td>\n",
       "      <td>0.00</td>\n",
       "      <td>53</td>\n",
       "      <td>100</td>\n",
       "      <td>1010</td>\n",
       "      <td>14.0</td>\n",
       "      <td>99</td>\n",
       "    </tr>\n",
       "    <tr>\n",
       "      <th>29216</th>\n",
       "      <td>True</td>\n",
       "      <td>18.0</td>\n",
       "      <td>-93.0</td>\n",
       "      <td>16</td>\n",
       "      <td>25.0</td>\n",
       "      <td>1.20</td>\n",
       "      <td>72</td>\n",
       "      <td>0.27</td>\n",
       "      <td>86</td>\n",
       "      <td>100</td>\n",
       "      <td>1015</td>\n",
       "      <td>22.0</td>\n",
       "      <td>114</td>\n",
       "    </tr>\n",
       "    <tr>\n",
       "      <th>24827</th>\n",
       "      <td>True</td>\n",
       "      <td>46.0</td>\n",
       "      <td>21.0</td>\n",
       "      <td>9</td>\n",
       "      <td>23.0</td>\n",
       "      <td>1.70</td>\n",
       "      <td>65</td>\n",
       "      <td>0.15</td>\n",
       "      <td>66</td>\n",
       "      <td>100</td>\n",
       "      <td>1011</td>\n",
       "      <td>16.0</td>\n",
       "      <td>100</td>\n",
       "    </tr>\n",
       "    <tr>\n",
       "      <th>15962</th>\n",
       "      <td>True</td>\n",
       "      <td>47.0</td>\n",
       "      <td>20.0</td>\n",
       "      <td>17</td>\n",
       "      <td>18.0</td>\n",
       "      <td>7.30</td>\n",
       "      <td>68</td>\n",
       "      <td>0.00</td>\n",
       "      <td>64</td>\n",
       "      <td>7</td>\n",
       "      <td>1024</td>\n",
       "      <td>11.0</td>\n",
       "      <td>66</td>\n",
       "    </tr>\n",
       "    <tr>\n",
       "      <th>36286</th>\n",
       "      <td>True</td>\n",
       "      <td>40.0</td>\n",
       "      <td>-81.0</td>\n",
       "      <td>19</td>\n",
       "      <td>26.0</td>\n",
       "      <td>3.80</td>\n",
       "      <td>260</td>\n",
       "      <td>0.00</td>\n",
       "      <td>67</td>\n",
       "      <td>20</td>\n",
       "      <td>1015</td>\n",
       "      <td>19.0</td>\n",
       "      <td>137</td>\n",
       "    </tr>\n",
       "    <tr>\n",
       "      <th>...</th>\n",
       "      <td>...</td>\n",
       "      <td>...</td>\n",
       "      <td>...</td>\n",
       "      <td>...</td>\n",
       "      <td>...</td>\n",
       "      <td>...</td>\n",
       "      <td>...</td>\n",
       "      <td>...</td>\n",
       "      <td>...</td>\n",
       "      <td>...</td>\n",
       "      <td>...</td>\n",
       "      <td>...</td>\n",
       "      <td>...</td>\n",
       "    </tr>\n",
       "    <tr>\n",
       "      <th>7423</th>\n",
       "      <td>True</td>\n",
       "      <td>-3.0</td>\n",
       "      <td>-44.0</td>\n",
       "      <td>1</td>\n",
       "      <td>26.0</td>\n",
       "      <td>1.00</td>\n",
       "      <td>120</td>\n",
       "      <td>0.53</td>\n",
       "      <td>92</td>\n",
       "      <td>73</td>\n",
       "      <td>1012</td>\n",
       "      <td>25.0</td>\n",
       "      <td>204</td>\n",
       "    </tr>\n",
       "    <tr>\n",
       "      <th>33923</th>\n",
       "      <td>True</td>\n",
       "      <td>21.0</td>\n",
       "      <td>-101.0</td>\n",
       "      <td>24</td>\n",
       "      <td>29.0</td>\n",
       "      <td>0.84</td>\n",
       "      <td>39</td>\n",
       "      <td>0.04</td>\n",
       "      <td>35</td>\n",
       "      <td>60</td>\n",
       "      <td>1008</td>\n",
       "      <td>12.0</td>\n",
       "      <td>128</td>\n",
       "    </tr>\n",
       "    <tr>\n",
       "      <th>46811</th>\n",
       "      <td>True</td>\n",
       "      <td>-34.0</td>\n",
       "      <td>151.0</td>\n",
       "      <td>4</td>\n",
       "      <td>32.0</td>\n",
       "      <td>2.90</td>\n",
       "      <td>280</td>\n",
       "      <td>0.00</td>\n",
       "      <td>22</td>\n",
       "      <td>0</td>\n",
       "      <td>1018</td>\n",
       "      <td>7.9</td>\n",
       "      <td>16</td>\n",
       "    </tr>\n",
       "    <tr>\n",
       "      <th>48290</th>\n",
       "      <td>True</td>\n",
       "      <td>-34.0</td>\n",
       "      <td>19.0</td>\n",
       "      <td>10</td>\n",
       "      <td>19.0</td>\n",
       "      <td>2.60</td>\n",
       "      <td>46</td>\n",
       "      <td>0.00</td>\n",
       "      <td>59</td>\n",
       "      <td>0</td>\n",
       "      <td>1016</td>\n",
       "      <td>10.0</td>\n",
       "      <td>28</td>\n",
       "    </tr>\n",
       "    <tr>\n",
       "      <th>10936</th>\n",
       "      <td>True</td>\n",
       "      <td>35.0</td>\n",
       "      <td>-82.0</td>\n",
       "      <td>1</td>\n",
       "      <td>17.0</td>\n",
       "      <td>1.60</td>\n",
       "      <td>230</td>\n",
       "      <td>0.94</td>\n",
       "      <td>95</td>\n",
       "      <td>75</td>\n",
       "      <td>1009</td>\n",
       "      <td>16.0</td>\n",
       "      <td>43</td>\n",
       "    </tr>\n",
       "  </tbody>\n",
       "</table>\n",
       "<p>2809 rows × 13 columns</p>\n",
       "</div>"
      ],
      "text/plain": [
       "      target   lat    lon  hour  temp  windSpeed  windDeg  rain  humid  cloud  \\\n",
       "24512   True  47.0   40.0    12  25.0       6.00      100  0.00     53    100   \n",
       "29216   True  18.0  -93.0    16  25.0       1.20       72  0.27     86    100   \n",
       "24827   True  46.0   21.0     9  23.0       1.70       65  0.15     66    100   \n",
       "15962   True  47.0   20.0    17  18.0       7.30       68  0.00     64      7   \n",
       "36286   True  40.0  -81.0    19  26.0       3.80      260  0.00     67     20   \n",
       "...      ...   ...    ...   ...   ...        ...      ...   ...    ...    ...   \n",
       "7423    True  -3.0  -44.0     1  26.0       1.00      120  0.53     92     73   \n",
       "33923   True  21.0 -101.0    24  29.0       0.84       39  0.04     35     60   \n",
       "46811   True -34.0  151.0     4  32.0       2.90      280  0.00     22      0   \n",
       "48290   True -34.0   19.0    10  19.0       2.60       46  0.00     59      0   \n",
       "10936   True  35.0  -82.0     1  17.0       1.60      230  0.94     95     75   \n",
       "\n",
       "       press  dewPoint  daysSinceSpring  \n",
       "24512   1010      14.0               99  \n",
       "29216   1015      22.0              114  \n",
       "24827   1011      16.0              100  \n",
       "15962   1024      11.0               66  \n",
       "36286   1015      19.0              137  \n",
       "...      ...       ...              ...  \n",
       "7423    1012      25.0              204  \n",
       "33923   1008      12.0              128  \n",
       "46811   1018       7.9               16  \n",
       "48290   1016      10.0               28  \n",
       "10936   1009      16.0               43  \n",
       "\n",
       "[2809 rows x 13 columns]"
      ]
     },
     "execution_count": 12,
     "metadata": {},
     "output_type": "execute_result"
    }
   ],
   "source": [
    "healthy"
   ]
  },
  {
   "cell_type": "code",
   "execution_count": 13,
   "metadata": {},
   "outputs": [
    {
     "data": {
      "text/html": [
       "<div>\n",
       "<style scoped>\n",
       "    .dataframe tbody tr th:only-of-type {\n",
       "        vertical-align: middle;\n",
       "    }\n",
       "\n",
       "    .dataframe tbody tr th {\n",
       "        vertical-align: top;\n",
       "    }\n",
       "\n",
       "    .dataframe thead th {\n",
       "        text-align: right;\n",
       "    }\n",
       "</style>\n",
       "<table border=\"1\" class=\"dataframe\">\n",
       "  <thead>\n",
       "    <tr style=\"text-align: right;\">\n",
       "      <th></th>\n",
       "      <th>target</th>\n",
       "      <th>lat</th>\n",
       "      <th>lon</th>\n",
       "      <th>hour</th>\n",
       "      <th>temp</th>\n",
       "      <th>windSpeed</th>\n",
       "      <th>windDeg</th>\n",
       "      <th>rain</th>\n",
       "      <th>humid</th>\n",
       "      <th>cloud</th>\n",
       "      <th>press</th>\n",
       "      <th>dewPoint</th>\n",
       "      <th>daysSinceSpring</th>\n",
       "    </tr>\n",
       "  </thead>\n",
       "  <tbody>\n",
       "    <tr>\n",
       "      <th>36013</th>\n",
       "      <td>False</td>\n",
       "      <td>51.0</td>\n",
       "      <td>-2.0</td>\n",
       "      <td>13</td>\n",
       "      <td>20.0</td>\n",
       "      <td>6.60</td>\n",
       "      <td>240</td>\n",
       "      <td>0.12</td>\n",
       "      <td>67</td>\n",
       "      <td>36</td>\n",
       "      <td>1018</td>\n",
       "      <td>14.0</td>\n",
       "      <td>136</td>\n",
       "    </tr>\n",
       "    <tr>\n",
       "      <th>36060</th>\n",
       "      <td>False</td>\n",
       "      <td>53.0</td>\n",
       "      <td>9.0</td>\n",
       "      <td>17</td>\n",
       "      <td>18.0</td>\n",
       "      <td>6.60</td>\n",
       "      <td>270</td>\n",
       "      <td>0.32</td>\n",
       "      <td>64</td>\n",
       "      <td>86</td>\n",
       "      <td>1016</td>\n",
       "      <td>11.0</td>\n",
       "      <td>136</td>\n",
       "    </tr>\n",
       "    <tr>\n",
       "      <th>36003</th>\n",
       "      <td>False</td>\n",
       "      <td>46.0</td>\n",
       "      <td>16.0</td>\n",
       "      <td>13</td>\n",
       "      <td>35.0</td>\n",
       "      <td>1.30</td>\n",
       "      <td>320</td>\n",
       "      <td>0.00</td>\n",
       "      <td>38</td>\n",
       "      <td>0</td>\n",
       "      <td>1015</td>\n",
       "      <td>18.0</td>\n",
       "      <td>136</td>\n",
       "    </tr>\n",
       "    <tr>\n",
       "      <th>36061</th>\n",
       "      <td>False</td>\n",
       "      <td>55.0</td>\n",
       "      <td>-1.0</td>\n",
       "      <td>17</td>\n",
       "      <td>19.0</td>\n",
       "      <td>6.50</td>\n",
       "      <td>280</td>\n",
       "      <td>0.32</td>\n",
       "      <td>58</td>\n",
       "      <td>73</td>\n",
       "      <td>1014</td>\n",
       "      <td>10.0</td>\n",
       "      <td>136</td>\n",
       "    </tr>\n",
       "    <tr>\n",
       "      <th>36014</th>\n",
       "      <td>False</td>\n",
       "      <td>14.0</td>\n",
       "      <td>121.0</td>\n",
       "      <td>13</td>\n",
       "      <td>26.0</td>\n",
       "      <td>1.90</td>\n",
       "      <td>180</td>\n",
       "      <td>0.67</td>\n",
       "      <td>82</td>\n",
       "      <td>100</td>\n",
       "      <td>1009</td>\n",
       "      <td>23.0</td>\n",
       "      <td>136</td>\n",
       "    </tr>\n",
       "    <tr>\n",
       "      <th>...</th>\n",
       "      <td>...</td>\n",
       "      <td>...</td>\n",
       "      <td>...</td>\n",
       "      <td>...</td>\n",
       "      <td>...</td>\n",
       "      <td>...</td>\n",
       "      <td>...</td>\n",
       "      <td>...</td>\n",
       "      <td>...</td>\n",
       "      <td>...</td>\n",
       "      <td>...</td>\n",
       "      <td>...</td>\n",
       "      <td>...</td>\n",
       "    </tr>\n",
       "    <tr>\n",
       "      <th>18367</th>\n",
       "      <td>False</td>\n",
       "      <td>47.0</td>\n",
       "      <td>27.0</td>\n",
       "      <td>13</td>\n",
       "      <td>23.0</td>\n",
       "      <td>2.40</td>\n",
       "      <td>49</td>\n",
       "      <td>0.01</td>\n",
       "      <td>35</td>\n",
       "      <td>40</td>\n",
       "      <td>1017</td>\n",
       "      <td>6.9</td>\n",
       "      <td>76</td>\n",
       "    </tr>\n",
       "    <tr>\n",
       "      <th>18368</th>\n",
       "      <td>False</td>\n",
       "      <td>-25.0</td>\n",
       "      <td>29.0</td>\n",
       "      <td>13</td>\n",
       "      <td>24.0</td>\n",
       "      <td>4.00</td>\n",
       "      <td>280</td>\n",
       "      <td>0.01</td>\n",
       "      <td>40</td>\n",
       "      <td>15</td>\n",
       "      <td>1013</td>\n",
       "      <td>9.5</td>\n",
       "      <td>260</td>\n",
       "    </tr>\n",
       "    <tr>\n",
       "      <th>18369</th>\n",
       "      <td>False</td>\n",
       "      <td>54.0</td>\n",
       "      <td>16.0</td>\n",
       "      <td>13</td>\n",
       "      <td>12.0</td>\n",
       "      <td>4.40</td>\n",
       "      <td>340</td>\n",
       "      <td>0.00</td>\n",
       "      <td>56</td>\n",
       "      <td>81</td>\n",
       "      <td>1029</td>\n",
       "      <td>3.6</td>\n",
       "      <td>76</td>\n",
       "    </tr>\n",
       "    <tr>\n",
       "      <th>18358</th>\n",
       "      <td>False</td>\n",
       "      <td>47.0</td>\n",
       "      <td>-122.0</td>\n",
       "      <td>12</td>\n",
       "      <td>14.0</td>\n",
       "      <td>0.94</td>\n",
       "      <td>230</td>\n",
       "      <td>0.00</td>\n",
       "      <td>88</td>\n",
       "      <td>0</td>\n",
       "      <td>1011</td>\n",
       "      <td>12.0</td>\n",
       "      <td>76</td>\n",
       "    </tr>\n",
       "    <tr>\n",
       "      <th>53990</th>\n",
       "      <td>False</td>\n",
       "      <td>30.0</td>\n",
       "      <td>-99.0</td>\n",
       "      <td>1</td>\n",
       "      <td>18.0</td>\n",
       "      <td>1.50</td>\n",
       "      <td>130</td>\n",
       "      <td>0.00</td>\n",
       "      <td>79</td>\n",
       "      <td>75</td>\n",
       "      <td>1019</td>\n",
       "      <td>15.0</td>\n",
       "      <td>295</td>\n",
       "    </tr>\n",
       "  </tbody>\n",
       "</table>\n",
       "<p>51182 rows × 13 columns</p>\n",
       "</div>"
      ],
      "text/plain": [
       "      target   lat    lon  hour  temp  windSpeed  windDeg  rain  humid  cloud  \\\n",
       "36013  False  51.0   -2.0    13  20.0       6.60      240  0.12     67     36   \n",
       "36060  False  53.0    9.0    17  18.0       6.60      270  0.32     64     86   \n",
       "36003  False  46.0   16.0    13  35.0       1.30      320  0.00     38      0   \n",
       "36061  False  55.0   -1.0    17  19.0       6.50      280  0.32     58     73   \n",
       "36014  False  14.0  121.0    13  26.0       1.90      180  0.67     82    100   \n",
       "...      ...   ...    ...   ...   ...        ...      ...   ...    ...    ...   \n",
       "18367  False  47.0   27.0    13  23.0       2.40       49  0.01     35     40   \n",
       "18368  False -25.0   29.0    13  24.0       4.00      280  0.01     40     15   \n",
       "18369  False  54.0   16.0    13  12.0       4.40      340  0.00     56     81   \n",
       "18358  False  47.0 -122.0    12  14.0       0.94      230  0.00     88      0   \n",
       "53990  False  30.0  -99.0     1  18.0       1.50      130  0.00     79     75   \n",
       "\n",
       "       press  dewPoint  daysSinceSpring  \n",
       "36013   1018      14.0              136  \n",
       "36060   1016      11.0              136  \n",
       "36003   1015      18.0              136  \n",
       "36061   1014      10.0              136  \n",
       "36014   1009      23.0              136  \n",
       "...      ...       ...              ...  \n",
       "18367   1017       6.9               76  \n",
       "18368   1013       9.5              260  \n",
       "18369   1029       3.6               76  \n",
       "18358   1011      12.0               76  \n",
       "53990   1019      15.0              295  \n",
       "\n",
       "[51182 rows x 13 columns]"
      ]
     },
     "execution_count": 13,
     "metadata": {},
     "output_type": "execute_result"
    }
   ],
   "source": [
    "unhealthy"
   ]
  },
  {
   "cell_type": "markdown",
   "metadata": {},
   "source": [
    "In a Machine Learning problem, make sure to upsample/downsample ONLY AFTER you split into train, test (and validate if you wish). If you do upsample your dataset before you split into train and test, there is a high possibility that your model is exposed to data leakage. See an Example below.\n",
    "https://towardsdatascience.com/heres-what-i-ve-learnt-about-sklearn-resample-ab735ae1abc4"
   ]
  },
  {
   "cell_type": "code",
   "execution_count": 14,
   "metadata": {
    "id": "UVz6fD43OgQ4"
   },
   "outputs": [],
   "source": [
    "up_sampled = resample(unhealthy, replace=False, n_samples=int(len(healthy)))\n",
    "up_sampled = pd.concat([healthy, up_sampled])"
   ]
  },
  {
   "cell_type": "code",
   "execution_count": 15,
   "metadata": {
    "colab": {
     "base_uri": "https://localhost:8080/"
    },
    "id": "AG6jVa_9OmKB",
    "outputId": "baa72105-1c74-4dbe-ddbc-1668ba22215a"
   },
   "outputs": [
    {
     "data": {
      "text/plain": [
       "True     2809\n",
       "False    2809\n",
       "Name: target, dtype: int64"
      ]
     },
     "execution_count": 15,
     "metadata": {},
     "output_type": "execute_result"
    }
   ],
   "source": [
    "#check updated class counts\n",
    "up_sampled['target'].value_counts()"
   ]
  },
  {
   "cell_type": "code",
   "execution_count": 16,
   "metadata": {
    "id": "T3W2trLXOsDz"
   },
   "outputs": [
    {
     "data": {
      "text/plain": [
       "((5618, 12), (5618,))"
      ]
     },
     "execution_count": 16,
     "metadata": {},
     "output_type": "execute_result"
    }
   ],
   "source": [
    "#X1 = up_sampled.drop(['target','day','windSpeed','humid','cloud','press',], axis=1)\n",
    "X1 = up_sampled.drop(['target'], axis=1)\n",
    "y1 = up_sampled['target']\n",
    "X1.shape, y1.shape"
   ]
  },
  {
   "cell_type": "code",
   "execution_count": 17,
   "metadata": {},
   "outputs": [
    {
     "name": "stdout",
     "output_type": "stream",
     "text": [
      "\n",
      "windSpeed          1.000000\n",
      "windDeg            0.048246\n",
      "cloud              0.037444\n",
      "lat                0.013990\n",
      "rain               0.012513\n",
      "hour               0.011729\n",
      "lon                0.003719\n",
      "temp              -0.011040\n",
      "daysSinceSpring   -0.033684\n",
      "dewPoint          -0.093929\n",
      "humid             -0.111801\n",
      "press             -0.138585\n",
      "Name: windSpeed, dtype: float64\n",
      "\n",
      "humid              1.000000\n",
      "rain               0.437452\n",
      "dewPoint           0.435671\n",
      "cloud              0.383167\n",
      "lon                0.101778\n",
      "daysSinceSpring    0.097857\n",
      "lat               -0.009304\n",
      "hour              -0.049501\n",
      "press             -0.062358\n",
      "windDeg           -0.071772\n",
      "windSpeed         -0.111801\n",
      "temp              -0.355636\n",
      "Name: humid, dtype: float64\n",
      "\n",
      "press              1.000000\n",
      "daysSinceSpring    0.063921\n",
      "hour               0.036774\n",
      "lat               -0.011446\n",
      "humid             -0.062358\n",
      "lon               -0.067800\n",
      "windDeg           -0.101725\n",
      "windSpeed         -0.138585\n",
      "cloud             -0.157908\n",
      "temp              -0.257788\n",
      "dewPoint          -0.267790\n",
      "rain              -0.277466\n",
      "Name: press, dtype: float64\n",
      "\n",
      "dewPoint           1.000000\n",
      "temp               0.662732\n",
      "humid              0.435671\n",
      "rain               0.307599\n",
      "lon                0.235337\n",
      "cloud              0.130129\n",
      "daysSinceSpring    0.084282\n",
      "hour              -0.048615\n",
      "windSpeed         -0.093929\n",
      "windDeg           -0.113335\n",
      "lat               -0.142848\n",
      "press             -0.267790\n",
      "Name: dewPoint, dtype: float64\n"
     ]
    },
    {
     "data": {
      "text/html": [
       "<div>\n",
       "<style scoped>\n",
       "    .dataframe tbody tr th:only-of-type {\n",
       "        vertical-align: middle;\n",
       "    }\n",
       "\n",
       "    .dataframe tbody tr th {\n",
       "        vertical-align: top;\n",
       "    }\n",
       "\n",
       "    .dataframe thead th {\n",
       "        text-align: right;\n",
       "    }\n",
       "</style>\n",
       "<table border=\"1\" class=\"dataframe\">\n",
       "  <thead>\n",
       "    <tr style=\"text-align: right;\">\n",
       "      <th></th>\n",
       "      <th>lat</th>\n",
       "      <th>lon</th>\n",
       "      <th>hour</th>\n",
       "      <th>temp</th>\n",
       "      <th>windSpeed</th>\n",
       "      <th>windDeg</th>\n",
       "      <th>rain</th>\n",
       "      <th>humid</th>\n",
       "      <th>cloud</th>\n",
       "      <th>press</th>\n",
       "      <th>dewPoint</th>\n",
       "      <th>daysSinceSpring</th>\n",
       "    </tr>\n",
       "  </thead>\n",
       "  <tbody>\n",
       "    <tr>\n",
       "      <th>lat</th>\n",
       "      <td>1.000000</td>\n",
       "      <td>-0.627070</td>\n",
       "      <td>0.232215</td>\n",
       "      <td>-0.145001</td>\n",
       "      <td>0.013990</td>\n",
       "      <td>0.060152</td>\n",
       "      <td>-0.002125</td>\n",
       "      <td>-0.009304</td>\n",
       "      <td>0.026045</td>\n",
       "      <td>-0.011446</td>\n",
       "      <td>-0.142848</td>\n",
       "      <td>-0.200099</td>\n",
       "    </tr>\n",
       "    <tr>\n",
       "      <th>lon</th>\n",
       "      <td>-0.627070</td>\n",
       "      <td>1.000000</td>\n",
       "      <td>-0.238053</td>\n",
       "      <td>0.151445</td>\n",
       "      <td>0.003719</td>\n",
       "      <td>-0.066380</td>\n",
       "      <td>0.067158</td>\n",
       "      <td>0.101778</td>\n",
       "      <td>0.056100</td>\n",
       "      <td>-0.067800</td>\n",
       "      <td>0.235337</td>\n",
       "      <td>0.160874</td>\n",
       "    </tr>\n",
       "    <tr>\n",
       "      <th>hour</th>\n",
       "      <td>0.232215</td>\n",
       "      <td>-0.238053</td>\n",
       "      <td>1.000000</td>\n",
       "      <td>-0.014927</td>\n",
       "      <td>0.011729</td>\n",
       "      <td>0.056529</td>\n",
       "      <td>-0.002004</td>\n",
       "      <td>-0.049501</td>\n",
       "      <td>0.015610</td>\n",
       "      <td>0.036774</td>\n",
       "      <td>-0.048615</td>\n",
       "      <td>-0.057860</td>\n",
       "    </tr>\n",
       "    <tr>\n",
       "      <th>temp</th>\n",
       "      <td>-0.145001</td>\n",
       "      <td>0.151445</td>\n",
       "      <td>-0.014927</td>\n",
       "      <td>1.000000</td>\n",
       "      <td>-0.011040</td>\n",
       "      <td>-0.053184</td>\n",
       "      <td>-0.008752</td>\n",
       "      <td>-0.355636</td>\n",
       "      <td>-0.160978</td>\n",
       "      <td>-0.257788</td>\n",
       "      <td>0.662732</td>\n",
       "      <td>0.001563</td>\n",
       "    </tr>\n",
       "    <tr>\n",
       "      <th>windSpeed</th>\n",
       "      <td>0.013990</td>\n",
       "      <td>0.003719</td>\n",
       "      <td>0.011729</td>\n",
       "      <td>-0.011040</td>\n",
       "      <td>1.000000</td>\n",
       "      <td>0.048246</td>\n",
       "      <td>0.012513</td>\n",
       "      <td>-0.111801</td>\n",
       "      <td>0.037444</td>\n",
       "      <td>-0.138585</td>\n",
       "      <td>-0.093929</td>\n",
       "      <td>-0.033684</td>\n",
       "    </tr>\n",
       "    <tr>\n",
       "      <th>windDeg</th>\n",
       "      <td>0.060152</td>\n",
       "      <td>-0.066380</td>\n",
       "      <td>0.056529</td>\n",
       "      <td>-0.053184</td>\n",
       "      <td>0.048246</td>\n",
       "      <td>1.000000</td>\n",
       "      <td>-0.014532</td>\n",
       "      <td>-0.071772</td>\n",
       "      <td>-0.007822</td>\n",
       "      <td>-0.101725</td>\n",
       "      <td>-0.113335</td>\n",
       "      <td>-0.027935</td>\n",
       "    </tr>\n",
       "    <tr>\n",
       "      <th>rain</th>\n",
       "      <td>-0.002125</td>\n",
       "      <td>0.067158</td>\n",
       "      <td>-0.002004</td>\n",
       "      <td>-0.008752</td>\n",
       "      <td>0.012513</td>\n",
       "      <td>-0.014532</td>\n",
       "      <td>1.000000</td>\n",
       "      <td>0.437452</td>\n",
       "      <td>0.404173</td>\n",
       "      <td>-0.277466</td>\n",
       "      <td>0.307599</td>\n",
       "      <td>-0.021675</td>\n",
       "    </tr>\n",
       "    <tr>\n",
       "      <th>humid</th>\n",
       "      <td>-0.009304</td>\n",
       "      <td>0.101778</td>\n",
       "      <td>-0.049501</td>\n",
       "      <td>-0.355636</td>\n",
       "      <td>-0.111801</td>\n",
       "      <td>-0.071772</td>\n",
       "      <td>0.437452</td>\n",
       "      <td>1.000000</td>\n",
       "      <td>0.383167</td>\n",
       "      <td>-0.062358</td>\n",
       "      <td>0.435671</td>\n",
       "      <td>0.097857</td>\n",
       "    </tr>\n",
       "    <tr>\n",
       "      <th>cloud</th>\n",
       "      <td>0.026045</td>\n",
       "      <td>0.056100</td>\n",
       "      <td>0.015610</td>\n",
       "      <td>-0.160978</td>\n",
       "      <td>0.037444</td>\n",
       "      <td>-0.007822</td>\n",
       "      <td>0.404173</td>\n",
       "      <td>0.383167</td>\n",
       "      <td>1.000000</td>\n",
       "      <td>-0.157908</td>\n",
       "      <td>0.130129</td>\n",
       "      <td>-0.025538</td>\n",
       "    </tr>\n",
       "    <tr>\n",
       "      <th>press</th>\n",
       "      <td>-0.011446</td>\n",
       "      <td>-0.067800</td>\n",
       "      <td>0.036774</td>\n",
       "      <td>-0.257788</td>\n",
       "      <td>-0.138585</td>\n",
       "      <td>-0.101725</td>\n",
       "      <td>-0.277466</td>\n",
       "      <td>-0.062358</td>\n",
       "      <td>-0.157908</td>\n",
       "      <td>1.000000</td>\n",
       "      <td>-0.267790</td>\n",
       "      <td>0.063921</td>\n",
       "    </tr>\n",
       "    <tr>\n",
       "      <th>dewPoint</th>\n",
       "      <td>-0.142848</td>\n",
       "      <td>0.235337</td>\n",
       "      <td>-0.048615</td>\n",
       "      <td>0.662732</td>\n",
       "      <td>-0.093929</td>\n",
       "      <td>-0.113335</td>\n",
       "      <td>0.307599</td>\n",
       "      <td>0.435671</td>\n",
       "      <td>0.130129</td>\n",
       "      <td>-0.267790</td>\n",
       "      <td>1.000000</td>\n",
       "      <td>0.084282</td>\n",
       "    </tr>\n",
       "    <tr>\n",
       "      <th>daysSinceSpring</th>\n",
       "      <td>-0.200099</td>\n",
       "      <td>0.160874</td>\n",
       "      <td>-0.057860</td>\n",
       "      <td>0.001563</td>\n",
       "      <td>-0.033684</td>\n",
       "      <td>-0.027935</td>\n",
       "      <td>-0.021675</td>\n",
       "      <td>0.097857</td>\n",
       "      <td>-0.025538</td>\n",
       "      <td>0.063921</td>\n",
       "      <td>0.084282</td>\n",
       "      <td>1.000000</td>\n",
       "    </tr>\n",
       "  </tbody>\n",
       "</table>\n",
       "</div>"
      ],
      "text/plain": [
       "                      lat       lon      hour      temp  windSpeed   windDeg  \\\n",
       "lat              1.000000 -0.627070  0.232215 -0.145001   0.013990  0.060152   \n",
       "lon             -0.627070  1.000000 -0.238053  0.151445   0.003719 -0.066380   \n",
       "hour             0.232215 -0.238053  1.000000 -0.014927   0.011729  0.056529   \n",
       "temp            -0.145001  0.151445 -0.014927  1.000000  -0.011040 -0.053184   \n",
       "windSpeed        0.013990  0.003719  0.011729 -0.011040   1.000000  0.048246   \n",
       "windDeg          0.060152 -0.066380  0.056529 -0.053184   0.048246  1.000000   \n",
       "rain            -0.002125  0.067158 -0.002004 -0.008752   0.012513 -0.014532   \n",
       "humid           -0.009304  0.101778 -0.049501 -0.355636  -0.111801 -0.071772   \n",
       "cloud            0.026045  0.056100  0.015610 -0.160978   0.037444 -0.007822   \n",
       "press           -0.011446 -0.067800  0.036774 -0.257788  -0.138585 -0.101725   \n",
       "dewPoint        -0.142848  0.235337 -0.048615  0.662732  -0.093929 -0.113335   \n",
       "daysSinceSpring -0.200099  0.160874 -0.057860  0.001563  -0.033684 -0.027935   \n",
       "\n",
       "                     rain     humid     cloud     press  dewPoint  \\\n",
       "lat             -0.002125 -0.009304  0.026045 -0.011446 -0.142848   \n",
       "lon              0.067158  0.101778  0.056100 -0.067800  0.235337   \n",
       "hour            -0.002004 -0.049501  0.015610  0.036774 -0.048615   \n",
       "temp            -0.008752 -0.355636 -0.160978 -0.257788  0.662732   \n",
       "windSpeed        0.012513 -0.111801  0.037444 -0.138585 -0.093929   \n",
       "windDeg         -0.014532 -0.071772 -0.007822 -0.101725 -0.113335   \n",
       "rain             1.000000  0.437452  0.404173 -0.277466  0.307599   \n",
       "humid            0.437452  1.000000  0.383167 -0.062358  0.435671   \n",
       "cloud            0.404173  0.383167  1.000000 -0.157908  0.130129   \n",
       "press           -0.277466 -0.062358 -0.157908  1.000000 -0.267790   \n",
       "dewPoint         0.307599  0.435671  0.130129 -0.267790  1.000000   \n",
       "daysSinceSpring -0.021675  0.097857 -0.025538  0.063921  0.084282   \n",
       "\n",
       "                 daysSinceSpring  \n",
       "lat                    -0.200099  \n",
       "lon                     0.160874  \n",
       "hour                   -0.057860  \n",
       "temp                    0.001563  \n",
       "windSpeed              -0.033684  \n",
       "windDeg                -0.027935  \n",
       "rain                   -0.021675  \n",
       "humid                   0.097857  \n",
       "cloud                  -0.025538  \n",
       "press                   0.063921  \n",
       "dewPoint                0.084282  \n",
       "daysSinceSpring         1.000000  "
      ]
     },
     "execution_count": 17,
     "metadata": {},
     "output_type": "execute_result"
    }
   ],
   "source": [
    "corr_matrix = X1.corr()\n",
    "#print(corr_matrix['day'].sort_values(ascending=False))\n",
    "#print(corr_matrix['morn'].sort_values(ascending=False))\n",
    "print()\n",
    "print(corr_matrix['windSpeed'].sort_values(ascending=False))\n",
    "#print(corr_matrix['windGust'].sort_values(ascending=False))\n",
    "print()\n",
    "print(corr_matrix['humid'].sort_values(ascending=False))\n",
    "print()\n",
    "#print(corr_matrix['cloud'].sort_values(ascending=False))\n",
    "#print()\n",
    "print(corr_matrix['press'].sort_values(ascending=False))\n",
    "print()\n",
    "print(corr_matrix['dewPoint'].sort_values(ascending=False))\n",
    "corr_matrix"
   ]
  },
  {
   "cell_type": "raw",
   "metadata": {},
   "source": [
    "corr_matrix = X1.corr()\n",
    "print(corr_matrix['deltaDay'].sort_values(ascending=False))\n",
    "print()\n",
    "print(corr_matrix['deltaWind'].sort_values(ascending=False))\n",
    "print()\n",
    "print(corr_matrix['deltaHumid'].sort_values(ascending=False))\n",
    "print()\n",
    "print(corr_matrix['deltaCloud'].sort_values(ascending=False))\n",
    "print()\n",
    "print(corr_matrix['deltaPress'].sort_values(ascending=False))\n",
    "corr_matrix"
   ]
  },
  {
   "cell_type": "code",
   "execution_count": 18,
   "metadata": {
    "colab": {
     "base_uri": "https://localhost:8080/"
    },
    "id": "X9vtiHFaO_JL",
    "outputId": "8cbb19ad-79e4-4b23-c13b-0e072571ba7f"
   },
   "outputs": [
    {
     "data": {
      "text/plain": [
       "((2809, 12), (2809, 12), (2809,), (2809,))"
      ]
     },
     "execution_count": 18,
     "metadata": {},
     "output_type": "execute_result"
    }
   ],
   "source": [
    "X1_train, X1_test, y1_train, y1_test = train_test_split(X1, y1, test_size=0.5)\n",
    "X1_train.shape, X1_test.shape, y1_train.shape, y1_test.shape"
   ]
  },
  {
   "cell_type": "raw",
   "metadata": {
    "colab": {
     "base_uri": "https://localhost:8080/"
    },
    "id": "6oCC3T3aPHUx",
    "outputId": "2ceaf461-2118-4e94-d77e-8d69ff58289d"
   },
   "source": [
    "import autosklearn.classification\n",
    "import autosklearn.regression\n",
    "\n",
    "automl = autosklearn.classification.AutoSklearnClassifier(\n",
    "#automl = autosklearn.regression.AutoSklearnRegressor(\n",
    "    time_left_for_this_task=30,\n",
    "    per_run_time_limit=10,\n",
    "    n_jobs=-1,\n",
    "    # Each one of the jobs is allocated 3GB\n",
    "    memory_limit=3072,\n",
    "    #seed=5,\n",
    "    max_models_on_disc=1,\n",
    "    ensemble_class=autosklearn.ensembles.SingleBest,\n",
    "    initial_configurations_via_metalearning=0,\n",
    "    include = {\n",
    "        #'classifier': [\"k_nearest_neighbors\", \"libsvm_svc\", \"decision_tree\", \"random_forest\", \"mlp\", \"gaussian_nb\", \"bernoulli_nb\", \"liblinear_svc\"],\n",
    "        'feature_preprocessor': [\"no_preprocessing\"]\n",
    "    },\n",
    "    exclude={\n",
    "        #'classifier': [\"adaboost\", \"qda\", \"random_forest\", \"gradient_boosting\", \"k_nearest_neighbors\", \"decision_tree\", \"mlp\", \"libsvm_svc\", \"lda\", \"passive_aggressive\"],\n",
    "    },\n",
    ")\n",
    "#automl.fit(X1_train, y1_train, X_test=X1_test, y_test=y1_test, dataset_name=\"nuptial_flight_shaped\")\n",
    "automl.fit(X1_train, y1_train, dataset_name=\"nuptial_flight_shaped\")\n",
    "automl.get_models_with_weights()"
   ]
  },
  {
   "cell_type": "code",
   "execution_count": 58,
   "metadata": {},
   "outputs": [
    {
     "data": {
      "text/plain": [
       "CalibratedClassifierCV(base_estimator=RandomForestClassifier(ccp_alpha=0.0008,\n",
       "                                                             max_features=4,\n",
       "                                                             min_samples_split=3,\n",
       "                                                             n_estimators=6,\n",
       "                                                             n_jobs=-1),\n",
       "                       cv=10, ensemble=False, n_jobs=-1)"
      ]
     },
     "execution_count": 58,
     "metadata": {},
     "output_type": "execute_result"
    }
   ],
   "source": [
    "from numpy import mean\n",
    "from sklearn.ensemble import RandomForestClassifier\n",
    "from sklearn.calibration import CalibratedClassifierCV\n",
    "from sklearn.model_selection import cross_val_score\n",
    "from sklearn.model_selection import RepeatedStratifiedKFold\n",
    "\n",
    "# define the model\n",
    "automl = RandomForestClassifier(max_features=4, min_samples_split=3, n_estimators=6, n_jobs=-1, ccp_alpha=0.0008)\n",
    "\n",
    "# fit the model on the whole dataset\n",
    "automl.fit(X1_train, y1_train)\n",
    "\n",
    "# calibrate\n",
    "calibrated = CalibratedClassifierCV(base_estimator=automl, n_jobs=-1, ensemble=False, cv=10)\n",
    "calibrated.fit(X1_train, y1_train)"
   ]
  },
  {
   "cell_type": "raw",
   "metadata": {},
   "source": [
    "from sklearn.tree import DecisionTreeClassifier\n",
    "from sklearn.tree import export_text\n",
    "from sklearn.calibration import CalibratedClassifierCV\n",
    "\n",
    "# define the model\n",
    "automl = DecisionTreeClassifier(ccp_alpha=0.000005\n",
    "   # min_samples_leaf=30, ccp_alpha=0.0008\n",
    ")\n",
    "\n",
    "# fit the model on the whole dataset\n",
    "automl.fit(X1_train, y1_train)\n",
    "\n",
    "# calibrate\n",
    "calibrated = CalibratedClassifierCV(base_estimator=automl, n_jobs=-1, ensemble=True)\n",
    "calibrated.fit(X1_train, y1_train)\n",
    "\n",
    "# show tree\n",
    "r = export_text(automl, feature_names=X1_train.columns.array, show_weights=True)\n",
    "print(r)"
   ]
  },
  {
   "cell_type": "raw",
   "metadata": {},
   "source": [
    "from xgboost import XGBClassifier\n",
    "from sklearn.calibration import CalibratedClassifierCV\n",
    "\n",
    "# define the model\n",
    "automl = XGBClassifier(n_jobs=-1, n_estimators=12,) #tree_method='hist', eta=0.2, alpha=3,)\n",
    "\n",
    "# fit the model on the whole dataset\n",
    "automl.fit(X1_train, y1_train)\n",
    "\n",
    "# calibrate\n",
    "calibrated = CalibratedClassifierCV(base_estimator=automl, n_jobs=-1, ensemble=True)\n",
    "calibrated.fit(X1_train, y1_train)\n",
    "\n",
    "# show tree\n",
    "#r = export_text(automl, feature_names=X1_train.columns.array, show_weights=True)\n",
    "#print(r)"
   ]
  },
  {
   "cell_type": "raw",
   "metadata": {},
   "source": [
    "# make predictions using extra trees for classification\n",
    "from sklearn.datasets import make_classification\n",
    "from sklearn.ensemble import ExtraTreesClassifier\n",
    "from sklearn.calibration import CalibratedClassifierCV\n",
    "\n",
    "# define the model\n",
    "#automl = ExtraTreesClassifier(n_jobs=-1, n_estimators=8, min_samples_split=24, ccp_alpha=0.000005,)\n",
    "automl = ExtraTreesClassifier(n_jobs=-1, n_estimators=10)\n",
    "    #min_samples_split=3, n_estimators=32, n_jobs=-1, ccp_alpha=0.0008)\n",
    "\n",
    "# fit the model on the whole dataset\n",
    "automl.fit(X1_train, y1_train)\n",
    "\n",
    "# calibrate\n",
    "calibrated = CalibratedClassifierCV(base_estimator=automl, n_jobs=-1, ensemble=True)\n",
    "calibrated.fit(X1_train, y1_train)"
   ]
  },
  {
   "cell_type": "code",
   "execution_count": 59,
   "metadata": {},
   "outputs": [
    {
     "data": {
      "image/png": "[encoded data removed]",
      "text/plain": [
       "<Figure size 640x480 with 1 Axes>"
      ]
     },
     "metadata": {},
     "output_type": "display_data"
    }
   ],
   "source": [
    "from sklearn.calibration import calibration_curve\n",
    "from matplotlib import pyplot\n",
    "\n",
    "fig = plt.figure()\n",
    "ax = fig.add_subplot()\n",
    "ax.plot([0, 1], [0, 1], \"b--\", label=\"Perfect\")\n",
    "ax.set_ylabel(\"Fraction of positives\")\n",
    "ax.set_xlabel(\"Mean predicted value\")\n",
    "ax.set_title('Calibration plot (reliability curve)')\n",
    "\n",
    "prob_pos_rfc = automl.predict_proba(X1_test)[:, 1]\n",
    "fraction_of_positives_rfc, mean_predicted_value_rfc = calibration_curve(y1_test, prob_pos_rfc, n_bins=7)\n",
    "ax.plot(mean_predicted_value_rfc, fraction_of_positives_rfc, \"s-\", label=\"%s\" % ('Raw'))\n",
    "\n",
    "prob_pos_lr = calibrated.predict_proba(X1_test)[:, 1]\n",
    "fraction_of_positives_lr, mean_predicted_value_lr = calibration_curve(y1_test, prob_pos_lr, n_bins=7)\n",
    "ax.plot(mean_predicted_value_lr, fraction_of_positives_lr, \"s-\", label=\"%s\" % ('Calibrated'))\n",
    "\n",
    "ax.legend(loc=\"lower right\")\n",
    "plt.show()"
   ]
  },
  {
   "cell_type": "code",
   "execution_count": 60,
   "metadata": {},
   "outputs": [],
   "source": [
    "#automl.refit(X1_train.copy(), y1_train.copy())"
   ]
  },
  {
   "cell_type": "code",
   "execution_count": 61,
   "metadata": {
    "colab": {
     "base_uri": "https://localhost:8080/"
    },
    "id": "DQJjqCXQPYoE",
    "outputId": "4a627f06-3471-4d53-9061-3cf0f5a86c13"
   },
   "outputs": [],
   "source": [
    "#print(automl.sprint_statistics())"
   ]
  },
  {
   "cell_type": "code",
   "execution_count": 62,
   "metadata": {
    "colab": {
     "base_uri": "https://localhost:8080/"
    },
    "id": "QrkbNqJVPOHz",
    "outputId": "85cf6853-e0cc-4b25-e2b8-65221c676720"
   },
   "outputs": [],
   "source": [
    "#automl.leaderboard()"
   ]
  },
  {
   "cell_type": "code",
   "execution_count": 63,
   "metadata": {},
   "outputs": [],
   "source": [
    "#automl.leaderboard(detailed = True, ensemble_only=False)"
   ]
  },
  {
   "cell_type": "code",
   "execution_count": 64,
   "metadata": {
    "colab": {
     "base_uri": "https://localhost:8080/"
    },
    "id": "Z4-uxmxQPUg0",
    "outputId": "8600a732-17c2-4a0f-faa7-9e522ff2af91"
   },
   "outputs": [],
   "source": [
    "#automl.show_models()"
   ]
  },
  {
   "cell_type": "code",
   "execution_count": 65,
   "metadata": {},
   "outputs": [],
   "source": [
    "#automl.get_models_with_weights()"
   ]
  },
  {
   "cell_type": "code",
   "execution_count": 66,
   "metadata": {
    "colab": {
     "base_uri": "https://localhost:8080/"
    },
    "id": "93myN4irRUlP",
    "outputId": "bdc92321-c3f8-4c44-a1f0-a80c51ede185"
   },
   "outputs": [
    {
     "data": {
      "text/plain": [
       "0.8932004271982912"
      ]
     },
     "execution_count": 66,
     "metadata": {},
     "output_type": "execute_result"
    }
   ],
   "source": [
    "automl.score(X1_train, y1_train)"
   ]
  },
  {
   "cell_type": "code",
   "execution_count": 67,
   "metadata": {
    "colab": {
     "base_uri": "https://localhost:8080/"
    },
    "id": "NOYAKj1kReMU",
    "outputId": "bdc29ef6-86b3-49f4-cc7f-07fecd95f513"
   },
   "outputs": [
    {
     "data": {
      "text/plain": [
       "0.5927376290494838"
      ]
     },
     "execution_count": 67,
     "metadata": {},
     "output_type": "execute_result"
    }
   ],
   "source": [
    "automl.score(X1_test, y1_test)"
   ]
  },
  {
   "cell_type": "raw",
   "metadata": {},
   "source": [
    "import PipelineProfiler\n",
    "profiler_data = PipelineProfiler.import_autosklearn(automl)\n",
    "PipelineProfiler.plot_pipeline_matrix(profiler_data)"
   ]
  },
  {
   "cell_type": "raw",
   "metadata": {},
   "source": [
    "# Score of the final ensemble\n",
    "from sklearn.metrics import confusion_matrix, accuracy_score\n",
    "y1_pred = automl.predict(X1_test)\n",
    "conf_matrix = confusion_matrix(y1_pred, y1_test)\n",
    "\n",
    "sns.heatmap(conf_matrix, annot=True)"
   ]
  },
  {
   "cell_type": "code",
   "execution_count": 68,
   "metadata": {
    "colab": {
     "base_uri": "https://localhost:8080/",
     "height": 283
    },
    "id": "ROLpcKYaRlbG",
    "outputId": "6e4726b0-56a1-4a49-8864-3bdf0e8cd64a"
   },
   "outputs": [
    {
     "name": "stdout",
     "output_type": "stream",
     "text": [
      "True Positive(TP)  =  812\n",
      "False Positive(FP) =  586\n",
      "True Negative(TN)  =  853\n",
      "False Negative(FN) =  558\n"
     ]
    },
    {
     "data": {
      "text/plain": [
       "<AxesSubplot: >"
      ]
     },
     "execution_count": 68,
     "metadata": {},
     "output_type": "execute_result"
    },
    {
     "data": {
      "image/png": "[encoded data removed]",
      "text/plain": [
       "<Figure size 640x480 with 2 Axes>"
      ]
     },
     "metadata": {},
     "output_type": "display_data"
    }
   ],
   "source": [
    "# Score of the final ensemble\n",
    "from sklearn.metrics import confusion_matrix, accuracy_score\n",
    "y1_pred = automl.predict(X1_test)\n",
    "conf_matrix = confusion_matrix(y1_pred, y1_test)\n",
    "\n",
    "TN, FP, FN, TP = conf_matrix.ravel()\n",
    "print('True Positive(TP)  = ', TP)\n",
    "print('False Positive(FP) = ', FP)\n",
    "print('True Negative(TN)  = ', TN)\n",
    "print('False Negative(FN) = ', FN)\n",
    "\n",
    "sns.heatmap(conf_matrix, annot=True, xticklabels=['Predicted Negative', 'Predicted Positive'], yticklabels=['Actual Negative', 'Actual Positive'])"
   ]
  },
  {
   "cell_type": "code",
   "execution_count": 69,
   "metadata": {
    "colab": {
     "base_uri": "https://localhost:8080/"
    },
    "id": "VRr3xtX2VByA",
    "outputId": "a991d751-b0f8-42e0-b731-474889ae5eb6"
   },
   "outputs": [
    {
     "name": "stdout",
     "output_type": "stream",
     "text": [
      "Test Accuracy score  0.5927376290494838\n",
      "Test F1-Score        0.5867052023121386\n"
     ]
    }
   ],
   "source": [
    "from sklearn.metrics import accuracy_score\n",
    "from sklearn.metrics import f1_score\n",
    "\n",
    "pred = automl.predict(X1_test)\n",
    "m2_acc_score = accuracy_score(y1_test, y1_pred)\n",
    "print(\"Test Accuracy score  {0}\".format(m2_acc_score))\n",
    "m2_test_f1 = f1_score(y1_test, y1_pred)\n",
    "print(f\"Test F1-Score        {m2_test_f1}\")"
   ]
  },
  {
   "cell_type": "code",
   "execution_count": 70,
   "metadata": {},
   "outputs": [
    {
     "name": "stdout",
     "output_type": "stream",
     "text": [
      "              precision    recall  f1-score   support\n",
      "\n",
      "       False       0.59      0.60      0.60      1411\n",
      "        True       0.59      0.58      0.59      1398\n",
      "\n",
      "    accuracy                           0.59      2809\n",
      "   macro avg       0.59      0.59      0.59      2809\n",
      "weighted avg       0.59      0.59      0.59      2809\n",
      "\n"
     ]
    }
   ],
   "source": [
    "from sklearn.metrics import classification_report\n",
    "print(classification_report(y1_test, y1_pred))"
   ]
  },
  {
   "cell_type": "raw",
   "metadata": {
    "colab": {
     "base_uri": "https://localhost:8080/",
     "height": 265
    },
    "id": "hPykr_aQSanD",
    "outputId": "3c94bf31-94ce-437e-cac1-1978498e1a01"
   },
   "source": [
    "model_eval = pd.DataFrame({'Model': ['skewed','adjusted'], 'Accuracy': [m1_acc_score, m2_acc_score]})\n",
    "model_eval = model_eval.set_index('Model').sort_values(by='Accuracy',ascending=False)\n",
    "fig = plt.figure(figsize=(20, 4))\n",
    "gs = fig.add_gridspec(1, 2)\n",
    "gs.update(wspace=0.6, hspace=0.6)\n",
    "ax0 = fig.add_subplot(gs[0, 0])\n",
    "sns.heatmap(model_eval,cmap=\"PiYG\",annot=True,fmt=\".1%\", linewidths=4,cbar=False,ax=ax0)\n",
    "plt.show()"
   ]
  },
  {
   "cell_type": "code",
   "execution_count": 71,
   "metadata": {
    "id": "9BNR6COTsRrp"
   },
   "outputs": [],
   "source": [
    "import pickle\n",
    "# save the model \n",
    "filename = 'hour_model_01.sav' \n",
    "pickle.dump(automl, open(filename, 'wb'))"
   ]
  },
  {
   "cell_type": "code",
   "execution_count": 72,
   "metadata": {
    "colab": {
     "base_uri": "https://localhost:8080/"
    },
    "id": "cwiGyn4DtyFz",
    "outputId": "9e835ca9-a78c-4cd1-fbc1-5a5e9e3be4e1"
   },
   "outputs": [
    {
     "name": "stdout",
     "output_type": "stream",
     "text": [
      "0.5927376290494838\n"
     ]
    }
   ],
   "source": [
    "#load the model\n",
    "loaded_model = pickle.load(open(filename, 'rb'))\n",
    "result = loaded_model.score(X1_test, y1_test)\n",
    "print(result)"
   ]
  },
  {
   "cell_type": "code",
   "execution_count": 73,
   "metadata": {
    "colab": {
     "base_uri": "https://localhost:8080/"
    },
    "id": "wkLUrfIoSxhh",
    "outputId": "30ef9016-f6b4-4d62-e6ed-52aa8cadfe1b"
   },
   "outputs": [
    {
     "name": "stdout",
     "output_type": "stream",
     "text": [
      "Random Forest size: 0.19 MB\n"
     ]
    }
   ],
   "source": [
    "import os\n",
    "import joblib\n",
    "# save the model \n",
    "joblib.dump(automl, filename)\n",
    "print(f\"Random Forest size: {np.round(os.path.getsize(filename) / 1024 / 1024, 2) } MB\")"
   ]
  },
  {
   "cell_type": "raw",
   "metadata": {},
   "source": [
    "from sklite import LazyExport\n",
    "\n",
    "extracted_model = automl.to_sklearn()\n",
    "verify_only_sklearn_objects(extracted_model)\n",
    "print(extracted_model.__repr__(N_CHAR_MAX=100000))\n",
    "lazy = LazyExport(extracted_model)\n",
    "lazy.save('final_model6.json')"
   ]
  },
  {
   "cell_type": "code",
   "execution_count": 74,
   "metadata": {},
   "outputs": [
    {
     "name": "stdout",
     "output_type": "stream",
     "text": [
      "True\n",
      "0.5179434092477572\n",
      "0.49228471644339744\n"
     ]
    },
    {
     "data": {
      "text/html": [
       "<div>\n",
       "<style scoped>\n",
       "    .dataframe tbody tr th:only-of-type {\n",
       "        vertical-align: middle;\n",
       "    }\n",
       "\n",
       "    .dataframe tbody tr th {\n",
       "        vertical-align: top;\n",
       "    }\n",
       "\n",
       "    .dataframe thead th {\n",
       "        text-align: right;\n",
       "    }\n",
       "</style>\n",
       "<table border=\"1\" class=\"dataframe\">\n",
       "  <thead>\n",
       "    <tr style=\"text-align: right;\">\n",
       "      <th></th>\n",
       "      <th>lat</th>\n",
       "      <th>lon</th>\n",
       "      <th>hour</th>\n",
       "      <th>temp</th>\n",
       "      <th>windSpeed</th>\n",
       "      <th>windDeg</th>\n",
       "      <th>rain</th>\n",
       "      <th>humid</th>\n",
       "      <th>cloud</th>\n",
       "      <th>press</th>\n",
       "      <th>dewPoint</th>\n",
       "      <th>daysSinceSpring</th>\n",
       "    </tr>\n",
       "  </thead>\n",
       "  <tbody>\n",
       "    <tr>\n",
       "      <th>0</th>\n",
       "      <td>-35.2</td>\n",
       "      <td>149.1</td>\n",
       "      <td>11</td>\n",
       "      <td>16.4</td>\n",
       "      <td>5.7</td>\n",
       "      <td>194</td>\n",
       "      <td>0.65</td>\n",
       "      <td>77</td>\n",
       "      <td>74</td>\n",
       "      <td>1015</td>\n",
       "      <td>12.0</td>\n",
       "      <td>38</td>\n",
       "    </tr>\n",
       "  </tbody>\n",
       "</table>\n",
       "</div>"
      ],
      "text/plain": [
       "    lat    lon  hour  temp  windSpeed  windDeg  rain  humid  cloud  press  \\\n",
       "0 -35.2  149.1    11  16.4        5.7      194  0.65     77     74   1015   \n",
       "\n",
       "   dewPoint  daysSinceSpring  \n",
       "0      12.0               38  "
      ]
     },
     "execution_count": 74,
     "metadata": {},
     "output_type": "execute_result"
    }
   ],
   "source": [
    "# define one new data instance\n",
    "#Xsample = {'day': 0.30, 'eve': 0.15, 'min': 0.16, 'max': 0.07, 'night': 0.18, 'morn': 0.27, 'feelsLike': 0.20, 'windSpeed': 0.38, 'windGust': 0.48, 'rain': 0.99, 'humid': 0.76, 'cloud': 0.99, 'press': 0.54, 'dewPoint': 0.57, 'uvi': 0.43}\n",
    "#Xsample = {'lat': -35.1968, 'day': 16.37, 'eve': 13.05, 'min': 8.35, 'max': 16.37, 'night': 8.35, 'morn': 10.38, 'feelsLike': 16.07, 'windSpeed': 5.64, 'windGust': 7.2, 'rain': 1, 'humid': 77, 'cloud': 73, 'press': 1014, 'dewPoint': 11.95, 'uvi': 6.05}\n",
    "#Xsample = {'lat': -35.0, 'day': 22, 'eve': 18, 'min': 13, 'max': 23, 'night': 16, 'morn': 17, 'feelsLike': 23, 'windSpeed': 4, 'windGust': 4, 'rain': 0, 'humid': 70, 'cloud': 0, 'press': 1010, 'dewPoint': 18.43, 'uvi': 6}\n",
    "Xsample = {'lat': -35.2, 'lon': 149.1, 'hour': 11, 'dayOfYear': 281, 'month': 10, 'season': 4, 'northern': False, 'daysSinceSpring': 38, 'day': 16.4, 'eve': 13.1, 'min': 8.3, 'max': 16.4, 'night': 8.4, 'morn': 10.5, 'temp': 16.4, 'feelsLike': 16.1, 'windSpeed': 5.7, 'windGust': 7.1, 'windDeg': 194, 'rain': 0.65, 'humid': 77, 'cloud': 74, 'press': 1015, 'dewPoint': 12.0, 'uvi': 6.1}\n",
    "#Xsample = {'lat': -28.0, 'lon': 153.0, 'northern': False, 'daysSinceSpring': 140, 'day': 27.0, 'windSpeed': 5.7, 'windGust': 7.1, 'rain': 0.95, 'humid': 77, 'cloud': 74, 'press': 1013, 'dewPoint': 12.0, 'uvi': 6.1}\n",
    "#print(Xsample)\n",
    "\n",
    "#Xsample[\"deltaDay\"] = true_temp(Xsample[\"day\"])\n",
    "#Xsample[\"deltaWind\"] = true_wind(Xsample[\"windSpeed\"])\n",
    "#Xsample[\"deltaHumid\"] = true_humidity(Xsample[\"humid\"])\n",
    "#Xsample[\"deltaCloud\"] = true_cloud(Xsample[\"cloud\"])\n",
    "#Xsample[\"deltaPress\"] = true_pressure(Xsample[\"press\"])\n",
    "\n",
    "\n",
    "Xtest = [Xsample]\n",
    "Xnew = pd.DataFrame(data=Xtest, columns=X1_train.columns)\n",
    "#print(Xnew)\n",
    "\n",
    "# make a prediction\n",
    "print(automl.predict(Xnew)[0])\n",
    "\n",
    "# make a prediction\n",
    "print(automl.predict_proba(Xnew)[0][1])\n",
    "print(calibrated.predict_proba(Xnew)[0][1])\n",
    "\n",
    "# get decision path\n",
    "#print(automl.decision_path(Xnew))\n",
    "\n",
    "# show the inputs and predicted outputs\n",
    "Xnew"
   ]
  },
  {
   "cell_type": "code",
   "execution_count": 75,
   "metadata": {},
   "outputs": [],
   "source": [
    "def chart_parameter(title, parameter, true_fun, pMin, pMax):   \n",
    "    Xtest = []\n",
    "    for i in np.linspace(pMin, pMax, 100):\n",
    "        XsampleCopy = Xsample.copy()\n",
    "        XsampleCopy[parameter] = i\n",
    "        #XsampleCopy[\"deltaDay\"] = true_temp(XsampleCopy[\"day\"])\n",
    "        #XsampleCopy[\"deltaWind\"] = true_wind(XsampleCopy[\"windSpeed\"])\n",
    "        #XsampleCopy[\"deltaHumid\"] = true_humidity(XsampleCopy[\"humid\"])\n",
    "        #XsampleCopy[\"deltaCloud\"] = true_cloud(XsampleCopy[\"cloud\"])\n",
    "        #XsampleCopy[\"deltaPress\"] = true_pressure(XsampleCopy[\"press\"])\n",
    "        Xtest.append(XsampleCopy)\n",
    "\n",
    "    Xnew = pd.DataFrame(data=Xtest, columns=X1_train.columns)\n",
    "    #print(Xnew)\n",
    "\n",
    "    n_samples = 0\n",
    "    degrees = [1]\n",
    "\n",
    "    #X = np.sort(np.random.rand(n_samples))\n",
    "    #y = true_fun(X) + np.random.randn(n_samples) * 0.1\n",
    "    #y = map_true_fun(X, true_fun)\n",
    "\n",
    "    plt.figure(figsize=(14, 4))\n",
    "    for i in range(len(degrees)):\n",
    "        ax = plt.subplot(1, len(degrees), i + 1)\n",
    "        #plt.setp(ax, xticks=())\n",
    "\n",
    "        X_test = np.linspace(pMin, pMax, 100)\n",
    "        #prediction = automl.predict_proba(Xnew)\n",
    "        prediction = [item[1] for item in automl.predict_proba(Xnew)]\n",
    "        plt.plot(X_test, prediction, label=\"Model\")\n",
    "        plt.plot(X_test, map_true_fun(X_test, true_fun), label=\"App\")\n",
    "        #plt.scatter(X, y, edgecolor=\"b\", s=20, label=\"Samples\")\n",
    "        plt.xlabel(\"Parameter\")\n",
    "        plt.ylabel(\"Confidence\")\n",
    "        plt.xlim((pMin, pMax))\n",
    "        plt.ylim((-0.05, 1.05))\n",
    "        plt.legend(loc=\"best\")\n",
    "        plt.title(title)\n",
    "    plt.show()\n",
    "    prediction"
   ]
  },
  {
   "cell_type": "raw",
   "metadata": {},
   "source": [
    "chart_parameter('Day of Year', 'dayofYear', true_funct, 0, 366)"
   ]
  },
  {
   "cell_type": "raw",
   "metadata": {},
   "source": [
    "chart_parameter('Season', 'season', true_funct, 1, 4)"
   ]
  },
  {
   "cell_type": "raw",
   "metadata": {},
   "source": [
    "chart_parameter('Month', 'month', true_funct, 1, 12)"
   ]
  },
  {
   "cell_type": "raw",
   "metadata": {},
   "source": [
    "chart_parameter('Hemisphere', 'northern', true_funct, False, True)"
   ]
  },
  {
   "cell_type": "code",
   "execution_count": 76,
   "metadata": {},
   "outputs": [
    {
     "data": {
      "image/png": "[encoded data removed]",
      "text/plain": [
       "<Figure size 1400x400 with 1 Axes>"
      ]
     },
     "metadata": {},
     "output_type": "display_data"
    }
   ],
   "source": [
    "chart_parameter('Days Since Spring', 'daysSinceSpring', true_funct, 1, 366)"
   ]
  },
  {
   "cell_type": "code",
   "execution_count": 77,
   "metadata": {},
   "outputs": [
    {
     "data": {
      "image/png": "[encoded data removed]",
      "text/plain": [
       "<Figure size 1400x400 with 1 Axes>"
      ]
     },
     "metadata": {},
     "output_type": "display_data"
    }
   ],
   "source": [
    "chart_parameter('Hour', 'hour', true_funct, 1, 24)"
   ]
  },
  {
   "cell_type": "code",
   "execution_count": 78,
   "metadata": {},
   "outputs": [],
   "source": [
    "#chart_parameter('Morning Temp', 'morn', true_temp, 0, 40)"
   ]
  },
  {
   "cell_type": "code",
   "execution_count": 79,
   "metadata": {},
   "outputs": [],
   "source": [
    "#chart_parameter('Day Temp', 'day', true_temp, 0, 40)"
   ]
  },
  {
   "cell_type": "code",
   "execution_count": 80,
   "metadata": {},
   "outputs": [],
   "source": [
    "#chart_parameter('Eve Temp', 'eve', true_temp, 0, 40)"
   ]
  },
  {
   "cell_type": "code",
   "execution_count": 81,
   "metadata": {},
   "outputs": [],
   "source": [
    "#chart_parameter('Min Temp', 'min', true_temp, 0, 40)"
   ]
  },
  {
   "cell_type": "code",
   "execution_count": 82,
   "metadata": {},
   "outputs": [],
   "source": [
    "#chart_parameter('Max Temp', 'max', true_temp, 0, 40)"
   ]
  },
  {
   "cell_type": "code",
   "execution_count": 83,
   "metadata": {},
   "outputs": [
    {
     "data": {
      "image/png": "[encoded data removed]",
      "text/plain": [
       "<Figure size 1400x400 with 1 Axes>"
      ]
     },
     "metadata": {},
     "output_type": "display_data"
    }
   ],
   "source": [
    "chart_parameter('Max Temp', 'temp', true_temp, 0, 40)"
   ]
  },
  {
   "cell_type": "code",
   "execution_count": 84,
   "metadata": {},
   "outputs": [
    {
     "data": {
      "image/png": "[encoded data removed]",
      "text/plain": [
       "<Figure size 1400x400 with 1 Axes>"
      ]
     },
     "metadata": {},
     "output_type": "display_data"
    }
   ],
   "source": [
    "chart_parameter('Wind Speed', 'windSpeed', true_wind, 0, 15)"
   ]
  },
  {
   "cell_type": "code",
   "execution_count": 85,
   "metadata": {},
   "outputs": [],
   "source": [
    "#chart_parameter('Wind Gust', 'windGust', true_wind, 0, 15)"
   ]
  },
  {
   "cell_type": "code",
   "execution_count": 86,
   "metadata": {},
   "outputs": [
    {
     "data": {
      "image/png": "[encoded data removed]",
      "text/plain": [
       "<Figure size 1400x400 with 1 Axes>"
      ]
     },
     "metadata": {},
     "output_type": "display_data"
    }
   ],
   "source": [
    "chart_parameter('Wind Degree', 'windDeg', true_funct, 0, 360)"
   ]
  },
  {
   "cell_type": "code",
   "execution_count": 87,
   "metadata": {},
   "outputs": [
    {
     "data": {
      "image/png": "[encoded data removed]",
      "text/plain": [
       "<Figure size 1400x400 with 1 Axes>"
      ]
     },
     "metadata": {},
     "output_type": "display_data"
    }
   ],
   "source": [
    "chart_parameter('Cloud Cover', 'cloud', true_cloud, 0, 100)"
   ]
  },
  {
   "cell_type": "code",
   "execution_count": 88,
   "metadata": {},
   "outputs": [
    {
     "data": {
      "image/png": "[encoded data removed]",
      "text/plain": [
       "<Figure size 1400x400 with 1 Axes>"
      ]
     },
     "metadata": {},
     "output_type": "display_data"
    }
   ],
   "source": [
    "chart_parameter('Pressure', 'press', true_pressure, 995, 1030)"
   ]
  },
  {
   "cell_type": "code",
   "execution_count": 89,
   "metadata": {},
   "outputs": [
    {
     "data": {
      "image/png": "[encoded data removed]",
      "text/plain": [
       "<Figure size 1400x400 with 1 Axes>"
      ]
     },
     "metadata": {},
     "output_type": "display_data"
    }
   ],
   "source": [
    "chart_parameter('Rain Probability', 'rain', true_rain, 0, 1)"
   ]
  },
  {
   "cell_type": "code",
   "execution_count": 90,
   "metadata": {
    "scrolled": true
   },
   "outputs": [
    {
     "data": {
      "image/png": "[encoded data removed]",
      "text/plain": [
       "<Figure size 1400x400 with 1 Axes>"
      ]
     },
     "metadata": {},
     "output_type": "display_data"
    }
   ],
   "source": [
    "chart_parameter('Humidity', 'humid', true_humidity, 0, 100)"
   ]
  },
  {
   "cell_type": "raw",
   "metadata": {
    "scrolled": true
   },
   "source": [
    "chart_parameter('UVI', 'uvi', true_uvi, 0, 14)"
   ]
  },
  {
   "cell_type": "code",
   "execution_count": 91,
   "metadata": {},
   "outputs": [
    {
     "data": {
      "image/png": "[encoded data removed]",
      "text/plain": [
       "<Figure size 1400x400 with 1 Axes>"
      ]
     },
     "metadata": {},
     "output_type": "display_data"
    }
   ],
   "source": [
    "chart_parameter('Dew Point', 'dewPoint', true_dewPoint, 0, 25)"
   ]
  },
  {
   "cell_type": "code",
   "execution_count": 92,
   "metadata": {},
   "outputs": [
    {
     "data": {
      "image/png": "[encoded data removed]",
      "text/plain": [
       "<Figure size 1400x400 with 1 Axes>"
      ]
     },
     "metadata": {},
     "output_type": "display_data"
    }
   ],
   "source": [
    "chart_parameter('Latitude', 'lat', true_funct, -90, 90)"
   ]
  },
  {
   "cell_type": "code",
   "execution_count": 93,
   "metadata": {},
   "outputs": [
    {
     "data": {
      "image/png": "[encoded data removed]",
      "text/plain": [
       "<Figure size 1400x400 with 1 Axes>"
      ]
     },
     "metadata": {},
     "output_type": "display_data"
    }
   ],
   "source": [
    "chart_parameter('Longitude', 'lon', true_funct, -180, 180)"
   ]
  },
  {
   "cell_type": "code",
   "execution_count": 94,
   "metadata": {},
   "outputs": [
    {
     "name": "stdout",
     "output_type": "stream",
     "text": [
      "Random Forest size: 0.31 MB\n"
     ]
    }
   ],
   "source": [
    "from sklearn import linear_model, tree\n",
    "import m2cgen as m2c\n",
    "import pickle\n",
    "\n",
    "code = m2c.export_to_dart(automl)\n",
    "\n",
    "# save the model \n",
    "filename = 'hour_model_01.dart' \n",
    "text_file = open(filename, \"w\")\n",
    "n = text_file.write(code)\n",
    "text_file.close()\n",
    "print(f\"Random Forest size: {np.round(os.path.getsize(filename) / 1024 / 1024, 2) } MB\")"
   ]
  },
  {
   "cell_type": "code",
   "execution_count": 95,
   "metadata": {},
   "outputs": [],
   "source": [
    "from sklite import LazyExport\n",
    "lazy = LazyExport(automl)\n",
    "lazy.save('hour_model_01.json', force_override=True)"
   ]
  },
  {
   "cell_type": "code",
   "execution_count": null,
   "metadata": {},
   "outputs": [],
   "source": []
  }
 ],
 "metadata": {
  "colab": {
   "collapsed_sections": [],
   "name": "autosklearn_AV_classification_working",
   "provenance": []
  },
  "kernelspec": {
   "display_name": "Python 3 (ipykernel)",
   "language": "python",
   "name": "python3"
  },
  "language_info": {
   "codemirror_mode": {
    "name": "ipython",
    "version": 3
   },
   "file_extension": ".py",
   "mimetype": "text/x-python",
   "name": "python",
   "nbconvert_exporter": "python",
   "pygments_lexer": "ipython3",
   "version": "3.8.10"
  }
 },
 "nbformat": 4,
 "nbformat_minor": 1
}
